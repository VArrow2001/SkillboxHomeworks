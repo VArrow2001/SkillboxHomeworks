{
 "cells": [
  {
   "cell_type": "markdown",
   "metadata": {
    "colab_type": "text",
    "id": "jwcdli7zqLmh"
   },
   "source": [
    "# Готовим данные для домашки"
   ]
  },
  {
   "cell_type": "code",
   "execution_count": 1,
   "metadata": {
    "colab": {},
    "colab_type": "code",
    "id": "F65Fq_zXqLmq",
    "outputId": "06655ee8-8f3a-478a-f322-8a228ba662a6"
   },
   "outputs": [
    {
     "data": {
      "text/html": [
       "<div>\n",
       "<style scoped>\n",
       "    .dataframe tbody tr th:only-of-type {\n",
       "        vertical-align: middle;\n",
       "    }\n",
       "\n",
       "    .dataframe tbody tr th {\n",
       "        vertical-align: top;\n",
       "    }\n",
       "\n",
       "    .dataframe thead th {\n",
       "        text-align: right;\n",
       "    }\n",
       "</style>\n",
       "<table border=\"1\" class=\"dataframe\">\n",
       "  <thead>\n",
       "    <tr style=\"text-align: right;\">\n",
       "      <th></th>\n",
       "      <th>air_quality.csv</th>\n",
       "      <th>Time</th>\n",
       "      <th>CO(GT)</th>\n",
       "      <th>PT08.S1(CO)</th>\n",
       "      <th>NMHC(GT)</th>\n",
       "      <th>C6H6(GT)</th>\n",
       "      <th>PT08.S2(NMHC)</th>\n",
       "      <th>NOx(GT)</th>\n",
       "      <th>PT08.S3(NOx)</th>\n",
       "      <th>NO2(GT)</th>\n",
       "      <th>PT08.S4(NO2)</th>\n",
       "      <th>PT08.S5(O3)</th>\n",
       "      <th>T</th>\n",
       "      <th>RH</th>\n",
       "      <th>AH</th>\n",
       "      <th>ts</th>\n",
       "    </tr>\n",
       "  </thead>\n",
       "  <tbody>\n",
       "    <tr>\n",
       "      <th>0</th>\n",
       "      <td>10/03/2004</td>\n",
       "      <td>18.00.00</td>\n",
       "      <td>2,6</td>\n",
       "      <td>1360.0</td>\n",
       "      <td>150.0</td>\n",
       "      <td>11,9</td>\n",
       "      <td>1046.0</td>\n",
       "      <td>166.0</td>\n",
       "      <td>1056.0</td>\n",
       "      <td>113.0</td>\n",
       "      <td>1692.0</td>\n",
       "      <td>1268.0</td>\n",
       "      <td>13,6</td>\n",
       "      <td>48,9</td>\n",
       "      <td>0,7578</td>\n",
       "      <td>2004-03-10 18:00:00</td>\n",
       "    </tr>\n",
       "    <tr>\n",
       "      <th>1</th>\n",
       "      <td>10/03/2004</td>\n",
       "      <td>19.00.00</td>\n",
       "      <td>2</td>\n",
       "      <td>1292.0</td>\n",
       "      <td>112.0</td>\n",
       "      <td>9,4</td>\n",
       "      <td>955.0</td>\n",
       "      <td>103.0</td>\n",
       "      <td>1174.0</td>\n",
       "      <td>92.0</td>\n",
       "      <td>1559.0</td>\n",
       "      <td>972.0</td>\n",
       "      <td>13,3</td>\n",
       "      <td>47,7</td>\n",
       "      <td>0,7255</td>\n",
       "      <td>2004-03-10 19:00:00</td>\n",
       "    </tr>\n",
       "    <tr>\n",
       "      <th>2</th>\n",
       "      <td>10/03/2004</td>\n",
       "      <td>20.00.00</td>\n",
       "      <td>2,2</td>\n",
       "      <td>1402.0</td>\n",
       "      <td>88.0</td>\n",
       "      <td>9,0</td>\n",
       "      <td>939.0</td>\n",
       "      <td>131.0</td>\n",
       "      <td>1140.0</td>\n",
       "      <td>114.0</td>\n",
       "      <td>1555.0</td>\n",
       "      <td>1074.0</td>\n",
       "      <td>11,9</td>\n",
       "      <td>54,0</td>\n",
       "      <td>0,7502</td>\n",
       "      <td>2004-03-10 20:00:00</td>\n",
       "    </tr>\n",
       "    <tr>\n",
       "      <th>3</th>\n",
       "      <td>10/03/2004</td>\n",
       "      <td>21.00.00</td>\n",
       "      <td>2,2</td>\n",
       "      <td>1376.0</td>\n",
       "      <td>80.0</td>\n",
       "      <td>9,2</td>\n",
       "      <td>948.0</td>\n",
       "      <td>172.0</td>\n",
       "      <td>1092.0</td>\n",
       "      <td>122.0</td>\n",
       "      <td>1584.0</td>\n",
       "      <td>1203.0</td>\n",
       "      <td>11,0</td>\n",
       "      <td>60,0</td>\n",
       "      <td>0,7867</td>\n",
       "      <td>2004-03-10 21:00:00</td>\n",
       "    </tr>\n",
       "    <tr>\n",
       "      <th>4</th>\n",
       "      <td>10/03/2004</td>\n",
       "      <td>22.00.00</td>\n",
       "      <td>1,6</td>\n",
       "      <td>1272.0</td>\n",
       "      <td>51.0</td>\n",
       "      <td>6,5</td>\n",
       "      <td>836.0</td>\n",
       "      <td>131.0</td>\n",
       "      <td>1205.0</td>\n",
       "      <td>116.0</td>\n",
       "      <td>1490.0</td>\n",
       "      <td>1110.0</td>\n",
       "      <td>11,2</td>\n",
       "      <td>59,6</td>\n",
       "      <td>0,7888</td>\n",
       "      <td>2004-03-10 22:00:00</td>\n",
       "    </tr>\n",
       "  </tbody>\n",
       "</table>\n",
       "</div>"
      ],
      "text/plain": [
       "  air_quality.csv      Time CO(GT)  PT08.S1(CO)  NMHC(GT) C6H6(GT)  \\\n",
       "0      10/03/2004  18.00.00    2,6       1360.0     150.0     11,9   \n",
       "1      10/03/2004  19.00.00      2       1292.0     112.0      9,4   \n",
       "2      10/03/2004  20.00.00    2,2       1402.0      88.0      9,0   \n",
       "3      10/03/2004  21.00.00    2,2       1376.0      80.0      9,2   \n",
       "4      10/03/2004  22.00.00    1,6       1272.0      51.0      6,5   \n",
       "\n",
       "   PT08.S2(NMHC)  NOx(GT)  PT08.S3(NOx)  NO2(GT)  PT08.S4(NO2)  PT08.S5(O3)  \\\n",
       "0         1046.0    166.0        1056.0    113.0        1692.0       1268.0   \n",
       "1          955.0    103.0        1174.0     92.0        1559.0        972.0   \n",
       "2          939.0    131.0        1140.0    114.0        1555.0       1074.0   \n",
       "3          948.0    172.0        1092.0    122.0        1584.0       1203.0   \n",
       "4          836.0    131.0        1205.0    116.0        1490.0       1110.0   \n",
       "\n",
       "      T    RH      AH                  ts  \n",
       "0  13,6  48,9  0,7578 2004-03-10 18:00:00  \n",
       "1  13,3  47,7  0,7255 2004-03-10 19:00:00  \n",
       "2  11,9  54,0  0,7502 2004-03-10 20:00:00  \n",
       "3  11,0  60,0  0,7867 2004-03-10 21:00:00  \n",
       "4  11,2  59,6  0,7888 2004-03-10 22:00:00  "
      ]
     },
     "execution_count": 1,
     "metadata": {},
     "output_type": "execute_result"
    }
   ],
   "source": [
    "import pandas as pd\n",
    "from datetime import datetime\n",
    "\n",
    "air_df = pd.read_csv('./data/air_quality.tar.gz', compression='gzip', sep=';', encoding='utf8')\n",
    "air_df = air_df[air_df.iloc[:,0].notnull()]\n",
    "\n",
    "# формируем \n",
    "air_df['ts'] = (air_df.iloc[:,0]+ ' ' + air_df.iloc[:,1]).map(\n",
    "    lambda x: datetime.strptime(x.replace('.',':'), \"%d/%m/%Y %H:%M:%S\")\n",
    ")\n",
    "\n",
    "air_df.head(5)"
   ]
  },
  {
   "cell_type": "markdown",
   "metadata": {
    "colab_type": "text",
    "id": "mW14E167qLm_"
   },
   "source": [
    "# Визуализация данных с помощью matplotlib \n",
    "\n",
    "## 1. Чтение текстовых файлов, файловые дескрипторы\n",
    "\n",
    "### 1.1\n",
    "\n",
    "**Простая задача** Выберите любой показатель загрязнённости воздуха (кроме NOx(GT), его мы использовали в туториале) и постройте график по 30 последним доступным наблюдениям.\n",
    "\n",
    "*Результат выполнения*\n",
    "\n",
    "Должен получиться такой же график, как для NOx(GT) (из второго урока данного модуля).\n",
    "![title](https://248006.selcdn.ru/public/Data-science-2/img/PearsonFig.jpg)"
   ]
  },
  {
   "cell_type": "code",
   "execution_count": 12,
   "metadata": {
    "colab": {},
    "colab_type": "code",
    "id": "oJsIbEB_qLnC"
   },
   "outputs": [
    {
     "data": {
      "image/png": "[encoded data removed]",
      "text/plain": [
       "<Figure size 432x288 with 1 Axes>"
      ]
     },
     "metadata": {
      "needs_background": "light"
     },
     "output_type": "display_data"
    }
   ],
   "source": [
    "import matplotlib.pyplot as plt\n",
    "import numpy as np\n",
    "from pandas.plotting import register_matplotlib_converters as rmc\n",
    "%matplotlib inline\n",
    "\n",
    "rmc()\n",
    "TOP = 30\n",
    "\n",
    "fig, subplot = plt.subplots()\n",
    "\n",
    "x_ticks = air_df['ts'].values[:TOP]\n",
    "y_ticks = np.array(list(map(lambda x: float(x.replace(',', '.')), air_df['C6H6(GT)'].values[:TOP])))\n",
    "subplot.plot(x_ticks, y_ticks)\n",
    "\n",
    "subplot.set_title('C6H6(GT) : Time')\n",
    "x_labels = [pd.to_datetime(str(i)).strftime(\"%m.%d %H:%M\") for i in air_df['ts'].values[:TOP]]\n",
    "plt.xticks(x_ticks, rotation = 'vertical', labels = x_labels)\n",
    "\n",
    "x_min = air_df['ts'].values[0]\n",
    "x_max = air_df['ts'].values[TOP - 1]\n",
    "\n",
    "subplot.set_xlim(left = x_min, right = x_max)\n",
    "\n",
    "fig.tight_layout()\n",
    "\n",
    "plt.show()"
   ]
  },
  {
   "cell_type": "markdown",
   "metadata": {
    "colab_type": "text",
    "id": "JWwgMIGgqLnV"
   },
   "source": [
    "### 1.2\n",
    "\n",
    "**Задание среднего уровня** Постройте scatter plot между выбранным вами показателем и температурой (содержится в столбце `air_df['T]`)."
   ]
  },
  {
   "cell_type": "code",
   "execution_count": 26,
   "metadata": {
    "colab": {},
    "colab_type": "code",
    "id": "5Ql7HxopqLna"
   },
   "outputs": [
    {
     "data": {
      "text/plain": [
       "<matplotlib.collections.PathCollection at 0x234a4b5be48>"
      ]
     },
     "execution_count": 26,
     "metadata": {},
     "output_type": "execute_result"
    },
    {
     "data": {
      "image/png": "[encoded data removed]",
      "text/plain": [
       "<Figure size 432x288 with 1 Axes>"
      ]
     },
     "metadata": {
      "needs_background": "light"
     },
     "output_type": "display_data"
    }
   ],
   "source": [
    "# --ВАШ КОД ТУТ--\n",
    "\n",
    "fig, subplot = plt.subplots()\n",
    "x_ticks = air_df['T'].values[:TOP]\n",
    "\n",
    "subplot.scatter(\n",
    "    x = x_ticks, y = y_ticks,\n",
    "    marker = 'o', c = '0.775566', edgecolor = 'b'\n",
    ")"
   ]
  },
  {
   "cell_type": "markdown",
   "metadata": {
    "colab_type": "text",
    "id": "ElGWHq82qLnm"
   },
   "source": [
    "### 1.3\n",
    "\n",
    "**Задание высокого уровня** Аналогично тому, как мы строили два графика рядом, отобразите на одном полотне следующие 4 графика:\n",
    "<pre>\n",
    "['PT08.S1(CO)', 'NMHC(GT)', 'C6H6(GT)', 'PT08.S2(NMHC)'].\n",
    "</pre>\n",
    "По каждому показателю учитывайте только последние 30 наблюдений. Значения оси X используйте из столбца T.\n",
    "\n",
    "*Ожидаемый результат*\n",
    "\n",
    "![title](https://248006.selcdn.ru/public/Data-science-2/img/four_pack.png)"
   ]
  },
  {
   "cell_type": "code",
   "execution_count": 30,
   "metadata": {
    "colab": {},
    "colab_type": "code",
    "id": "sXwg9R4oqLnp"
   },
   "outputs": [
    {
     "data": {
      "image/png": "[encoded data removed]",
      "text/plain": [
       "<Figure size 432x288 with 4 Axes>"
      ]
     },
     "metadata": {
      "needs_background": "light"
     },
     "output_type": "display_data"
    }
   ],
   "source": [
    "# --ВАШ КОД ТУТ--\n",
    "\n",
    "import numpy as np\n",
    "from pandas.plotting import register_matplotlib_converters as rmc\n",
    "%matplotlib inline\n",
    "\n",
    "rmc()\n",
    "TOP = 30\n",
    "\n",
    "fig = plt.figure()\n",
    "\n",
    "sp_arr = [fig.add_subplot(220 + i) for i in range (1, 5)]\n",
    "elem = ['PT08.S1(CO)', 'NMHC(GT)', 'C6H6(GT)', 'PT08.S2(NMHC)']\n",
    "EL = 'T'\n",
    "\n",
    "for i in range(4):\n",
    "    sp_arr[i].plot(\n",
    "    air_df[EL].tail(30).values,\n",
    "    air_df[elem[i]].tail(30).values\n",
    "    )"
   ]
  },
  {
   "cell_type": "code",
   "execution_count": null,
   "metadata": {},
   "outputs": [],
   "source": []
  }
 ],
 "metadata": {
  "colab": {
   "collapsed_sections": [],
   "name": "jun_anl_matplotlib.ipynb",
   "provenance": []
  },
  "kernelspec": {
   "display_name": "Python 3",
   "language": "python",
   "name": "python3"
  },
  "language_info": {
   "codemirror_mode": {
    "name": "ipython",
    "version": 3
   },
   "file_extension": ".py",
   "mimetype": "text/x-python",
   "name": "python",
   "nbconvert_exporter": "python",
   "pygments_lexer": "ipython3",
   "version": "3.7.3"
  }
 },
 "nbformat": 4,
 "nbformat_minor": 1
}
