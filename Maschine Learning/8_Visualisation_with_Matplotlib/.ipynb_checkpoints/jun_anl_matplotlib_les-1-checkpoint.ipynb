{
 "cells": [
  {
   "cell_type": "markdown",
   "metadata": {},
   "source": [
    "# Архитектура matplotlib\n",
    "\n",
    "Matplotlib был [создан в 2003 году](https://matplotlib.org/users/history.html), создатель постарался унаследовать интерфейс проекта **MATLAB** для построения графиков.\n",
    "\n",
    "[Архитектурно](https://www.aosabook.org/en/matplotlib.html) Matplotlib из трёх частей\n",
    "\n",
    "* [Backend Layer](https://matplotlib.org/faq/usage_faq.html#what-is-a-backend) - имплементация низком уровне объектов для отрисовки\n",
    " * FigureCanvas - поверхность для отрисовки (например, файлы PDF, PNG, SVG, или PS)\n",
    " * Renderer - собственно рисователь (примитивы draw_point, draw_line, draw_rectangle, draw_image и т.д.)\n",
    " * Event - цикл перехватывания и обработки пользовательских событий (примитивы key-press-event, mouse-motion-event)\n",
    "* [Artist Layer](https://matplotlib.org/tutorials/intermediate/artists.html) отвечает за интеракции с Renderer->Canvas, реализует метод `draw`. Например, в этот слой входит [Axis](https://github.com/matplotlib/matplotlib/blob/master/lib/matplotlib/axes/_axes.py)\n",
    "* Scripting Layer (pyplot) - API верхнего уровня, которым непосредственно пользуются разработчики.\n",
    "\n",
    "Разработчики взаимодействуют с верхним (скриптовым) уровнем `pyplot`. В сети есть множество примеров построения графиков с использованием [pylab](https://github.com/matplotlib/matplotlib/blob/master/lib/matplotlib/pylab.py) - это устаревший код, так делать не нужно. Графики рекомендуется строить с помощью интерфейсса [pyplot](https://github.com/matplotlib/matplotlib/blob/master/lib/matplotlib/pyplot.py)"
   ]
  },
  {
   "cell_type": "markdown",
   "metadata": {},
   "source": [
    "Каждый график основывается представляет собой древовидную структуру объектов matplotlib - от \"главных\" объектов всё ниже и ниже до объектов нижнего уровня. На верхнем уровне - объект **Figure**, который может включать в себя несколько объектов **Axes** (различные линии, графики, оси координат, легенды и т.д.)\n",
    "\n",
    "Объект Axes, в свою очередь, содержит набор элементов холста (более низкого уровня иерархии): \n",
    "* Axis - координатные оси\n",
    "* Tick - отметки на координатной оси\n",
    "* Line2D - объект линии\n",
    "* Text - объект теста\n",
    "* Polygon - многоугольник\n",
    "\n",
    "А так же Axes содержит элементы координатной системы.\n",
    "\n",
    "Для примера продемонстрируем, как нарисовать точку"
   ]
  },
  {
   "cell_type": "code",
   "execution_count": 1,
   "metadata": {},
   "outputs": [
    {
     "name": "stdout",
     "output_type": "stream",
     "text": [
      "объект Figure: <class 'matplotlib.figure.Figure'>, \n",
      "объект subplot: <class 'matplotlib.axes._subplots.AxesSubplot'>, \n",
      "Иерархический доступ к объекту Subplot: <class 'matplotlib.axes._subplots.AxesSubplot'>\n",
      "\n"
     ]
    },
    {
     "data": {
      "text/plain": [
       "[<matplotlib.lines.Line2D at 0x2006d2745f8>]"
      ]
     },
     "execution_count": 1,
     "metadata": {},
     "output_type": "execute_result"
    },
    {
     "data": {
      "image/png": "[encoded data removed]",
      "text/plain": [
       "<Figure size 432x288 with 1 Axes>"
      ]
     },
     "metadata": {
      "needs_background": "light"
     },
     "output_type": "display_data"
    }
   ],
   "source": [
    "import matplotlib.pyplot as plt\n",
    "# для корректного отображения в ноутбучеках\n",
    "%matplotlib inline\n",
    "\n",
    "# получаем доступ к холсту для рисования\n",
    "fig, subplot = plt.subplots()\n",
    "\n",
    "# Типизация объектов из Matplotlib\n",
    "print(\"объект Figure: %s, \\nобъект subplot: %s, \\nИерархический доступ к объекту Subplot: %s\\n\" % (\n",
    "    type(fig), type(subplot), type(fig.axes[0])\n",
    "))\n",
    "# рисуем жирную точку в начале координат c с помощью метода plot\n",
    "subplot.plot([0], 'o', color='black')"
   ]
  },
  {
   "cell_type": "markdown",
   "metadata": {},
   "source": [
    "Метод **plt.plot()** – это удобный способ получения текущего объекта [Axes](https://matplotlib.org/api/axes_api.html#matplotlib.axes.Axes) из активного объекта Figure и совершения необходимых действий (действия реализуются в лучших традициях ООП, через сеттеры и геттеры, например: у нас есть метод для подписи графика [plt.title()](https://matplotlib.org/api/_as_gen/matplotlib.pyplot.title.html), который под камотом использует метод-сеттер [set_axis](https://github.com/matplotlib/matplotlib/blob/master/lib/matplotlib/axes/_axes.py#L128)). Основные элементы Matplotlib отображены на картинке из [официальной документации](https://matplotlib.org/examples/showcase/anatomy.html)"
   ]
  },
  {
   "cell_type": "markdown",
   "metadata": {},
   "source": [
    "Теперь загрузим датасет с измерениями показателей загрязнения воздуха [Air quality](http://archive.ics.uci.edu/ml/datasets/air+quality)"
   ]
  },
  {
   "cell_type": "code",
   "execution_count": 2,
   "metadata": {},
   "outputs": [
    {
     "data": {
      "text/html": [
       "<div>\n",
       "<style scoped>\n",
       "    .dataframe tbody tr th:only-of-type {\n",
       "        vertical-align: middle;\n",
       "    }\n",
       "\n",
       "    .dataframe tbody tr th {\n",
       "        vertical-align: top;\n",
       "    }\n",
       "\n",
       "    .dataframe thead th {\n",
       "        text-align: right;\n",
       "    }\n",
       "</style>\n",
       "<table border=\"1\" class=\"dataframe\">\n",
       "  <thead>\n",
       "    <tr style=\"text-align: right;\">\n",
       "      <th></th>\n",
       "      <th>air_quality.csv</th>\n",
       "      <th>Time</th>\n",
       "      <th>CO(GT)</th>\n",
       "      <th>PT08.S1(CO)</th>\n",
       "      <th>NMHC(GT)</th>\n",
       "      <th>C6H6(GT)</th>\n",
       "      <th>PT08.S2(NMHC)</th>\n",
       "      <th>NOx(GT)</th>\n",
       "      <th>PT08.S3(NOx)</th>\n",
       "      <th>NO2(GT)</th>\n",
       "      <th>PT08.S4(NO2)</th>\n",
       "      <th>PT08.S5(O3)</th>\n",
       "      <th>T</th>\n",
       "      <th>RH</th>\n",
       "      <th>AH</th>\n",
       "      <th>ts</th>\n",
       "    </tr>\n",
       "  </thead>\n",
       "  <tbody>\n",
       "    <tr>\n",
       "      <th>0</th>\n",
       "      <td>10/03/2004</td>\n",
       "      <td>18.00.00</td>\n",
       "      <td>2,6</td>\n",
       "      <td>1360.0</td>\n",
       "      <td>150.0</td>\n",
       "      <td>11,9</td>\n",
       "      <td>1046.0</td>\n",
       "      <td>166.0</td>\n",
       "      <td>1056.0</td>\n",
       "      <td>113.0</td>\n",
       "      <td>1692.0</td>\n",
       "      <td>1268.0</td>\n",
       "      <td>13,6</td>\n",
       "      <td>48,9</td>\n",
       "      <td>0,7578</td>\n",
       "      <td>2004-03-10 18:00:00</td>\n",
       "    </tr>\n",
       "    <tr>\n",
       "      <th>1</th>\n",
       "      <td>10/03/2004</td>\n",
       "      <td>19.00.00</td>\n",
       "      <td>2</td>\n",
       "      <td>1292.0</td>\n",
       "      <td>112.0</td>\n",
       "      <td>9,4</td>\n",
       "      <td>955.0</td>\n",
       "      <td>103.0</td>\n",
       "      <td>1174.0</td>\n",
       "      <td>92.0</td>\n",
       "      <td>1559.0</td>\n",
       "      <td>972.0</td>\n",
       "      <td>13,3</td>\n",
       "      <td>47,7</td>\n",
       "      <td>0,7255</td>\n",
       "      <td>2004-03-10 19:00:00</td>\n",
       "    </tr>\n",
       "    <tr>\n",
       "      <th>2</th>\n",
       "      <td>10/03/2004</td>\n",
       "      <td>20.00.00</td>\n",
       "      <td>2,2</td>\n",
       "      <td>1402.0</td>\n",
       "      <td>88.0</td>\n",
       "      <td>9,0</td>\n",
       "      <td>939.0</td>\n",
       "      <td>131.0</td>\n",
       "      <td>1140.0</td>\n",
       "      <td>114.0</td>\n",
       "      <td>1555.0</td>\n",
       "      <td>1074.0</td>\n",
       "      <td>11,9</td>\n",
       "      <td>54,0</td>\n",
       "      <td>0,7502</td>\n",
       "      <td>2004-03-10 20:00:00</td>\n",
       "    </tr>\n",
       "    <tr>\n",
       "      <th>3</th>\n",
       "      <td>10/03/2004</td>\n",
       "      <td>21.00.00</td>\n",
       "      <td>2,2</td>\n",
       "      <td>1376.0</td>\n",
       "      <td>80.0</td>\n",
       "      <td>9,2</td>\n",
       "      <td>948.0</td>\n",
       "      <td>172.0</td>\n",
       "      <td>1092.0</td>\n",
       "      <td>122.0</td>\n",
       "      <td>1584.0</td>\n",
       "      <td>1203.0</td>\n",
       "      <td>11,0</td>\n",
       "      <td>60,0</td>\n",
       "      <td>0,7867</td>\n",
       "      <td>2004-03-10 21:00:00</td>\n",
       "    </tr>\n",
       "    <tr>\n",
       "      <th>4</th>\n",
       "      <td>10/03/2004</td>\n",
       "      <td>22.00.00</td>\n",
       "      <td>1,6</td>\n",
       "      <td>1272.0</td>\n",
       "      <td>51.0</td>\n",
       "      <td>6,5</td>\n",
       "      <td>836.0</td>\n",
       "      <td>131.0</td>\n",
       "      <td>1205.0</td>\n",
       "      <td>116.0</td>\n",
       "      <td>1490.0</td>\n",
       "      <td>1110.0</td>\n",
       "      <td>11,2</td>\n",
       "      <td>59,6</td>\n",
       "      <td>0,7888</td>\n",
       "      <td>2004-03-10 22:00:00</td>\n",
       "    </tr>\n",
       "  </tbody>\n",
       "</table>\n",
       "</div>"
      ],
      "text/plain": [
       "  air_quality.csv      Time CO(GT)  PT08.S1(CO)  NMHC(GT) C6H6(GT)  \\\n",
       "0      10/03/2004  18.00.00    2,6       1360.0     150.0     11,9   \n",
       "1      10/03/2004  19.00.00      2       1292.0     112.0      9,4   \n",
       "2      10/03/2004  20.00.00    2,2       1402.0      88.0      9,0   \n",
       "3      10/03/2004  21.00.00    2,2       1376.0      80.0      9,2   \n",
       "4      10/03/2004  22.00.00    1,6       1272.0      51.0      6,5   \n",
       "\n",
       "   PT08.S2(NMHC)  NOx(GT)  PT08.S3(NOx)  NO2(GT)  PT08.S4(NO2)  PT08.S5(O3)  \\\n",
       "0         1046.0    166.0        1056.0    113.0        1692.0       1268.0   \n",
       "1          955.0    103.0        1174.0     92.0        1559.0        972.0   \n",
       "2          939.0    131.0        1140.0    114.0        1555.0       1074.0   \n",
       "3          948.0    172.0        1092.0    122.0        1584.0       1203.0   \n",
       "4          836.0    131.0        1205.0    116.0        1490.0       1110.0   \n",
       "\n",
       "      T    RH      AH                  ts  \n",
       "0  13,6  48,9  0,7578 2004-03-10 18:00:00  \n",
       "1  13,3  47,7  0,7255 2004-03-10 19:00:00  \n",
       "2  11,9  54,0  0,7502 2004-03-10 20:00:00  \n",
       "3  11,0  60,0  0,7867 2004-03-10 21:00:00  \n",
       "4  11,2  59,6  0,7888 2004-03-10 22:00:00  "
      ]
     },
     "execution_count": 2,
     "metadata": {},
     "output_type": "execute_result"
    }
   ],
   "source": [
    "import pandas as pd\n",
    "from datetime import datetime\n",
    "\n",
    "air_df = pd.read_csv('./data/air_quality.tar.gz', compression='gzip', sep=';', encoding='utf8')\n",
    "air_df = air_df[air_df.iloc[:,0].notnull()]\n",
    "\n",
    "# формируем столбец с таймстемпом\n",
    "air_df['ts'] = (air_df.iloc[:,0]+ ' ' + air_df.iloc[:,1]).map(\n",
    "    lambda x: datetime.strptime(x.replace('.',':'), \"%d/%m/%Y %H:%M:%S\")\n",
    ")\n",
    "\n",
    "air_df.head()"
   ]
  },
  {
   "cell_type": "code",
   "execution_count": null,
   "metadata": {},
   "outputs": [],
   "source": []
  }
 ],
 "metadata": {
  "kernelspec": {
   "display_name": "Python 3",
   "language": "python",
   "name": "python3"
  },
  "language_info": {
   "codemirror_mode": {
    "name": "ipython",
    "version": 3
   },
   "file_extension": ".py",
   "mimetype": "text/x-python",
   "name": "python",
   "nbconvert_exporter": "python",
   "pygments_lexer": "ipython3",
   "version": "3.7.3"
  }
 },
 "nbformat": 4,
 "nbformat_minor": 2
}
