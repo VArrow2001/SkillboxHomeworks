{
 "cells": [
  {
   "cell_type": "markdown",
   "metadata": {},
   "source": [
    "# 7.1 Чтение текстовых файлов, файловые дескрипторы"
   ]
  },
  {
   "cell_type": "code",
   "execution_count": 28,
   "metadata": {},
   "outputs": [
    {
     "name": "stdout",
     "output_type": "stream",
     "text": [
      "192.168.101.4 - - [05/Feb/2019:21:36:07 +0300] \"GET /movie/is_personalizable/?history_type=watch&uid=5734473158358418&master_uid=5734473158358418 HTTP/1.1\" 200 75 \"-\" \"python-requests/2.0.0 CPython/2.7.3 Linux/4.4.0-47-generic\"\n",
      "\n",
      "192.168.102.3 - - [05/Feb/2019:21:36:07 +0300] \"POST /logger/content/time/ HTTP/1.1\" 404 305 \"-\" \"Mozilla/5.0 (Windows; U; en-US; rv:1.8.1.11; Gecko/20071129; Firefox/2.5.0) Maple 6.0.00067 Navi\"\n",
      "\n",
      "192.168.102.3 - - [05/Feb/2019:21:36:07 +0300] \"GET /movie/collection/items/recommendations/?uid=1623029046&master_uid=1623029046&collection_id=1525&subsite=141&app_version=10924&user_ab_bucket=10679 HTTP/1.1\" 200 535 \"-\" \"python-requests/2.0.0 CPython/2.7.3 Linux/3.13.0-24-generic\"\n",
      "\n",
      "192.168.7.46 - - [05/Feb/2019:21:36:07 +0300] \"GET /movie/recommendations/?uid=803285924&master_uid=803285924&iid=102751&user_ab_bucket=12493&top=30&scenario_id=ITEM_PAGE&app_version=15100&subsite=3021 HTTP/1.1\" 200 1392 \"-\" \"python-requests/2.0.0 CPython/2.7.3 Linux/3.13.0-24-generic\"\n",
      "\n",
      "\n",
      "\n"
     ]
    }
   ],
   "source": [
    "file_path = './data/uwsgi.log'\n",
    "\n",
    "with open(file_path, 'r') as f:\n",
    "    for row in f:\n",
    "        parted_row =  row.split(' ')\n",
    "        if len(parted_row) >= 1:\n",
    "            print(row)"
   ]
  },
  {
   "cell_type": "markdown",
   "metadata": {},
   "source": [
    "# 7.2 Чтение csv файлов: модуль python csv"
   ]
  },
  {
   "cell_type": "code",
   "execution_count": 29,
   "metadata": {},
   "outputs": [
    {
     "ename": "UnicodeDecodeError",
     "evalue": "'charmap' codec can't decode byte 0x98 in position 406: character maps to <undefined>",
     "output_type": "error",
     "traceback": [
      "\u001b[1;31m---------------------------------------------------------------------------\u001b[0m",
      "\u001b[1;31mUnicodeDecodeError\u001b[0m                        Traceback (most recent call last)",
      "\u001b[1;32m<ipython-input-29-082f97a7d296>\u001b[0m in \u001b[0;36m<module>\u001b[1;34m\u001b[0m\n\u001b[0;32m      6\u001b[0m \u001b[1;32mwith\u001b[0m \u001b[0mopen\u001b[0m\u001b[1;33m(\u001b[0m\u001b[0mfile_path\u001b[0m\u001b[1;33m,\u001b[0m \u001b[0mnewline\u001b[0m \u001b[1;33m=\u001b[0m \u001b[1;34m''\u001b[0m\u001b[1;33m)\u001b[0m \u001b[1;32mas\u001b[0m \u001b[0mcsvfile\u001b[0m\u001b[1;33m:\u001b[0m\u001b[1;33m\u001b[0m\u001b[1;33m\u001b[0m\u001b[0m\n\u001b[0;32m      7\u001b[0m     \u001b[0mreader\u001b[0m \u001b[1;33m=\u001b[0m \u001b[0mcsv\u001b[0m\u001b[1;33m.\u001b[0m\u001b[0mDictReader\u001b[0m\u001b[1;33m(\u001b[0m\u001b[0mcsvfile\u001b[0m\u001b[1;33m)\u001b[0m\u001b[1;33m\u001b[0m\u001b[1;33m\u001b[0m\u001b[0m\n\u001b[1;32m----> 8\u001b[1;33m     \u001b[0mprint\u001b[0m\u001b[1;33m(\u001b[0m\u001b[0mreader\u001b[0m\u001b[1;33m.\u001b[0m\u001b[0mfieldnames\u001b[0m\u001b[1;33m)\u001b[0m\u001b[1;33m\u001b[0m\u001b[1;33m\u001b[0m\u001b[0m\n\u001b[0m\u001b[0;32m      9\u001b[0m     \u001b[1;32mfor\u001b[0m \u001b[0mrow\u001b[0m \u001b[1;32min\u001b[0m \u001b[0mreader\u001b[0m\u001b[1;33m:\u001b[0m\u001b[1;33m\u001b[0m\u001b[1;33m\u001b[0m\u001b[0m\n\u001b[0;32m     10\u001b[0m         \u001b[0mprint\u001b[0m\u001b[1;33m(\u001b[0m\u001b[1;33m[\u001b[0m\u001b[0mrow\u001b[0m\u001b[1;33m[\u001b[0m\u001b[0mfield_name\u001b[0m\u001b[1;33m]\u001b[0m \u001b[1;32mfor\u001b[0m \u001b[0mfield_name\u001b[0m \u001b[1;32min\u001b[0m \u001b[0mreader\u001b[0m\u001b[1;33m.\u001b[0m\u001b[0mfieldnames\u001b[0m\u001b[1;33m]\u001b[0m\u001b[1;33m)\u001b[0m\u001b[1;33m\u001b[0m\u001b[1;33m\u001b[0m\u001b[0m\n",
      "\u001b[1;32mC:\\Games\\lib\\csv.py\u001b[0m in \u001b[0;36mfieldnames\u001b[1;34m(self)\u001b[0m\n\u001b[0;32m     96\u001b[0m         \u001b[1;32mif\u001b[0m \u001b[0mself\u001b[0m\u001b[1;33m.\u001b[0m\u001b[0m_fieldnames\u001b[0m \u001b[1;32mis\u001b[0m \u001b[1;32mNone\u001b[0m\u001b[1;33m:\u001b[0m\u001b[1;33m\u001b[0m\u001b[1;33m\u001b[0m\u001b[0m\n\u001b[0;32m     97\u001b[0m             \u001b[1;32mtry\u001b[0m\u001b[1;33m:\u001b[0m\u001b[1;33m\u001b[0m\u001b[1;33m\u001b[0m\u001b[0m\n\u001b[1;32m---> 98\u001b[1;33m                 \u001b[0mself\u001b[0m\u001b[1;33m.\u001b[0m\u001b[0m_fieldnames\u001b[0m \u001b[1;33m=\u001b[0m \u001b[0mnext\u001b[0m\u001b[1;33m(\u001b[0m\u001b[0mself\u001b[0m\u001b[1;33m.\u001b[0m\u001b[0mreader\u001b[0m\u001b[1;33m)\u001b[0m\u001b[1;33m\u001b[0m\u001b[1;33m\u001b[0m\u001b[0m\n\u001b[0m\u001b[0;32m     99\u001b[0m             \u001b[1;32mexcept\u001b[0m \u001b[0mStopIteration\u001b[0m\u001b[1;33m:\u001b[0m\u001b[1;33m\u001b[0m\u001b[1;33m\u001b[0m\u001b[0m\n\u001b[0;32m    100\u001b[0m                 \u001b[1;32mpass\u001b[0m\u001b[1;33m\u001b[0m\u001b[1;33m\u001b[0m\u001b[0m\n",
      "\u001b[1;32mC:\\Games\\lib\\encodings\\cp1251.py\u001b[0m in \u001b[0;36mdecode\u001b[1;34m(self, input, final)\u001b[0m\n\u001b[0;32m     21\u001b[0m \u001b[1;32mclass\u001b[0m \u001b[0mIncrementalDecoder\u001b[0m\u001b[1;33m(\u001b[0m\u001b[0mcodecs\u001b[0m\u001b[1;33m.\u001b[0m\u001b[0mIncrementalDecoder\u001b[0m\u001b[1;33m)\u001b[0m\u001b[1;33m:\u001b[0m\u001b[1;33m\u001b[0m\u001b[1;33m\u001b[0m\u001b[0m\n\u001b[0;32m     22\u001b[0m     \u001b[1;32mdef\u001b[0m \u001b[0mdecode\u001b[0m\u001b[1;33m(\u001b[0m\u001b[0mself\u001b[0m\u001b[1;33m,\u001b[0m \u001b[0minput\u001b[0m\u001b[1;33m,\u001b[0m \u001b[0mfinal\u001b[0m\u001b[1;33m=\u001b[0m\u001b[1;32mFalse\u001b[0m\u001b[1;33m)\u001b[0m\u001b[1;33m:\u001b[0m\u001b[1;33m\u001b[0m\u001b[1;33m\u001b[0m\u001b[0m\n\u001b[1;32m---> 23\u001b[1;33m         \u001b[1;32mreturn\u001b[0m \u001b[0mcodecs\u001b[0m\u001b[1;33m.\u001b[0m\u001b[0mcharmap_decode\u001b[0m\u001b[1;33m(\u001b[0m\u001b[0minput\u001b[0m\u001b[1;33m,\u001b[0m\u001b[0mself\u001b[0m\u001b[1;33m.\u001b[0m\u001b[0merrors\u001b[0m\u001b[1;33m,\u001b[0m\u001b[0mdecoding_table\u001b[0m\u001b[1;33m)\u001b[0m\u001b[1;33m[\u001b[0m\u001b[1;36m0\u001b[0m\u001b[1;33m]\u001b[0m\u001b[1;33m\u001b[0m\u001b[1;33m\u001b[0m\u001b[0m\n\u001b[0m\u001b[0;32m     24\u001b[0m \u001b[1;33m\u001b[0m\u001b[0m\n\u001b[0;32m     25\u001b[0m \u001b[1;32mclass\u001b[0m \u001b[0mStreamWriter\u001b[0m\u001b[1;33m(\u001b[0m\u001b[0mCodec\u001b[0m\u001b[1;33m,\u001b[0m\u001b[0mcodecs\u001b[0m\u001b[1;33m.\u001b[0m\u001b[0mStreamWriter\u001b[0m\u001b[1;33m)\u001b[0m\u001b[1;33m:\u001b[0m\u001b[1;33m\u001b[0m\u001b[1;33m\u001b[0m\u001b[0m\n",
      "\u001b[1;31mUnicodeDecodeError\u001b[0m: 'charmap' codec can't decode byte 0x98 in position 406: character maps to <undefined>"
     ]
    }
   ],
   "source": [
    "import csv #чтение таблицы как словаря\n",
    "\n",
    "file_path = './data/task.csv'\n",
    "\n",
    "sample_row = None\n",
    "with open(file_path, newline = '') as csvfile:\n",
    "    reader = csv.DictReader(csvfile)\n",
    "    print(reader.fieldnames)\n",
    "    for row in reader:\n",
    "        print([row[field_name] for field_name in reader.fieldnames])\n",
    "        sample_row = row"
   ]
  },
  {
   "cell_type": "markdown",
   "metadata": {},
   "source": [
    "# 7.3 Чтение csv файлов: модуль pandas"
   ]
  },
  {
   "cell_type": "code",
   "execution_count": 30,
   "metadata": {},
   "outputs": [],
   "source": [
    "import pandas as pd"
   ]
  },
  {
   "cell_type": "code",
   "execution_count": 31,
   "metadata": {},
   "outputs": [
    {
     "name": "stdout",
     "output_type": "stream",
     "text": [
      "<class 'pandas.core.frame.DataFrame'>\n"
     ]
    },
    {
     "name": "stderr",
     "output_type": "stream",
     "text": [
      "C:\\Games\\lib\\site-packages\\pandas\\core\\groupby\\generic.py:1315: FutureWarning: using a dict with renaming is deprecated and will be removed in a future version\n",
      "  return super(DataFrameGroupBy, self).aggregate(arg, *args, **kwargs)\n"
     ]
    },
    {
     "data": {
      "text/html": [
       "<div>\n",
       "<style scoped>\n",
       "    .dataframe tbody tr th:only-of-type {\n",
       "        vertical-align: middle;\n",
       "    }\n",
       "\n",
       "    .dataframe tbody tr th {\n",
       "        vertical-align: top;\n",
       "    }\n",
       "\n",
       "    .dataframe thead th {\n",
       "        text-align: right;\n",
       "    }\n",
       "</style>\n",
       "<table border=\"1\" class=\"dataframe\">\n",
       "  <thead>\n",
       "    <tr style=\"text-align: right;\">\n",
       "      <th></th>\n",
       "      <th>mean_val</th>\n",
       "      <th>max_val</th>\n",
       "    </tr>\n",
       "    <tr>\n",
       "      <th>Компонент</th>\n",
       "      <th></th>\n",
       "      <th></th>\n",
       "    </tr>\n",
       "  </thead>\n",
       "  <tbody>\n",
       "    <tr>\n",
       "      <th>echidna</th>\n",
       "      <td>1.000000</td>\n",
       "      <td>1</td>\n",
       "    </tr>\n",
       "    <tr>\n",
       "      <th>hydra</th>\n",
       "      <td>6.545455</td>\n",
       "      <td>24</td>\n",
       "    </tr>\n",
       "    <tr>\n",
       "      <th>hydra_utils</th>\n",
       "      <td>16.000000</td>\n",
       "      <td>16</td>\n",
       "    </tr>\n",
       "    <tr>\n",
       "      <th>hydramagrices</th>\n",
       "      <td>4.000000</td>\n",
       "      <td>5</td>\n",
       "    </tr>\n",
       "    <tr>\n",
       "      <th>hydramatrices</th>\n",
       "      <td>1.666667</td>\n",
       "      <td>2</td>\n",
       "    </tr>\n",
       "  </tbody>\n",
       "</table>\n",
       "</div>"
      ],
      "text/plain": [
       "                mean_val  max_val\n",
       "Компонент                        \n",
       "echidna         1.000000        1\n",
       "hydra           6.545455       24\n",
       "hydra_utils    16.000000       16\n",
       "hydramagrices   4.000000        5\n",
       "hydramatrices   1.666667        2"
      ]
     },
     "execution_count": 31,
     "metadata": {},
     "output_type": "execute_result"
    }
   ],
   "source": [
    "file_path = './data/task.csv'\n",
    "\n",
    "df = pd.read_csv(file_path)\n",
    "print(type(df))\n",
    "\n",
    "import numpy as np\n",
    "\n",
    "agg_config = {'Затрачено в часах': {\n",
    "    'mean_val': np.mean, 'max_val':np.max}\n",
    "}\n",
    "\n",
    "df.groupby('Компонент')[['Затрачено в часах']].aggregate(agg_config) # подробное аггрегирование\n"
   ]
  },
  {
   "cell_type": "markdown",
   "metadata": {},
   "source": [
    "# 7.4 Работа с данными формата HTML"
   ]
  },
  {
   "cell_type": "code",
   "execution_count": 27,
   "metadata": {},
   "outputs": [
    {
     "name": "stdout",
     "output_type": "stream",
     "text": [
      "Результат применения XPath [<Element div at 0x2b3e0c03a98>, <Element div at 0x2b3e0c03c28>, <Element div at 0x2b3e0c03ea8>, <Element div at 0x2b3e0c03f48>, <Element div at 0x2b3e0c03ef8>, <Element div at 0x2b3e0c03908>, <Element div at 0x2b3e0c03d18>, <Element div at 0x2b3e0c038b8>, <Element div at 0x2b3e0c039f8>, <Element div at 0x2b3e0c03cc8>, <Element div at 0x2b3e0c03c78>, <Element div at 0x2b3e0c03db8>, <Element div at 0x2b3e0c03d68>, <Element div at 0x2b3e0c03e08>, <Element div at 0x2b3e0c03e58>, <Element div at 0x2b3e0c03f98>, <Element div at 0x2b3df525048>, <Element div at 0x2b3df525098>, <Element div at 0x2b3df5250e8>, <Element div at 0x2b3df525138>, <Element div at 0x2b3df525188>, <Element div at 0x2b3df5251d8>, <Element div at 0x2b3df525228>, <Element div at 0x2b3df525278>, <Element div at 0x2b3df5252c8>, <Element div at 0x2b3df525318>, <Element div at 0x2b3df525368>, <Element div at 0x2b3df5253b8>, <Element div at 0x2b3df525408>, <Element div at 0x2b3df525458>, <Element div at 0x2b3df5254a8>, <Element div at 0x2b3df5254f8>, <Element div at 0x2b3df525548>, <Element div at 0x2b3df525598>, <Element div at 0x2b3df5255e8>, <Element div at 0x2b3df525638>, <Element div at 0x2b3df525688>, <Element div at 0x2b3df5256d8>, <Element div at 0x2b3df525728>, <Element div at 0x2b3df525778>, <Element div at 0x2b3df5257c8>, <Element div at 0x2b3df525818>, <Element div at 0x2b3df525868>, <Element div at 0x2b3df5258b8>, <Element div at 0x2b3df525908>, <Element div at 0x2b3df525958>, <Element div at 0x2b3df5259a8>, <Element div at 0x2b3df5259f8>, <Element div at 0x2b3df525a48>, <Element div at 0x2b3df525a98>, <Element div at 0x2b3df525ae8>, <Element div at 0x2b3df525b38>, <Element div at 0x2b3df525b88>, <Element div at 0x2b3df525bd8>, <Element div at 0x2b3df525c28>, <Element div at 0x2b3df525c78>, <Element div at 0x2b3df525cc8>, <Element div at 0x2b3df525d18>, <Element div at 0x2b3df525d68>, <Element div at 0x2b3df525db8>, <Element div at 0x2b3df525e08>, <Element div at 0x2b3df525e58>, <Element div at 0x2b3df525ea8>, <Element div at 0x2b3df525ef8>, <Element div at 0x2b3df525f48>, <Element div at 0x2b3df525f98>, <Element div at 0x2b3df526048>, <Element div at 0x2b3df526098>, <Element div at 0x2b3df5260e8>, <Element div at 0x2b3df526138>, <Element div at 0x2b3df526188>, <Element div at 0x2b3df5261d8>, <Element div at 0x2b3df526228>, <Element div at 0x2b3df526278>, <Element div at 0x2b3df5262c8>, <Element div at 0x2b3df526318>, <Element div at 0x2b3df526368>]\n",
      "\n",
      "Список курсов\n",
      "\n",
      "Профессия Веб-дизайнер\n",
      "Профессия UX-дизайнер\n",
      "Профессия Графический дизайнер\n",
      "Профессия Художник компьютерной графики\n",
      "Профессия Дизайнер интерьеров\n",
      "Профессия Дизайнер мобильных приложений \n",
      "Веб-дизайн с 0 до PRO\n",
      "Графический дизайнер с 0 до PRO\n",
      "UX-дизайн\n",
      "Рекламная графика\n",
      "Дизайн интерьеров с 0 до PRO\n",
      "Скетчинг для дизайнеров\n",
      "Дизайн мобильных приложений\n",
      "Дизайнер промо-сайтов\n",
      "Sound design\n",
      "Анимация интерфейсов\n",
      "Дизайнер сайтов на Tilda\n",
      "Motion Design с 0\n",
      "3D Max для дизайнеров интерьера\n",
      "Дизайнер логотипа и фирменного стиля\n",
      "Photoshop\n",
      "Figma\n",
      "Sketch\n",
      "Cinema4D\n",
      "After Effects с 0 до PRO\n",
      "Archicad\n",
      "UX-дизайн с Майклом Джандой\n",
      "Фриланс для дизайнера\n",
      "Профессия Java-разработчик\n",
      "Профессия Python-разработчик\n",
      "Профессия Data Scientist\n",
      "Профессия Веб-разработчик\n",
      "Профессия 1С-разработчик\n",
      "Профессия Разработчик игр\n",
      "Профессия Мобильный разработчик\n",
      "Программист 1С-Битрикс\n",
      "Профессия Frontend-разработчик\n",
      "Профессия iOS-разработчик\n",
      "Профессия Android-разработчик\n",
      "Профессия Тестировщик\n",
      "Профессия PHP-разработчик\n",
      "Профессия C#-разработчик\n",
      "Веб-разработчик c 0 до PRO\n",
      "Frontend-разработчик\n",
      "PHP-разработчик c 0 до PRO\n",
      "Java-разработчик\n",
      "Python-разработчик\n",
      "Аналитик данных на Python\n",
      "Мобильный разработчик PRO\n",
      "Профессия Интернет-маркетолог\n",
      "Профессия SMM-специалист\n",
      "Интернет-маркетолог от А до Я\n",
      "Профессия Perfomance-маркетолог\n",
      "Интернет-маркетолог от Ingate\n",
      "SMM-маркетолог от А до Я\n",
      "Таргетолог от А до Я\n",
      "Digital-стратег\n",
      "SEO-специалист\n",
      "Продвижение в Инстаграм\n",
      "Управление репутацией бренда в сети\n",
      "Сквозная аналитика\n",
      "Вирусный маркетинг\n",
      "CRM-маркетолог\n",
      "Креатив в digital\n",
      "Копирайтинг: информационный и креативный\n",
      "UX-аналитик\n",
      "Как делать контент для YouTube\n",
      "Event killer\n",
      "Контекстная реклама от А до Я\n",
      "Управление Digital-проектами\n",
      "Менеджмент и маркетинг в индустрии спорта \n",
      "Руководитель digital-проектов\n",
      "Excel c 0 до PRO\n",
      "Управление продуктом\n",
      "Мастер презентации\n",
      "Как открыть и развивать веб‑студию\n",
      "Эффективное партнерство в бизнесе\n"
     ]
    }
   ],
   "source": [
    "import requests\n",
    "from lxml import html\n",
    "\n",
    "page = requests.get('https://skillbox.ru/courses/code/').content\n",
    "\n",
    "html_tree = html.fromstring(page)\n",
    "\n",
    "items = html_tree.xpath(\"//div[contains(@class, 'course-title')]\")\n",
    "\n",
    "print(\"Результат применения XPath\", items)\n",
    "\n",
    "print(\"\\nСписок курсов\\n\")\n",
    "for item in items:\n",
    "    print(item.text)\n",
    "\n",
    "    "
   ]
  },
  {
   "cell_type": "markdown",
   "metadata": {},
   "source": [
    "# 7.5 Работа с данными формата XML"
   ]
  },
  {
   "cell_type": "code",
   "execution_count": 32,
   "metadata": {},
   "outputs": [
    {
     "name": "stdout",
     "output_type": "stream",
     "text": [
      "The Shawshank Redemption\n",
      "The Dark Knight\n"
     ]
    }
   ],
   "source": [
    "from xml.etree import ElementTree\n",
    "\n",
    "file_path = './data/xml_content_description.xml'\n",
    "\n",
    "with open(file_path) as f:\n",
    "    \n",
    "    doc = ElementTree.parse(f)\n",
    "    content_titles = doc.getroot()\n",
    "    for movie in content_titles.findall(\"./Content/content_title/[genre='drama']\"):\n",
    "        print(movie.find(\"./title\").text)"
   ]
  },
  {
   "cell_type": "markdown",
   "metadata": {},
   "source": [
    "# 7.6 Работа с данными формата XLSX"
   ]
  },
  {
   "cell_type": "code",
   "execution_count": 37,
   "metadata": {},
   "outputs": [
    {
     "name": "stdout",
     "output_type": "stream",
     "text": [
      "wb = <class 'openpyxl.workbook.workbook.Workbook'>\n",
      "\n",
      "\n",
      "Читаем excel построчно:\n",
      "\n",
      "['Модуль', 'Урок']\n",
      "['Введение в анализ данных', 'Что такое Data Science?']\n",
      "[None, 'Процесс анализа данных']\n",
      "['Введение в Python', 'Почему Python?']\n",
      "[None, 'Установка окружения']\n",
      "[None, 'Домашняя работа']\n",
      "['Библиотека NumPy (ч.1)', 'Основные идеи NumPy']\n",
      "[None, 'Ndarray - базовая концепция и операции']\n",
      "[None, 'Базовые операции']\n",
      "[None, 'Работа с массивами']\n"
     ]
    }
   ],
   "source": [
    "from openpyxl import load_workbook\n",
    "\n",
    "file_load = './data/Analytics_Junior.xlsx'\n",
    "\n",
    "wb = load_workbook(file_load)\n",
    "\n",
    "print(\"wb = %s\" % type(wb))\n",
    "\n",
    "first_worksheet = wb.worksheets[0]\n",
    "first_row = first_worksheet[1]\n",
    "header = [i.value for i in first_row if i.value]\n",
    "\n",
    "print(\"\\n\\nЧитаем excel построчно:\\n\")\n",
    "for row in first_worksheet.iter_rows(1, 10):\n",
    "    if row[len(header) - 1].value:\n",
    "        print ([cell.value for cell in row[:len(header)]])"
   ]
  },
  {
   "cell_type": "code",
   "execution_count": null,
   "metadata": {},
   "outputs": [],
   "source": []
  }
 ],
 "metadata": {
  "kernelspec": {
   "display_name": "Python 3",
   "language": "python",
   "name": "python3"
  },
  "language_info": {
   "codemirror_mode": {
    "name": "ipython",
    "version": 3
   },
   "file_extension": ".py",
   "mimetype": "text/x-python",
   "name": "python",
   "nbconvert_exporter": "python",
   "pygments_lexer": "ipython3",
   "version": "3.7.3"
  }
 },
 "nbformat": 4,
 "nbformat_minor": 2
}
