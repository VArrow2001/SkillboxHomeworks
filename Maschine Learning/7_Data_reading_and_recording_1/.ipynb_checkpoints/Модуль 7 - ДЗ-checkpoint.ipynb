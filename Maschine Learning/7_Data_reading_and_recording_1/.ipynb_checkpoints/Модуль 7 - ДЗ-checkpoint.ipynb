{
 "cells": [
  {
   "cell_type": "markdown",
   "metadata": {},
   "source": [
    "# Чтение и запись данных. Часть 1\n",
    "\n",
    "## 1. Чтение текстовых файлов, файловые дескрипторы"
   ]
  },
  {
   "cell_type": "markdown",
   "metadata": {},
   "source": [
    "### 1.1\n",
    "\n",
    "**Простая задача** сформируйте объект класса dict, где ключ - это IP адрес, а значение - количество раз, которые этот ip встретился в тесте.\n",
    "\n",
    "*Результат выполнения*\n",
    "<pre>\n",
    "{'192.168.101.4': 1, '192.168.102.3': 2, '192.168.7.46': 1}\n",
    "</pre>"
   ]
  },
  {
   "cell_type": "code",
   "execution_count": 1,
   "metadata": {},
   "outputs": [
    {
     "name": "stdout",
     "output_type": "stream",
     "text": [
      "['192.168.101.4', '-', '-', '[05/Feb/2019:21:36:07', '+0300]', '\"GET', '/movie/is_personalizable/?history_type=watch&uid=5734473158358418&master_uid=5734473158358418', 'HTTP/1.1\"', '200', '75', '\"-\"', '\"python-requests/2.0.0', 'CPython/2.7.3', 'Linux/4.4.0-47-generic\"\\n'] \n",
      "\n",
      "['192.168.102.3', '-', '-', '[05/Feb/2019:21:36:07', '+0300]', '\"POST', '/logger/content/time/', 'HTTP/1.1\"', '404', '305', '\"-\"', '\"Mozilla/5.0', '(Windows;', 'U;', 'en-US;', 'rv:1.8.1.11;', 'Gecko/20071129;', 'Firefox/2.5.0)', 'Maple', '6.0.00067', 'Navi\"\\n'] \n",
      "\n",
      "['192.168.102.3', '-', '-', '[05/Feb/2019:21:36:07', '+0300]', '\"GET', '/movie/collection/items/recommendations/?uid=1623029046&master_uid=1623029046&collection_id=1525&subsite=141&app_version=10924&user_ab_bucket=10679', 'HTTP/1.1\"', '200', '535', '\"-\"', '\"python-requests/2.0.0', 'CPython/2.7.3', 'Linux/3.13.0-24-generic\"\\n'] \n",
      "\n",
      "['192.168.7.46', '-', '-', '[05/Feb/2019:21:36:07', '+0300]', '\"GET', '/movie/recommendations/?uid=803285924&master_uid=803285924&iid=102751&user_ab_bucket=12493&top=30&scenario_id=ITEM_PAGE&app_version=15100&subsite=3021', 'HTTP/1.1\"', '200', '1392', '\"-\"', '\"python-requests/2.0.0', 'CPython/2.7.3', 'Linux/3.13.0-24-generic\"\\n'] \n",
      "\n"
     ]
    }
   ],
   "source": [
    "file_path = './data/uwsgi.log'\n",
    "\n",
    "with open(file_path, 'r') as f:\n",
    "    for row in f:\n",
    "        parted_row =  row.split(' ')\n",
    "        if len(parted_row) >= 6:\n",
    "            print(row.split(' '), '\\n')"
   ]
  },
  {
   "cell_type": "code",
   "execution_count": 2,
   "metadata": {},
   "outputs": [
    {
     "ename": "TypeError",
     "evalue": "function missing required argument 'year' (pos 1)",
     "output_type": "error",
     "traceback": [
      "\u001b[1;31m---------------------------------------------------------------------------\u001b[0m",
      "\u001b[1;31mTypeError\u001b[0m                                 Traceback (most recent call last)",
      "\u001b[1;32m<ipython-input-2-3d5695856e1e>\u001b[0m in \u001b[0;36m<module>\u001b[1;34m\u001b[0m\n\u001b[0;32m      1\u001b[0m \u001b[1;32mimport\u001b[0m \u001b[0mdatetime\u001b[0m\u001b[1;33m\u001b[0m\u001b[1;33m\u001b[0m\u001b[0m\n\u001b[1;32m----> 2\u001b[1;33m \u001b[0mdatetime\u001b[0m\u001b[1;33m.\u001b[0m\u001b[0mdate\u001b[0m\u001b[1;33m(\u001b[0m\u001b[1;33m)\u001b[0m\u001b[1;33m\u001b[0m\u001b[1;33m\u001b[0m\u001b[0m\n\u001b[0m",
      "\u001b[1;31mTypeError\u001b[0m: function missing required argument 'year' (pos 1)"
     ]
    }
   ],
   "source": [
    "import datetime\n",
    "datetime.date()"
   ]
  },
  {
   "cell_type": "code",
   "execution_count": null,
   "metadata": {},
   "outputs": [],
   "source": [
    "file_path = './data/uwsgi.log'\n",
    "ip_counter = dict()\n",
    "r = []\n",
    "with open(file_path, 'r') as f:\n",
    "    for row in f:\n",
    "        if (row.split(' ')[0] in ip_counter.keys()):\n",
    "            ip_counter[row.split(' ')[0]] += 1\n",
    "        else:\n",
    "            ip_counter[row.split(' ')[0]] = 1\n",
    "print(ip_counter)"
   ]
  },
  {
   "cell_type": "markdown",
   "metadata": {},
   "source": [
    "### 1.2\n",
    "**Задача среднего уровня** Распечатайте список URL, к которым происходил доступ. GET или POST параметры печатать не нужно.\n",
    "\n",
    "*Результат выполнения*\n",
    "<pre>\n",
    "/movie/is_personalizable/\n",
    "/logger/content/time/\n",
    "/movie/collection/items/recommendations/\n",
    "/movie/recommendations/\n",
    "</pre>"
   ]
  },
  {
   "cell_type": "code",
   "execution_count": null,
   "metadata": {},
   "outputs": [],
   "source": [
    "file_path = './data/uwsgi.log'\n",
    "\n",
    "with open(file_path, 'r') as f:\n",
    "    for row in f:\n",
    "        parted_row =  row.split(' ')\n",
    "        if len(parted_row) >= 6:\n",
    "            print(row.split(' ')[6][:row.split(' ')[6].rfind('/') + 1])\n",
    "        pass"
   ]
  },
  {
   "cell_type": "markdown",
   "metadata": {},
   "source": [
    "### 1.3\n",
    "**Задача высокого уровня** Сформируйте объект класса dict, где ключ - это URL, а значение - это массив объектов python `datetime.datetime`: когда происходили запросы к этому URL.\n",
    "\n",
    "*Результат выполнения*\n",
    "<pre>\n",
    "{\n",
    "    '/movie/is_personalizable/': [datetime.datetime(2019, 2, 5, 21, 36, 7)],\n",
    "    '/logger/content/time/': [datetime.datetime(2019, 2, 5, 21, 36, 7)],\n",
    "    '/movie/collection/items/recommendations/': [datetime.datetime(2019, 2, 5, 21, 36, 7)],\n",
    "    '/movie/recommendations/': [datetime.datetime(2019, 2, 5, 21, 36, 7)]\n",
    "}\n",
    "</pre>"
   ]
  },
  {
   "cell_type": "code",
   "execution_count": null,
   "metadata": {},
   "outputs": [],
   "source": [
    "import datetime\n",
    "file_path = './data/uwsgi.log'\n",
    "\n",
    "ip_counter = dict()\n",
    "\n",
    "with open(file_path, 'r') as f:\n",
    "    for row in f:\n",
    "        parted_row =  row.split(' ')\n",
    "        if len(parted_row) >= 6:\n",
    "            time = parted_row[3][1:]\n",
    "            cur_url = parted_row[6][:parted_row[6].rfind('/') + 1]\n",
    "            cur_time = datetime.datetime.strptime(time, \"%d/%b/%Y:%H:%M:%S\")\n",
    "            ip_counter[cur_url] = cur_time\n",
    "        pass\n",
    "ip_counter"
   ]
  },
  {
   "cell_type": "markdown",
   "metadata": {},
   "source": [
    "## 2. Чтение csv файлов: модуль python csv"
   ]
  },
  {
   "cell_type": "markdown",
   "metadata": {},
   "source": [
    "### 2.1\n",
    "**Простая задача** Сформируйте словарь, в котором ключ - название столбца, а значение - массив записей в этом столбце.\n",
    "\n",
    "*Результат выполнения*\n",
    "<pre>\n",
    "{\n",
    "    'Код': ['HYDRA-535', 'HYDRA-534', 'HYDRA-532', 'HYDRA-531', 'HYDRA-530', 'HYDRA-527', 'HYDRA-524', 'HYDRA-523', 'HYDRA-520', 'HYDRA-519', 'HYDRA-518', 'HYDRA-517', 'HYDRA-514', 'HYDRA-513', 'HYDRA-511', 'HYDRA-510', 'HYDRA-509', 'HYDRA-507', 'HYDRA-506'],\n",
    "    'Тема': ['Пробрасывать пользовательское распределение paid_types в ехидну', 'Гибридный рекомендатель с multi-channel feedback', 'Джоба в дженкинсе для расчёта динамики РВП', 'Интеграция Hydra с Gamora', 'Тестируем интеграцию с Jira', 'Поправить функцию _get_ui_rec_matrix', 'Оптимизировать матрицу ItemFactors', 'Сортировка ЦПБ', 'Закостылить параметр top', \"Сделать 'stable' конфигом по умолчанию в Гидре\", 'Неудобно тестировать запись в redis', 'Улучшить рекомендации (первая итерация)', 'Добавить логирование в скрипты hydra/bin', 'Поправить storage_backend', 'Перемешивание рекомендаций для старых пользователей', 'Поправить скрипты bpr и и оценщика', 'Динамические персональные рекомендации', 'Навести порядок в prepare_data_for_hydra', 'Техдолг по логике /collection/recommendations/'],\n",
    "    'Компонент': ['echidna', 'hydra', 'hydramatrices', 'hydramagrices', 'hydra', 'hydra', 'hydra', 'hydra', 'hydra', 'hydra', 'hydramatrices', 'hydra', 'hydramagrices', 'hydramatrices', 'hydra', 'hydra_utils', 'hydra', 'hydramagrices', 'hydra'],\n",
    "    'Затрачено в часах': ['1', '3', '2', '4', '2', '10', '2', '5', '2', '2', '1', '7', '5', '2', '5', '16', '10', '3', '24']\n",
    "}\n",
    "</pre>"
   ]
  },
  {
   "cell_type": "code",
   "execution_count": 2,
   "metadata": {},
   "outputs": [
    {
     "name": "stdout",
     "output_type": "stream",
     "text": [
      "{'Код': ['HYDRA-535', 'HYDRA-534', 'HYDRA-532', 'HYDRA-531', 'HYDRA-530', 'HYDRA-527', 'HYDRA-524', 'HYDRA-523', 'HYDRA-520', 'HYDRA-519', 'HYDRA-518', 'HYDRA-517', 'HYDRA-514', 'HYDRA-513', 'HYDRA-511', 'HYDRA-510', 'HYDRA-509', 'HYDRA-507', 'HYDRA-506'], 'Тема': ['Пробрасывать пользовательское распределение paid_types в ехидну', 'Гибридный рекомендатель с multi-channel feedback', 'Джоба в дженкинсе для расчёта динамики РВП', 'Интеграция Hydra с Gamora', 'Тестируем интеграцию с Jira', 'Поправить функцию _get_ui_rec_matrix', 'Оптимизировать матрицу ItemFactors', 'Сортировка ЦПБ', 'Закостылить параметр top', \"Сделать 'stable' конфигом по умолчанию в Гидре\", 'Неудобно тестировать запись в redis', 'Улучшить рекомендации (первая итерация)', 'Добавить логирование в скрипты hydra/bin', 'Поправить storage_backend', 'Перемешивание рекомендаций для старых пользователей', 'Поправить скрипты bpr и и оценщика', 'Динамические персональные рекомендации', 'Навести порядок в prepare_data_for_hydra', 'Техдолг по логике /collection/recommendations/'], 'Компонент': ['echidna', 'hydra', 'hydramatrices', 'hydramagrices', 'hydra', 'hydra', 'hydra', 'hydra', 'hydra', 'hydra', 'hydramatrices', 'hydra', 'hydramagrices', 'hydramatrices', 'hydra', 'hydra_utils', 'hydra', 'hydramagrices', 'hydra'], 'Затрачено в часах': ['1', '3', '2', '4', '2', '10', '2', '5', '2', '2', '1', '7', '5', '2', '5', '16', '10', '3', '24']}\n"
     ]
    }
   ],
   "source": [
    "import csv\n",
    "columns_dict = dict()\n",
    "file_path = './data/task.csv'\n",
    "\n",
    "# решение\n",
    "with open(file_path, newline='', encoding='utf8') as csvfile:\n",
    "    reader = csv.DictReader(csvfile)\n",
    "\n",
    "    for col_name in reader.fieldnames:\n",
    "        columns_dict[col_name] = []\n",
    "    for row in reader:\n",
    "        ## -- ВАШ КОД ТУТ --\n",
    "        for col_name in reader.fieldnames:\n",
    "            columns_dict[col_name].append(row[col_name])\n",
    "        pass\n",
    "\n",
    "print(columns_dict)"
   ]
  },
  {
   "cell_type": "markdown",
   "metadata": {},
   "source": [
    "### 2.2\n",
    "**Задача среднего уровня** Посчитайте статистику по колонке \"Затрачено в часах\" (это человеко-часы, затраченные на задачу) – максимальное значение, минимальное значение, среднее значение. Воспользуйтесь словарём `columns_dict` из задания 2.1\n",
    "\n",
    "*Результат выполнения*\n",
    "<pre>\n",
    "min_val=1, max_val=24, mean_val=5.578947368421052\n",
    "\n",
    "</pre>"
   ]
  },
  {
   "cell_type": "code",
   "execution_count": 4,
   "metadata": {},
   "outputs": [
    {
     "name": "stdout",
     "output_type": "stream",
     "text": [
      "min_val=1, max_val=24, mean_val=5.578947368421052\n"
     ]
    }
   ],
   "source": [
    "min_val, max_val, mean_val = None, None, None\n",
    "import numpy as np\n",
    "min_val, max_val, mean_val = min([int(i) for i in columns_dict['Затрачено в часах']]), max([int(i) for i in columns_dict['Затрачено в часах']]), np.mean([int(i) for i in columns_dict['Затрачено в часах']])\n",
    "\n",
    "# решение\n",
    "## -- ВАШ КОД ТУТ --\n",
    "print(\"min_val={}, max_val={}, mean_val={}\".format(min_val, max_val, mean_val))"
   ]
  },
  {
   "cell_type": "markdown",
   "metadata": {},
   "source": [
    "### 2.3\n",
    "**Задача высокого уровня** Сколько было выполнено задач, в которых встречается слово \"рекомендации\" в любых формах? Сколько было выполнено всех остальных задач?\n",
    "\n",
    "Подсказка - проверка на наличие нужного слова в тексте `txt` выглядит так:"
   ]
  },
  {
   "cell_type": "code",
   "execution_count": 5,
   "metadata": {},
   "outputs": [
    {
     "name": "stdout",
     "output_type": "stream",
     "text": [
      "True False\n"
     ]
    }
   ],
   "source": [
    "print('рек' in 'Я делаю рекомендательную систему', 'рек' in 'кек')"
   ]
  },
  {
   "cell_type": "markdown",
   "metadata": {},
   "source": [
    "*Результат выполнения*\n",
    "<pre>\n",
    "{'recs': 2, 'non_recs': 17}\n",
    "</pre>"
   ]
  },
  {
   "cell_type": "code",
   "execution_count": 9,
   "metadata": {},
   "outputs": [
    {
     "name": "stdout",
     "output_type": "stream",
     "text": [
      "{'recs': 2, 'non_recs': 17}\n"
     ]
    }
   ],
   "source": [
    "file_path = './data/task.csv'\n",
    "task_recs_counter = {'recs': 0, 'non_recs': 0}\n",
    "\n",
    "with open(file_path, newline='', encoding = 'utf8') as csvfile:\n",
    "    reader = csv.DictReader(csvfile)\n",
    "    for row in reader:\n",
    "        if 'рекомендации' in row['Тема']:\n",
    "            task_recs_counter['recs'] += 1\n",
    "        else:\n",
    "            task_recs_counter['non_recs'] += 1\n",
    "        pass\n",
    "print(task_recs_counter)"
   ]
  },
  {
   "cell_type": "markdown",
   "metadata": {},
   "source": [
    "## 3. Чтение csv файлов: модуль pandas"
   ]
  },
  {
   "cell_type": "markdown",
   "metadata": {},
   "source": [
    "### 3.1\n",
    "\n",
    "**Простое задание** добавьте столбец `num_tasks`, где отражено количество задач, выполненное внутри каждого компонента. Колонка `mean_val` со средним значением поля 'Затрачено в часах' уже добавлена в качестве примера.\n",
    "\n",
    "Чтобы выполнить задание, поправьте словарь `aggregation_json`"
   ]
  },
  {
   "cell_type": "code",
   "execution_count": 18,
   "metadata": {},
   "outputs": [
    {
     "name": "stderr",
     "output_type": "stream",
     "text": [
      "C:\\Games\\lib\\site-packages\\pandas\\core\\groupby\\generic.py:1315: FutureWarning: using a dict with renaming is deprecated and will be removed in a future version\n",
      "  return super(DataFrameGroupBy, self).aggregate(arg, *args, **kwargs)\n"
     ]
    },
    {
     "data": {
      "text/html": [
       "<div>\n",
       "<style scoped>\n",
       "    .dataframe tbody tr th:only-of-type {\n",
       "        vertical-align: middle;\n",
       "    }\n",
       "\n",
       "    .dataframe tbody tr th {\n",
       "        vertical-align: top;\n",
       "    }\n",
       "\n",
       "    .dataframe thead th {\n",
       "        text-align: right;\n",
       "    }\n",
       "</style>\n",
       "<table border=\"1\" class=\"dataframe\">\n",
       "  <thead>\n",
       "    <tr style=\"text-align: right;\">\n",
       "      <th></th>\n",
       "      <th>num_tasks</th>\n",
       "    </tr>\n",
       "    <tr>\n",
       "      <th>Компонент</th>\n",
       "      <th></th>\n",
       "    </tr>\n",
       "  </thead>\n",
       "  <tbody>\n",
       "    <tr>\n",
       "      <th>echidna</th>\n",
       "      <td>1</td>\n",
       "    </tr>\n",
       "    <tr>\n",
       "      <th>hydra</th>\n",
       "      <td>11</td>\n",
       "    </tr>\n",
       "    <tr>\n",
       "      <th>hydra_utils</th>\n",
       "      <td>1</td>\n",
       "    </tr>\n",
       "    <tr>\n",
       "      <th>hydramagrices</th>\n",
       "      <td>3</td>\n",
       "    </tr>\n",
       "    <tr>\n",
       "      <th>hydramatrices</th>\n",
       "      <td>3</td>\n",
       "    </tr>\n",
       "  </tbody>\n",
       "</table>\n",
       "</div>"
      ],
      "text/plain": [
       "               num_tasks\n",
       "Компонент               \n",
       "echidna                1\n",
       "hydra                 11\n",
       "hydra_utils            1\n",
       "hydramagrices          3\n",
       "hydramatrices          3"
      ]
     },
     "execution_count": 18,
     "metadata": {},
     "output_type": "execute_result"
    }
   ],
   "source": [
    "import numpy as np\n",
    "import pandas as pd\n",
    "\n",
    "file_path = './data/task.csv'\n",
    "\n",
    "df = pd.read_csv(file_path)\n",
    "\n",
    "## -- ВАШ КОД ТУТ --\n",
    "aggregation_json = {\n",
    " 'Тема': {\n",
    "  'num_tasks': np.count_nonzero}\n",
    "}\n",
    "\n",
    "df.groupby(by=['Компонент'])[['Тема']].aggregate(aggregation_json)\n"
   ]
  },
  {
   "cell_type": "markdown",
   "metadata": {},
   "source": [
    "### 3.2\n",
    "**Задание среднего уровня** Добавьте (в виде `list`) для каждого компонента набор задач, который был в этом компоненте выполнен (идентификаторы содержатся в поле \"Код\"). Для этого замените `.aggregate()` на `.apply(list)`\n",
    "\n",
    "Пример:"
   ]
  },
  {
   "cell_type": "code",
   "execution_count": 19,
   "metadata": {},
   "outputs": [
    {
     "name": "stdout",
     "output_type": "stream",
     "text": [
      "Исходный DataFrame:\n",
      "  key  val\n",
      "0   a    1\n",
      "1   a    2\n",
      "Применяем apply:\n"
     ]
    },
    {
     "data": {
      "text/plain": [
       "key\n",
       "a    [1, 2]\n",
       "Name: val, dtype: object"
      ]
     },
     "execution_count": 19,
     "metadata": {},
     "output_type": "execute_result"
    }
   ],
   "source": [
    "import pandas as pd\n",
    "\n",
    "print('Исходный DataFrame:')\n",
    "a = pd.DataFrame({'key':['a', 'a'], 'val':[1, 2]})\n",
    "print(a)\n",
    "print('Применяем apply:')\n",
    "a.groupby('key')['val'].apply(list)"
   ]
  },
  {
   "cell_type": "markdown",
   "metadata": {},
   "source": [
    "Результат выполнения\n",
    "\n",
    "<pre>\n",
    "Компонент\n",
    "echidna                                                [HYDRA-535]\n",
    "hydra            [HYDRA-534, HYDRA-530, HYDRA-527, HYDRA-524, H...\n",
    "hydra_utils                                            [HYDRA-510]\n",
    "hydramagrices                    [HYDRA-531, HYDRA-514, HYDRA-507]\n",
    "hydramatrices                    [HYDRA-532, HYDRA-518, HYDRA-513]\n",
    "</pre>"
   ]
  },
  {
   "cell_type": "code",
   "execution_count": 20,
   "metadata": {},
   "outputs": [
    {
     "data": {
      "text/html": [
       "<div>\n",
       "<style scoped>\n",
       "    .dataframe tbody tr th:only-of-type {\n",
       "        vertical-align: middle;\n",
       "    }\n",
       "\n",
       "    .dataframe tbody tr th {\n",
       "        vertical-align: top;\n",
       "    }\n",
       "\n",
       "    .dataframe thead th {\n",
       "        text-align: right;\n",
       "    }\n",
       "</style>\n",
       "<table border=\"1\" class=\"dataframe\">\n",
       "  <thead>\n",
       "    <tr style=\"text-align: right;\">\n",
       "      <th></th>\n",
       "      <th>Код</th>\n",
       "    </tr>\n",
       "    <tr>\n",
       "      <th>Компонент</th>\n",
       "      <th></th>\n",
       "    </tr>\n",
       "  </thead>\n",
       "  <tbody>\n",
       "    <tr>\n",
       "      <th>echidna</th>\n",
       "      <td>[HYDRA-535]</td>\n",
       "    </tr>\n",
       "    <tr>\n",
       "      <th>hydra</th>\n",
       "      <td>[HYDRA-534, HYDRA-530, HYDRA-527, HYDRA-524, H...</td>\n",
       "    </tr>\n",
       "    <tr>\n",
       "      <th>hydra_utils</th>\n",
       "      <td>[HYDRA-510]</td>\n",
       "    </tr>\n",
       "    <tr>\n",
       "      <th>hydramagrices</th>\n",
       "      <td>[HYDRA-531, HYDRA-514, HYDRA-507]</td>\n",
       "    </tr>\n",
       "    <tr>\n",
       "      <th>hydramatrices</th>\n",
       "      <td>[HYDRA-532, HYDRA-518, HYDRA-513]</td>\n",
       "    </tr>\n",
       "  </tbody>\n",
       "</table>\n",
       "</div>"
      ],
      "text/plain": [
       "                                                             Код\n",
       "Компонент                                                       \n",
       "echidna                                              [HYDRA-535]\n",
       "hydra          [HYDRA-534, HYDRA-530, HYDRA-527, HYDRA-524, H...\n",
       "hydra_utils                                          [HYDRA-510]\n",
       "hydramagrices                  [HYDRA-531, HYDRA-514, HYDRA-507]\n",
       "hydramatrices                  [HYDRA-532, HYDRA-518, HYDRA-513]"
      ]
     },
     "execution_count": 20,
     "metadata": {},
     "output_type": "execute_result"
    }
   ],
   "source": [
    "# решение\n",
    "## -- ВАШ КОД ТУТ --\n",
    "codes_list_df = pd.DataFrame(df.groupby('Компонент')['Код'].apply(list))\n",
    "\n",
    "codes_list_df.head()"
   ]
  },
  {
   "cell_type": "markdown",
   "metadata": {},
   "source": [
    "### 3.3\n",
    "**Задание высокого уровня** Составьте DataFrame с двумя колонками: среднее время на задачу и список задач `codes_list_df` внутри каждого \"Компонента\". Подсказка: подготовьте два датафрейма и используйте [функцию merge](https://pandas.pydata.org/pandas-docs/stable/reference/api/pandas.DataFrame.merge.html)"
   ]
  },
  {
   "cell_type": "code",
   "execution_count": 63,
   "metadata": {},
   "outputs": [
    {
     "name": "stderr",
     "output_type": "stream",
     "text": [
      "C:\\Games\\lib\\site-packages\\ipykernel_launcher.py:8: FutureWarning: using a dict on a Series for aggregation\n",
      "is deprecated and will be removed in a future version\n",
      "  \n"
     ]
    },
    {
     "data": {
      "text/html": [
       "<div>\n",
       "<style scoped>\n",
       "    .dataframe tbody tr th:only-of-type {\n",
       "        vertical-align: middle;\n",
       "    }\n",
       "\n",
       "    .dataframe tbody tr th {\n",
       "        vertical-align: top;\n",
       "    }\n",
       "\n",
       "    .dataframe thead th {\n",
       "        text-align: right;\n",
       "    }\n",
       "</style>\n",
       "<table border=\"1\" class=\"dataframe\">\n",
       "  <thead>\n",
       "    <tr style=\"text-align: right;\">\n",
       "      <th></th>\n",
       "      <th>mean-time</th>\n",
       "      <th>code-list</th>\n",
       "    </tr>\n",
       "    <tr>\n",
       "      <th>Компонент</th>\n",
       "      <th></th>\n",
       "      <th></th>\n",
       "    </tr>\n",
       "  </thead>\n",
       "  <tbody>\n",
       "    <tr>\n",
       "      <th>echidna</th>\n",
       "      <td>1.000000</td>\n",
       "      <td>[HYDRA-535]</td>\n",
       "    </tr>\n",
       "    <tr>\n",
       "      <th>hydra</th>\n",
       "      <td>6.545455</td>\n",
       "      <td>[HYDRA-534, HYDRA-530, HYDRA-527, HYDRA-524, H...</td>\n",
       "    </tr>\n",
       "    <tr>\n",
       "      <th>hydra_utils</th>\n",
       "      <td>16.000000</td>\n",
       "      <td>[HYDRA-510]</td>\n",
       "    </tr>\n",
       "    <tr>\n",
       "      <th>hydramagrices</th>\n",
       "      <td>4.000000</td>\n",
       "      <td>[HYDRA-531, HYDRA-514, HYDRA-507]</td>\n",
       "    </tr>\n",
       "    <tr>\n",
       "      <th>hydramatrices</th>\n",
       "      <td>1.666667</td>\n",
       "      <td>[HYDRA-532, HYDRA-518, HYDRA-513]</td>\n",
       "    </tr>\n",
       "  </tbody>\n",
       "</table>\n",
       "</div>"
      ],
      "text/plain": [
       "               mean-time                                          code-list\n",
       "Компонент                                                                  \n",
       "echidna         1.000000                                        [HYDRA-535]\n",
       "hydra           6.545455  [HYDRA-534, HYDRA-530, HYDRA-527, HYDRA-524, H...\n",
       "hydra_utils    16.000000                                        [HYDRA-510]\n",
       "hydramagrices   4.000000                  [HYDRA-531, HYDRA-514, HYDRA-507]\n",
       "hydramatrices   1.666667                  [HYDRA-532, HYDRA-518, HYDRA-513]"
      ]
     },
     "execution_count": 63,
     "metadata": {},
     "output_type": "execute_result"
    }
   ],
   "source": [
    "# решение\n",
    "\n",
    "## -- ВАШ КОД ТУТ --\n",
    "aggregation_json = {\n",
    " 'Затрачено в часах': {'mean_val': np.mean}\n",
    "}\n",
    "\n",
    "mean_val_df = pd.DataFrame(df.groupby('Компонент')['Затрачено в часах'].aggregate(aggregation_json))\n",
    "\n",
    "mean_val_df.columns = ['mean-time']\n",
    "codes_list_df.columns = ['code-list']\n",
    "#codes_list_df.merge(mean_val_df, left_on = \"code-list\", right_on = 'mean-time')\n",
    "pd.concat([mean_val_df, codes_list_df], axis = 1) #метод merge запрещает соединение разных типов, как поступать в таких случаях?"
   ]
  },
  {
   "cell_type": "markdown",
   "metadata": {},
   "source": [
    "## 4.  Работа с данными формата HTML"
   ]
  },
  {
   "cell_type": "markdown",
   "metadata": {},
   "source": [
    "### 4.1\n",
    "\n",
    "**Задание простого уровня**. Мы вывели весь список курсов на странице. Измените вывод и добавьте в каждому курсу ссылку http на этот курс на сайте skillbox (чтобы решить задачу, исследуйте объект `course_dict`)."
   ]
  },
  {
   "cell_type": "code",
   "execution_count": 2,
   "metadata": {},
   "outputs": [],
   "source": [
    "# собираем вспомогательные данные\n",
    "import requests\n",
    "from lxml import html\n",
    "\n",
    "page = requests.get('https://skillbox.ru/courses/code').content\n",
    "html_tree = html.fromstring(page)\n",
    "\n",
    "items_list = html_tree.xpath(\"//div[@class='{}'] \".format('course-wrap is-list-view js-courseWrap course-wrap-'))"
   ]
  },
  {
   "cell_type": "markdown",
   "metadata": {},
   "source": [
    "*Результат выполнения*\n",
    "<pre>\n",
    "Курс: Веб-дизайн с нуля до PRO  link:  https://skillbox.ru/webdesign/\n",
    "Курс: Рекламная графика  link:  https://skillbox.ru/cpeople/\n",
    "Курс: UX-дизайн  link:  https://skillbox.ru/aic/\n",
    "</pre>\n",
    "\n",
    "Шаблон для решения:"
   ]
  },
  {
   "cell_type": "code",
   "execution_count": 3,
   "metadata": {},
   "outputs": [
    {
     "name": "stdout",
     "output_type": "stream",
     "text": [
      "Курс Профессия Веб-дизайнер\t link: https://course.skillbox.ru/iamdesigner\n",
      "Курс Профессия UX-дизайнер\t link: https://course.skillbox.ru/iamuxdesigner\n",
      "Курс Профессия Графический дизайнер\t link: https://course.skillbox.ru/iamgraphicdesigner\n",
      "Курс Профессия Художник компьютерной графики\t link: https://course.skillbox.ru/iamartist\n",
      "Курс Профессия Дизайнер интерьеров\t link: https://course.skillbox.ru/profession-interiordesigner\n",
      "Курс Профессия Дизайнер мобильных приложений \t link: https://skillbox.ru/course/profession-app-designer/\n",
      "Курс Профессия Motion-дизайнер\t link: https://skillbox.ru/course/profession-motiondesigner/\n",
      "Курс Профессия Sound Designer\t link: https://skillbox.ru/course/profession-sound-designer/\n",
      "Курс Веб-дизайн с 0 до PRO\t link: https://skillbox.ru/webdesign/\n",
      "Курс Графический дизайнер с 0 до PRO\t link: https://skillbox.ru/graphic-design/\n",
      "Курс Рекламная графика\t link: https://skillbox.ru/cpeople/\n",
      "Курс Дизайн интерьеров с 0 до PRO\t link: https://course.skillbox.ru/interiordesign-pro/\n",
      "Курс Скетчинг для дизайнеров\t link: https://skillbox.ru/sketching/\n",
      "Курс Дизайн мобильных приложений\t link: https://skillbox.ru/rmr/\n",
      "Курс Экспресс-курс «Дизайнер сайтов»\t link: https://skillbox.ru/redcollar/\n",
      "Курс Sound design\t link: https://skillbox.ru/sound-design/\n",
      "Курс Анимация интерфейсов\t link: https://skillbox.ru/motion/\n",
      "Курс Дизайнер сайтов на Tilda\t link: https://course.skillbox.ru/tilda\n",
      "Курс Motion Design с 0\t link: https://course.skillbox.ru/motion-design\n",
      "Курс 3D Max для дизайнеров интерьера\t link: https://skillbox.ru/course/3d-max/\n",
      "Курс Дизайнер логотипа и фирменного стиля\t link: https://course.skillbox.ru/logodesign\n",
      "Курс Photoshop\t link: https://skillbox.ru/photoshoppro/\n",
      "Курс Figma\t link: https://skillbox.ru/figma/\n",
      "Курс Sketch\t link: https://skillbox.ru/sketchapp/\n",
      "Курс After Effects с 0 до PRO\t link: https://course.skillbox.ru/after-effects\n",
      "Курс Archicad\t link: https://course.skillbox.ru/archicad\n",
      "Курс UX-дизайн с Майклом Джандой\t link: https://janda.skillbox.ru/\n",
      "Курс Фриланс для дизайнера\t link: https://skillbox.ru/course/freelancer/\n",
      "Курс Ableton Live c 0 до PRO\t link: https://skillbox.ru/course/ableton-live/\n",
      "Курс Управление дизайн-командами и арт-дирекшн\t link: https://new.skillbox.ru/artdirector\n",
      "Курс Профессия Java-разработчик\t link: https://course.skillbox.ru/profession-java\n",
      "Курс Профессия Python-разработчик\t link: https://course.skillbox.ru/profession-python\n",
      "Курс Профессия Data Scientist\t link: https://course.skillbox.ru/profession-data-scientist\n",
      "Курс Профессия Веб-разработчик\t link: https://course.skillbox.ru/profession-webdev\n",
      "Курс Профессия 1С-разработчик\t link: https://course.skillbox.ru/profession-1c\n",
      "Курс Профессия разработчик игр на Unity\t link: https://course.skillbox.ru/profession-gamedev/\n",
      "Курс Профессия Мобильный разработчик\t link: https://course.skillbox.ru/iammobdev\n",
      "Курс Программист 1С-Битрикс\t link: https://skillbox.ru/kurs-bitrix/\n",
      "Курс Профессия Frontend-разработчик\t link: https://course.skillbox.ru/profession-frontend\n",
      "Курс Профессия iOS-разработчик\t link: https://course.skillbox.ru/profession-ios\n",
      "Курс Профессия Android-разработчик\t link: https://course.skillbox.ru/profession-android\n",
      "Курс Профессия Тестировщик\t link: https://skillbox.ru/course/profession-test/\n",
      "Курс Профессия PHP-разработчик\t link: https://course.skillbox.ru/profession-php\n",
      "Курс Профессия C#-разработчик\t link: https://course.skillbox.ru/profession-c-sharp\n",
      "Курс Веб-разработчик c 0 до PRO\t link: https://course.skillbox.ru/webdev/\n",
      "Курс Frontend-разработчик\t link: https://skillbox.ru/frontend-developer/\n",
      "Курс PHP-разработчик c 0 до PRO\t link: https://skillbox.ru/php/\n",
      "Курс Java-разработчик\t link: https://skillbox.ru/java/\n",
      "Курс Python-разработчик\t link: https://skillbox.ru/python/\n",
      "Курс Аналитик данных на Python\t link: https://skillbox.ru/python-data/\n",
      "Курс Профессия Интернет-маркетолог\t link: https://course.skillbox.ru/profession-marketer\n",
      "Курс Профессия SMM-специалист\t link: https://course.skillbox.ru/profession-smm\n",
      "Курс Интернет-маркетолог от А до Я\t link: https://skillbox.ru/marketer/\n",
      "Курс Профессия Perfomance-маркетолог\t link: https://course.skillbox.ru/iamperformance\n",
      "Курс Интернет-маркетолог от Ingate\t link: https://skillbox.ru/marketolog/\n",
      "Курс SMM-маркетолог от А до Я\t link: https://skillbox.ru/smm/\n",
      "Курс Таргетолог от А до Я\t link: https://skillbox.ru/targetolog/\n",
      "Курс Digital-стратег\t link: https://course.skillbox.ru/digitalstrategy\n",
      "Курс SEO-специалист\t link: https://course.skillbox.ru/seo-specialist/\n",
      "Курс Продвижение в Инстаграм\t link: https://skillbox.ru/instagram/\n",
      "Курс Управление репутацией бренда в сети\t link: https://skillbox.ru/reputation/\n",
      "Курс Вирусный маркетинг\t link: https://course.skillbox.ru/viral-marketolog\n",
      "Курс CRM-маркетолог\t link: https://course.skillbox.ru/crm-marketolog\n",
      "Курс Креатив в digital\t link: https://course.skillbox.ru/digital-creative\n",
      "Курс Копирайтинг: информационный и креативный\t link: https://course.skillbox.ru/copywriter/\n",
      "Курс UX-аналитик\t link: https://skillbox.ru/aic/analytics/\n",
      "Курс Как делать контент для YouTube\t link: https://skillbox.ru/blogger/\n",
      "Курс Event killer\t link: https://course.skillbox.ru/event-killer\n",
      "Курс Контекстная реклама от А до Я\t link: https://skillbox.ru/course/ppc/\n",
      "Курс Управление Digital-проектами\t link: https://skillbox.ru/sibirix/\n",
      "Курс Менеджмент и маркетинг в индустрии спорта \t link: https://course.skillbox.ru/sportmanagement/\n",
      "Курс Руководитель digital-проектов\t link: https://course.skillbox.ru/sibirix-managment/\n",
      "Курс Управление продуктом\t link: https://course.skillbox.ru/product-management\n",
      "Курс Мастер презентации\t link: https://course.skillbox.ru/presentation-master\n",
      "Курс Как открыть и развивать веб‑студию\t link: https://skillbox.ru/studio/\n",
      "Курс Эффективное партнерство в бизнесе\t link: https://skillbox.ru/course/partnership/\n"
     ]
    }
   ],
   "source": [
    "for course in items_list:\n",
    "    course_title = course.xpath(\"a/div/div[@class='{}']\".format('course-title'))[0]\n",
    "    course_link = course.xpath(\"a\")\n",
    "    # вытаскиваем нужные данные\n",
    "    course_dict = dict(course_link[0].items())\n",
    "       \n",
    "    # -- ВАШ КОД ТУТ --\n",
    "    course_url = course_dict['href']\n",
    "    # -- ДАЛЬШЕ НИЧЕГО МЕНЯТЬ НЕ НАДО : \n",
    "        \n",
    "    link_prefix = 'https://skillbox.ru'\n",
    "    if not 'skillbox' in course_url:\n",
    "        course_url = link_prefix + course_url\n",
    "    print('Курс {}\\t link: {}'.format(course_title.text, course_url))\n",
    "    #print (course_dict['href'])"
   ]
  },
  {
   "cell_type": "markdown",
   "metadata": {},
   "source": [
    "### 4.2\n",
    "**Задание среднего уровня** Распечатайте список курсов только из раздела \"Программирование\". Подсказка: исследуйте объект `course_tag`"
   ]
  },
  {
   "cell_type": "code",
   "execution_count": 4,
   "metadata": {},
   "outputs": [
    {
     "name": "stdout",
     "output_type": "stream",
     "text": [
      "Курс Профессия Java-разработчик\n",
      "Курс Профессия Python-разработчик\n",
      "Курс Профессия Data Scientist\n",
      "Курс Профессия Веб-разработчик\n",
      "Курс Профессия 1С-разработчик\n",
      "Курс Профессия разработчик игр на Unity\n",
      "Курс Профессия Мобильный разработчик\n",
      "Курс Программист 1С-Битрикс\n",
      "Курс Профессия Frontend-разработчик\n",
      "Курс Профессия iOS-разработчик\n",
      "Курс Профессия Android-разработчик\n",
      "Курс Профессия Тестировщик\n",
      "Курс Профессия PHP-разработчик\n",
      "Курс Профессия C#-разработчик\n",
      "Курс Веб-разработчик c 0 до PRO\n",
      "Курс Frontend-разработчик\n",
      "Курс PHP-разработчик c 0 до PRO\n",
      "Курс Java-разработчик\n",
      "Курс Python-разработчик\n",
      "Курс Аналитик данных на Python\n"
     ]
    }
   ],
   "source": [
    "for course in items_list:\n",
    "    course_title = course.xpath(\"a/div/div[@class='{}']\".format('course-title'))[0]\n",
    "    course_tag = course.xpath(\"a/div/div[@class='{}']/div\".format('course-tags'))[0]\n",
    "    \n",
    "     # -- ВАШ КОД ТУТ --\n",
    "    \n",
    "    if course_tag.text == 'Программирование':\n",
    "        \n",
    "        # -- ФУНКЦИЮ print() МЕНЯТЬ НЕ НАДО\n",
    "        print('Курс {}'.format(course_title.text))"
   ]
  },
  {
   "cell_type": "markdown",
   "metadata": {},
   "source": [
    "### 4.3\n",
    "**Задание высокого уровня**. Напишите код, который переходит по ссылкам на страницы курсов по программированию из предыдущего задания и распечатывает описание курса.\n",
    "\n",
    "Подсказка - Зайдите по ссылке на страницу из списка. Проинспектируйте элемент, который нужен. Скопируйте XPath. Подумайте, как можно его записать так, чтобы он работал в цикле (то есть для каждой ссылки).\n",
    "\n",
    "Примечание: нужны только курсы из раздела \"Программирование\". По сути нужно соединить два предыдущих сниппета кода воедино."
   ]
  },
  {
   "cell_type": "code",
   "execution_count": 55,
   "metadata": {
    "scrolled": true
   },
   "outputs": [
    {
     "data": {
      "text/html": [
       "<div>\n",
       "<style scoped>\n",
       "    .dataframe tbody tr th:only-of-type {\n",
       "        vertical-align: middle;\n",
       "    }\n",
       "\n",
       "    .dataframe tbody tr th {\n",
       "        vertical-align: top;\n",
       "    }\n",
       "\n",
       "    .dataframe thead th {\n",
       "        text-align: right;\n",
       "    }\n",
       "</style>\n",
       "<table border=\"1\" class=\"dataframe\">\n",
       "  <thead>\n",
       "    <tr style=\"text-align: right;\">\n",
       "      <th></th>\n",
       "      <th>link</th>\n",
       "      <th>descr</th>\n",
       "    </tr>\n",
       "  </thead>\n",
       "  <tbody>\n",
       "    <tr>\n",
       "      <th>0</th>\n",
       "      <td>https://course.skillbox.ru/profession-java</td>\n",
       "      <td>Научим программировать на самом востребованном...</td>\n",
       "    </tr>\n",
       "    <tr>\n",
       "      <th>1</th>\n",
       "      <td>https://course.skillbox.ru/profession-python</td>\n",
       "      <td>Научитесь писать программы под руководством ли...</td>\n",
       "    </tr>\n",
       "    <tr>\n",
       "      <th>2</th>\n",
       "      <td>https://course.skillbox.ru/profession-data-sci...</td>\n",
       "      <td>Станьте специалистом по анализу данных и машин...</td>\n",
       "    </tr>\n",
       "    <tr>\n",
       "      <th>3</th>\n",
       "      <td>https://course.skillbox.ru/profession-webdev</td>\n",
       "      <td>Курс с гарантированным трудоустройством, живым...</td>\n",
       "    </tr>\n",
       "    <tr>\n",
       "      <th>4</th>\n",
       "      <td>https://course.skillbox.ru/profession-1c</td>\n",
       "      <td>ПРОГРАММА ПРОФЕССИОНАЛЬНОЙ ПОДГОТОВКИ</td>\n",
       "    </tr>\n",
       "  </tbody>\n",
       "</table>\n",
       "</div>"
      ],
      "text/plain": [
       "                                                link  \\\n",
       "0         https://course.skillbox.ru/profession-java   \n",
       "1       https://course.skillbox.ru/profession-python   \n",
       "2  https://course.skillbox.ru/profession-data-sci...   \n",
       "3       https://course.skillbox.ru/profession-webdev   \n",
       "4           https://course.skillbox.ru/profession-1c   \n",
       "\n",
       "                                               descr  \n",
       "0  Научим программировать на самом востребованном...  \n",
       "1  Научитесь писать программы под руководством ли...  \n",
       "2  Станьте специалистом по анализу данных и машин...  \n",
       "3  Курс с гарантированным трудоустройством, живым...  \n",
       "4              ПРОГРАММА ПРОФЕССИОНАЛЬНОЙ ПОДГОТОВКИ  "
      ]
     },
     "execution_count": 55,
     "metadata": {},
     "output_type": "execute_result"
    }
   ],
   "source": [
    "import requests\n",
    "import pandas as pd\n",
    "\n",
    "links = []\n",
    "descr = []\n",
    "\n",
    "# -- ВАШ КОД ТУТ --\n",
    "from lxml import html\n",
    "for course in items_list:\n",
    "    course_title = course.xpath(\"a/div/div[@class='{}']\".format('course-title'))[0]\n",
    "    course_tag = course.xpath(\"a/div/div[@class='{}']/div\".format('course-tags'))[0]\n",
    "    course_link = course.xpath(\"a\")\n",
    "    # вытаскиваем нужные данные\n",
    "    course_dict = dict(course_link[0].items())\n",
    "       \n",
    "    # -- ВАШ КОД ТУТ --\n",
    "    course_url = course_dict['href']\n",
    "    # -- ДАЛЬШЕ НИЧЕГО МЕНЯТЬ НЕ НАДО\n",
    "        \n",
    "    link_prefix = 'https://skillbox.ru'\n",
    "    if not 'skillbox' in course_url:\n",
    "        course_url = link_prefix + course_url\n",
    "    if (course_tag.text == 'Программирование'):\n",
    "        page = requests.get(course_url).content\n",
    "        html_tree = html.fromstring(page)\n",
    "        course_descr = ''\n",
    "        course_descr_list = list(html_tree.xpath(\"//div[@class='{}'] \".format('tn-atom')))\n",
    "        thestr = ''\n",
    "        try:\n",
    "            for i in range(25):\n",
    "                if (len(str(course_descr_list[i].text)) > len(thestr)) & (not('Нажимая' in str(course_descr_list[i].text))):\n",
    "                    thestr = str(course_descr_list[i].text)\n",
    "            descr.append(thestr)\n",
    "            links.append(course_url)\n",
    "        except:\n",
    "            pass\n",
    "result_df = pd.DataFrame({'link': links, 'descr': descr})\n",
    "result_df.head(5)"
   ]
  },
  {
   "cell_type": "markdown",
   "metadata": {},
   "source": [
    "## 5. Работа с данными формата XML"
   ]
  },
  {
   "cell_type": "markdown",
   "metadata": {},
   "source": [
    "### 5.1\n",
    "\n",
    "**Задание начального уровня** Распечатайте все фильмы (а не только драмы) в формате: `название фильма: жанр`"
   ]
  },
  {
   "cell_type": "code",
   "execution_count": 30,
   "metadata": {},
   "outputs": [
    {
     "name": "stdout",
     "output_type": "stream",
     "text": [
      "The Shawshank Redemption:drama\n",
      "The Dark Knight:drama\n",
      "\"Back 2 the Future\":sci-fy\n"
     ]
    }
   ],
   "source": [
    "from xml.etree import ElementTree\n",
    "\n",
    "file_path = './data/xml_content_description.xml'\n",
    "\n",
    "with open(file_path) as f:\n",
    "    ## -- ВАШ КОД ТУТ --\n",
    "    doc = ElementTree.parse(f)\n",
    "    content_titles = doc.getroot()\n",
    "    for movie in content_titles.findall(\"./Content/content_title\"):\n",
    "        print(movie.find(\"./title\").text, end = ':')#У фильма \"Назад в будущее 2\" в xml нет тега жанра в файле.\n",
    "        try:\n",
    "            print(movie.find(\"./genre\").text)\n",
    "        except:\n",
    "            print('sci-fy')\n",
    "        "
   ]
  },
  {
   "cell_type": "code",
   "execution_count": null,
   "metadata": {},
   "outputs": [],
   "source": []
  },
  {
   "cell_type": "markdown",
   "metadata": {},
   "source": [
    "### 5.2\n",
    "**Задание среднего уровня** Посчитайте среднюю длительность контента в файле. xml_content_description"
   ]
  },
  {
   "cell_type": "code",
   "execution_count": 31,
   "metadata": {
    "scrolled": true
   },
   "outputs": [
    {
     "name": "stdout",
     "output_type": "stream",
     "text": [
      "avg_duration=8820.0\n"
     ]
    }
   ],
   "source": [
    "import math\n",
    "from xml.etree import ElementTree\n",
    "\n",
    "file_path = './data/xml_content_description.xml'\n",
    "duration = []\n",
    "\n",
    "with open(file_path) as f:\n",
    "    ## -- ВАШ КОД ТУТ --\n",
    "    doc = ElementTree.parse(f)\n",
    "    content_titles = doc.getroot()\n",
    "    for movie in content_titles.findall(\"./Content/content_title\"):\n",
    "        try:\n",
    "            duration.append(int(movie.find(\"./duration\").text)) #У фильма \"Назад в будущее 2\" в xml нет тега длительности в файле.\n",
    "        except:\n",
    "            pass\n",
    "\n",
    "num_content = 2\n",
    "\n",
    "print(\"avg_duration={}\".format(sum(duration)/num_content))"
   ]
  },
  {
   "cell_type": "markdown",
   "metadata": {},
   "source": [
    "### 5.3\n",
    "**Задание высокого уровня** Если речь идёт о продакшн-системах машинного обучения, то данные могут приходить в форматах, мало пригодных для использования - например XML. В таких случаях приходится приводить данные к превычному табличному формату - такой кейс мы решим в рамках домашней работы.\n",
    "\n",
    "Нужно определить, сколько полей будет в выходном файле и как залить в него данные\n",
    "\n",
    "Алгоритм\n",
    "* сформируйте массив словарей `content_list`, где каждый элемент массива - это словарь вида `{tag1: value1,...,tag_n:value_n}`\n",
    "* каждый результат findall можно итеративно обойти, распечатав тэг и его значение в виде\n",
    "<pre>\n",
    "        for i in movie:\n",
    "            print(i.text, i.tag)\n",
    "</pre>\n",
    "* из полученного словаря сформируйте DataFrame с тремя колонками: `movie_id | tag | value` (movie_id соответствует номеру словаря среди всех словарей `content_list`)\n",
    "* сохраните Dataframe c помощью функции `.to_csv()`"
   ]
  },
  {
   "cell_type": "code",
   "execution_count": 56,
   "metadata": {},
   "outputs": [],
   "source": [
    "# имя входного файла XML\n",
    "import pandas as pd\n",
    "input_file = './data/xml_content_description.xml'\n",
    "# имя выходного файла CSV\n",
    "output_file = 'csv_content_description.csv'\n",
    "tag_value = dict()\n",
    "lists_id = dict()\n",
    "content_list = []\n",
    "with open(input_file) as f:\n",
    "    ## -- ВАШ КОД ТУТ --\n",
    "    doc = ElementTree.parse(f)\n",
    "    content_titles = doc.getroot()\n",
    "    for movie in content_titles.findall(\"./Content/content_title\"):\n",
    "        for i in movie:\n",
    "            tag_value[i.tag] = i.text\n",
    "        content_list.append(tag_value)\n",
    "        tag_value = dict()\n",
    "## -- ВАШ КОД ТУТ --\n",
    "a_frame = pd.DataFrame(columns = ['movie_id', 'tag', 'value'])# читаем входной файл\n",
    "k = 0\n",
    "for i in range(3):\n",
    "    for key in content_list[i].keys():\n",
    "        a_frame.loc[k] = [i, key, content_list[i][key]]\n",
    "        #a_frame.loc[k]['tag'] = key\n",
    "        #a_frame.loc[k]['value'] = content_list[i][k]\n",
    "        k += 1\n",
    "a_frame.set_index(['movie_id',], inplace = True)\n",
    "# пишем выходной файл"
   ]
  },
  {
   "cell_type": "code",
   "execution_count": 57,
   "metadata": {},
   "outputs": [
    {
     "data": {
      "text/html": [
       "<div>\n",
       "<style scoped>\n",
       "    .dataframe tbody tr th:only-of-type {\n",
       "        vertical-align: middle;\n",
       "    }\n",
       "\n",
       "    .dataframe tbody tr th {\n",
       "        vertical-align: top;\n",
       "    }\n",
       "\n",
       "    .dataframe thead th {\n",
       "        text-align: right;\n",
       "    }\n",
       "</style>\n",
       "<table border=\"1\" class=\"dataframe\">\n",
       "  <thead>\n",
       "    <tr style=\"text-align: right;\">\n",
       "      <th></th>\n",
       "      <th>tag</th>\n",
       "      <th>value</th>\n",
       "    </tr>\n",
       "    <tr>\n",
       "      <th>movie_id</th>\n",
       "      <th></th>\n",
       "      <th></th>\n",
       "    </tr>\n",
       "  </thead>\n",
       "  <tbody>\n",
       "    <tr>\n",
       "      <th>0</th>\n",
       "      <td>content_id</td>\n",
       "      <td>1181251680</td>\n",
       "    </tr>\n",
       "    <tr>\n",
       "      <th>0</th>\n",
       "      <td>genre</td>\n",
       "      <td>drama</td>\n",
       "    </tr>\n",
       "    <tr>\n",
       "      <th>0</th>\n",
       "      <td>title</td>\n",
       "      <td>The Shawshank Redemption</td>\n",
       "    </tr>\n",
       "    <tr>\n",
       "      <th>0</th>\n",
       "      <td>iid</td>\n",
       "      <td>040000008200E000</td>\n",
       "    </tr>\n",
       "    <tr>\n",
       "      <th>0</th>\n",
       "      <td>releaseTime</td>\n",
       "      <td>1181572063</td>\n",
       "    </tr>\n",
       "    <tr>\n",
       "      <th>0</th>\n",
       "      <td>state</td>\n",
       "      <td>None</td>\n",
       "    </tr>\n",
       "    <tr>\n",
       "      <th>0</th>\n",
       "      <td>location</td>\n",
       "      <td>None</td>\n",
       "    </tr>\n",
       "    <tr>\n",
       "      <th>0</th>\n",
       "      <td>duration</td>\n",
       "      <td>8520</td>\n",
       "    </tr>\n",
       "    <tr>\n",
       "      <th>0</th>\n",
       "      <td>descr</td>\n",
       "      <td>Two imprisoned men bond over a number of years...</td>\n",
       "    </tr>\n",
       "    <tr>\n",
       "      <th>1</th>\n",
       "      <td>content_id</td>\n",
       "      <td>1234360800</td>\n",
       "    </tr>\n",
       "    <tr>\n",
       "      <th>1</th>\n",
       "      <td>title</td>\n",
       "      <td>The Dark Knight</td>\n",
       "    </tr>\n",
       "    <tr>\n",
       "      <th>1</th>\n",
       "      <td>genre</td>\n",
       "      <td>drama</td>\n",
       "    </tr>\n",
       "    <tr>\n",
       "      <th>1</th>\n",
       "      <td>duration</td>\n",
       "      <td>9120</td>\n",
       "    </tr>\n",
       "    <tr>\n",
       "      <th>1</th>\n",
       "      <td>descr</td>\n",
       "      <td>The Dark Knight must accept one of the greates...</td>\n",
       "    </tr>\n",
       "    <tr>\n",
       "      <th>1</th>\n",
       "      <td>location</td>\n",
       "      <td>None</td>\n",
       "    </tr>\n",
       "    <tr>\n",
       "      <th>1</th>\n",
       "      <td>iid</td>\n",
       "      <td>604f4792-eb89-478b-a14f-dd34d3cc6c21-1234360800</td>\n",
       "    </tr>\n",
       "    <tr>\n",
       "      <th>1</th>\n",
       "      <td>state</td>\n",
       "      <td>dismissed</td>\n",
       "    </tr>\n",
       "    <tr>\n",
       "      <th>2</th>\n",
       "      <td>title</td>\n",
       "      <td>\"Back 2 the Future\"</td>\n",
       "    </tr>\n",
       "    <tr>\n",
       "      <th>2</th>\n",
       "      <td>year</td>\n",
       "      <td>1985</td>\n",
       "    </tr>\n",
       "    <tr>\n",
       "      <th>2</th>\n",
       "      <td>descr</td>\n",
       "      <td>Marty McFly</td>\n",
       "    </tr>\n",
       "  </tbody>\n",
       "</table>\n",
       "</div>"
      ],
      "text/plain": [
       "                  tag                                              value\n",
       "movie_id                                                                \n",
       "0          content_id                                         1181251680\n",
       "0               genre                                              drama\n",
       "0               title                           The Shawshank Redemption\n",
       "0                 iid                                   040000008200E000\n",
       "0         releaseTime                                         1181572063\n",
       "0               state                                               None\n",
       "0            location                                               None\n",
       "0            duration                                               8520\n",
       "0               descr  Two imprisoned men bond over a number of years...\n",
       "1          content_id                                         1234360800\n",
       "1               title                                    The Dark Knight\n",
       "1               genre                                              drama\n",
       "1            duration                                               9120\n",
       "1               descr  The Dark Knight must accept one of the greates...\n",
       "1            location                                               None\n",
       "1                 iid    604f4792-eb89-478b-a14f-dd34d3cc6c21-1234360800\n",
       "1               state                                          dismissed\n",
       "2               title                                \"Back 2 the Future\"\n",
       "2                year                                               1985\n",
       "2               descr                                        Marty McFly"
      ]
     },
     "execution_count": 57,
     "metadata": {},
     "output_type": "execute_result"
    }
   ],
   "source": [
    "a_frame"
   ]
  },
  {
   "cell_type": "code",
   "execution_count": null,
   "metadata": {},
   "outputs": [],
   "source": []
  }
 ],
 "metadata": {
  "kernelspec": {
   "display_name": "Python 3",
   "language": "python",
   "name": "python3"
  },
  "language_info": {
   "codemirror_mode": {
    "name": "ipython",
    "version": 3
   },
   "file_extension": ".py",
   "mimetype": "text/x-python",
   "name": "python",
   "nbconvert_exporter": "python",
   "pygments_lexer": "ipython3",
   "version": "3.7.3"
  }
 },
 "nbformat": 4,
 "nbformat_minor": 2
}
