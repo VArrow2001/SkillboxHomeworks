{
 "cells": [
  {
   "cell_type": "markdown",
   "metadata": {},
   "source": [
    "# 7.1 Понятие объекта и его класса"
   ]
  },
  {
   "cell_type": "code",
   "execution_count": 1,
   "metadata": {},
   "outputs": [],
   "source": [
    "class Toyota:\n",
    "    \n",
    "    def __init__(self):\n",
    "        self.color = \"Бордовый металлик\"\n",
    "        self.price = \"1 000 000 руб.\"\n",
    "        self.max_velocity = \"200 км/ч\"\n",
    "        self.current_velocity = \"0 км/ч\"\n",
    "        self.engine_rpm = 0\n",
    "\n",
    "    def start(self):\n",
    "        print('Мотор запущен')\n",
    "        self.engine_rpm = 900\n",
    "\n",
    "    def go(self):\n",
    "        print('Поехали!')\n",
    "        self.engine_rpm = 2000\n",
    "        self.current_velocity = \"20 км/ч\""
   ]
  },
  {
   "cell_type": "code",
   "execution_count": 2,
   "metadata": {},
   "outputs": [],
   "source": [
    "my_car = Toyota()"
   ]
  },
  {
   "cell_type": "code",
   "execution_count": 3,
   "metadata": {},
   "outputs": [
    {
     "name": "stdout",
     "output_type": "stream",
     "text": [
      "Мотор запущен\n"
     ]
    }
   ],
   "source": [
    "my_car.start()"
   ]
  },
  {
   "cell_type": "code",
   "execution_count": 4,
   "metadata": {},
   "outputs": [],
   "source": [
    "?my_car"
   ]
  },
  {
   "cell_type": "code",
   "execution_count": 5,
   "metadata": {},
   "outputs": [],
   "source": [
    "?Toyota"
   ]
  },
  {
   "cell_type": "code",
   "execution_count": 6,
   "metadata": {},
   "outputs": [
    {
     "data": {
      "text/plain": [
       "__main__.Toyota"
      ]
     },
     "execution_count": 6,
     "metadata": {},
     "output_type": "execute_result"
    }
   ],
   "source": [
    "type(my_car)"
   ]
  },
  {
   "cell_type": "code",
   "execution_count": 8,
   "metadata": {},
   "outputs": [],
   "source": [
    "produced, plan = 0, 1e4\n",
    "stock = []\n",
    "while produced < plan:\n",
    "    new_car = Toyota()\n",
    "    stock.append(new_car)\n",
    "    produced += 1"
   ]
  },
  {
   "cell_type": "code",
   "execution_count": 29,
   "metadata": {},
   "outputs": [],
   "source": [
    "class Robot:\n",
    "    \"\"\"Простой пример класса\"\"\"\n",
    "    \n",
    "    def __init__(self):\n",
    "        self.name = 'R2D2'\n",
    "    \n",
    "    def hello(self):\n",
    "        print('Привет, я', self.name)\n",
    "        \n",
    "    def go(self, x, y):\n",
    "        print(f'Иду в точку {x}, {y}')"
   ]
  },
  {
   "cell_type": "code",
   "execution_count": 30,
   "metadata": {},
   "outputs": [],
   "source": [
    "r = Robot()"
   ]
  },
  {
   "cell_type": "code",
   "execution_count": 31,
   "metadata": {},
   "outputs": [
    {
     "name": "stdout",
     "output_type": "stream",
     "text": [
      "Привет, я R2D2\n"
     ]
    }
   ],
   "source": [
    "r.hello()"
   ]
  },
  {
   "cell_type": "code",
   "execution_count": 32,
   "metadata": {},
   "outputs": [],
   "source": [
    "r.name = 'C-3PO'"
   ]
  },
  {
   "cell_type": "code",
   "execution_count": 33,
   "metadata": {},
   "outputs": [
    {
     "name": "stdout",
     "output_type": "stream",
     "text": [
      "Привет, я C-3PO\n"
     ]
    }
   ],
   "source": [
    "r.hello()"
   ]
  },
  {
   "cell_type": "code",
   "execution_count": 34,
   "metadata": {},
   "outputs": [],
   "source": [
    "from copy import deepcopy"
   ]
  },
  {
   "cell_type": "code",
   "execution_count": 35,
   "metadata": {},
   "outputs": [],
   "source": [
    "k = deepcopy(r)"
   ]
  },
  {
   "cell_type": "code",
   "execution_count": 36,
   "metadata": {},
   "outputs": [],
   "source": [
    "k.name = 'Арнольд'"
   ]
  },
  {
   "cell_type": "code",
   "execution_count": 37,
   "metadata": {},
   "outputs": [
    {
     "name": "stdout",
     "output_type": "stream",
     "text": [
      "Привет, я Арнольд\n"
     ]
    }
   ],
   "source": [
    "k.hello()"
   ]
  },
  {
   "cell_type": "code",
   "execution_count": 38,
   "metadata": {},
   "outputs": [
    {
     "name": "stdout",
     "output_type": "stream",
     "text": [
      "Привет, я C-3PO\n"
     ]
    }
   ],
   "source": [
    "r.hello()"
   ]
  },
  {
   "cell_type": "markdown",
   "metadata": {},
   "source": [
    "# 7.2 Атрибуты и классы объекта"
   ]
  },
  {
   "cell_type": "code",
   "execution_count": 39,
   "metadata": {},
   "outputs": [],
   "source": [
    "robot = r\n",
    "r.temperature = 1"
   ]
  },
  {
   "cell_type": "code",
   "execution_count": 40,
   "metadata": {},
   "outputs": [
    {
     "name": "stdout",
     "output_type": "stream",
     "text": [
      "16\n"
     ]
    }
   ],
   "source": [
    "while robot.temperature < 10:\n",
    "    robot.temperature *= 2\n",
    "print(robot.temperature)\n",
    "del robot.temperature"
   ]
  },
  {
   "cell_type": "code",
   "execution_count": 41,
   "metadata": {},
   "outputs": [],
   "source": [
    "attr_name = 'model'\n",
    "if hasattr(robot, attr_name):\n",
    "    print(robot.model)\n",
    "else:\n",
    "    setattr(robot, attr_name, 'android')"
   ]
  },
  {
   "cell_type": "code",
   "execution_count": 42,
   "metadata": {},
   "outputs": [
    {
     "name": "stdout",
     "output_type": "stream",
     "text": [
      "android\n"
     ]
    }
   ],
   "source": [
    "print(getattr(robot, attr_name))"
   ]
  },
  {
   "cell_type": "code",
   "execution_count": 43,
   "metadata": {},
   "outputs": [],
   "source": [
    "delattr(robot, attr_name)"
   ]
  },
  {
   "cell_type": "code",
   "execution_count": 44,
   "metadata": {},
   "outputs": [
    {
     "ename": "AttributeError",
     "evalue": "'Robot' object has no attribute 'model'",
     "output_type": "error",
     "traceback": [
      "\u001b[1;31m---------------------------------------------------------------------------\u001b[0m",
      "\u001b[1;31mAttributeError\u001b[0m                            Traceback (most recent call last)",
      "\u001b[1;32m<ipython-input-44-7b311578e50f>\u001b[0m in \u001b[0;36m<module>\u001b[1;34m\u001b[0m\n\u001b[1;32m----> 1\u001b[1;33m \u001b[0mprint\u001b[0m\u001b[1;33m(\u001b[0m\u001b[0mrobot\u001b[0m\u001b[1;33m.\u001b[0m\u001b[0mmodel\u001b[0m\u001b[1;33m)\u001b[0m\u001b[1;33m\u001b[0m\u001b[1;33m\u001b[0m\u001b[0m\n\u001b[0m",
      "\u001b[1;31mAttributeError\u001b[0m: 'Robot' object has no attribute 'model'"
     ]
    }
   ],
   "source": [
    "print(robot.model)"
   ]
  },
  {
   "cell_type": "code",
   "execution_count": 45,
   "metadata": {},
   "outputs": [
    {
     "name": "stdout",
     "output_type": "stream",
     "text": [
      "Иду в точку 100, 200\n"
     ]
    }
   ],
   "source": [
    "r.go(100, 200)"
   ]
  },
  {
   "cell_type": "markdown",
   "metadata": {},
   "source": [
    "# 7.3 Указатель на свой объект в методах"
   ]
  },
  {
   "cell_type": "code",
   "execution_count": 46,
   "metadata": {},
   "outputs": [],
   "source": [
    "class Backpack:\n",
    "    \n",
    "    def add(self, item):\n",
    "        \n",
    "        print(f\"В рюкзак положили {item}\")\n",
    "        self.content = item"
   ]
  },
  {
   "cell_type": "code",
   "execution_count": 47,
   "metadata": {},
   "outputs": [],
   "source": [
    "my_bp = Backpack()"
   ]
  },
  {
   "cell_type": "code",
   "execution_count": 48,
   "metadata": {},
   "outputs": [
    {
     "name": "stdout",
     "output_type": "stream",
     "text": [
      "В рюкзак положили Ноут\n"
     ]
    }
   ],
   "source": [
    "my_bp.add('Ноут')"
   ]
  },
  {
   "cell_type": "code",
   "execution_count": 51,
   "metadata": {},
   "outputs": [
    {
     "name": "stdout",
     "output_type": "stream",
     "text": [
      "В рюкзак положили Мак\n"
     ]
    }
   ],
   "source": [
    "Backpack.add(self = my_bp, item = 'Мак')"
   ]
  },
  {
   "cell_type": "code",
   "execution_count": 52,
   "metadata": {},
   "outputs": [
    {
     "data": {
      "text/plain": [
       "'Мак'"
      ]
     },
     "execution_count": 52,
     "metadata": {},
     "output_type": "execute_result"
    }
   ],
   "source": [
    "my_bp.content"
   ]
  },
  {
   "cell_type": "markdown",
   "metadata": {},
   "source": [
    "# 7.4 Специальные методы классов"
   ]
  },
  {
   "cell_type": "code",
   "execution_count": 68,
   "metadata": {},
   "outputs": [],
   "source": [
    "class Backpack:\n",
    "    \n",
    "    def __init__(self, gift = None):\n",
    "        self.content = []\n",
    "        if gift is not None:\n",
    "            self.content.append(gift)\n",
    "        \n",
    "    def add(self, item):\n",
    "        \n",
    "        print(f\"В рюкзак положили {item}\")\n",
    "        self.content.append(item)\n",
    "    \n",
    "    def inspect(self):\n",
    "        for i in self.content:\n",
    "            print(i)\n",
    "            \n",
    "    def __del__(self):\n",
    "        self.content = None\n",
    "        print('Прощай мир!')\n",
    "    \n",
    "    def __str__(self):\n",
    "        return 'Backpack: ' + ', '.join(self.content)\n",
    "    \n",
    "    def __len__(self):\n",
    "        return len(self.content)\n",
    "    \n",
    "    # def __hash__ - вызывается для получения уникального хэша объекта\n",
    "    \n",
    "    def __bool__(self):\n",
    "        return len(self.content) > 0"
   ]
  },
  {
   "cell_type": "code",
   "execution_count": 54,
   "metadata": {},
   "outputs": [],
   "source": [
    "my_bp = Backpack()"
   ]
  },
  {
   "cell_type": "code",
   "execution_count": 55,
   "metadata": {},
   "outputs": [
    {
     "name": "stdout",
     "output_type": "stream",
     "text": [
      "В рюкзак положили Кошелек\n"
     ]
    }
   ],
   "source": [
    "my_bp.add('Кошелек')"
   ]
  },
  {
   "cell_type": "code",
   "execution_count": 56,
   "metadata": {},
   "outputs": [
    {
     "name": "stdout",
     "output_type": "stream",
     "text": [
      "В рюкзак положили Зарядка\n"
     ]
    }
   ],
   "source": [
    "my_bp.add('Зарядка')"
   ]
  },
  {
   "cell_type": "code",
   "execution_count": 57,
   "metadata": {},
   "outputs": [
    {
     "name": "stdout",
     "output_type": "stream",
     "text": [
      "Кошелек\n",
      "Зарядка\n"
     ]
    }
   ],
   "source": [
    "my_bp.inspect()"
   ]
  },
  {
   "cell_type": "code",
   "execution_count": 60,
   "metadata": {},
   "outputs": [],
   "source": [
    "my_bp = Backpack(gift = 'Флешка')"
   ]
  },
  {
   "cell_type": "code",
   "execution_count": 61,
   "metadata": {},
   "outputs": [
    {
     "name": "stdout",
     "output_type": "stream",
     "text": [
      "Прощай мир!\n"
     ]
    }
   ],
   "source": [
    "my_bp = None"
   ]
  },
  {
   "cell_type": "code",
   "execution_count": 63,
   "metadata": {},
   "outputs": [],
   "source": [
    "new = Backpack(gift = 'Блокнот')"
   ]
  },
  {
   "cell_type": "code",
   "execution_count": 64,
   "metadata": {},
   "outputs": [
    {
     "name": "stdout",
     "output_type": "stream",
     "text": [
      "В рюкзак положили Ноут\n"
     ]
    }
   ],
   "source": [
    "new.add(\"Ноут\")"
   ]
  },
  {
   "cell_type": "code",
   "execution_count": 65,
   "metadata": {},
   "outputs": [
    {
     "name": "stdout",
     "output_type": "stream",
     "text": [
      "В рюкзак положили Зарядка\n"
     ]
    }
   ],
   "source": [
    "new.add(\"Зарядка\")"
   ]
  },
  {
   "cell_type": "code",
   "execution_count": 67,
   "metadata": {},
   "outputs": [
    {
     "name": "stdout",
     "output_type": "stream",
     "text": [
      "Backpack: Блокнот, Ноут, Зарядка\n"
     ]
    }
   ],
   "source": [
    "print(new)"
   ]
  },
  {
   "cell_type": "code",
   "execution_count": 69,
   "metadata": {},
   "outputs": [
    {
     "data": {
      "text/plain": [
       "True"
      ]
     },
     "execution_count": 69,
     "metadata": {},
     "output_type": "execute_result"
    }
   ],
   "source": [
    "bool(new)"
   ]
  },
  {
   "cell_type": "markdown",
   "metadata": {},
   "source": [
    "# 7.5 Перегрузка операторов"
   ]
  },
  {
   "cell_type": "code",
   "execution_count": 21,
   "metadata": {},
   "outputs": [],
   "source": [
    "class Backpack:\n",
    "    \n",
    "    def __init__(self, gift = None):\n",
    "        self.content = []\n",
    "        if gift is not None:\n",
    "            self.content.append(gift)\n",
    "        \n",
    "    def add(self, item):\n",
    "        \n",
    "        print(f\"В рюкзак положили {item}\")\n",
    "        self.content.append(item)\n",
    "        \n",
    "    def inspect(self):\n",
    "        for i in self.content:\n",
    "            print(i)\n",
    "            \n",
    "    def __del__(self):\n",
    "        self.content = None\n",
    "        print('Прощай мир!')\n",
    "    \n",
    "    def __str__(self):\n",
    "        return 'Backpack: ' + ', '.join(self.content)\n",
    "    \n",
    "    def __len__(self):\n",
    "        return len(self.content)\n",
    "    \n",
    "    # def __hash__ - вызывается для получения уникального хэша объекта\n",
    "    \n",
    "    def __bool__(self):\n",
    "        return len(self.content) > 0\n",
    "    \n",
    "    def __eq__(self, other):\n",
    "        return self.content == other.content\n",
    "    \n",
    "    def __add__(self, other):\n",
    "        new_obj = Backpack()\n",
    "        new_obj.content.extend(self.content + other.content)\n",
    "        return new_obj"
   ]
  },
  {
   "cell_type": "code",
   "execution_count": 22,
   "metadata": {},
   "outputs": [],
   "source": [
    "my_bp = Backpack(gift = 'бутерброд')\n",
    "son_bp = Backpack(gift = 'бутерброд')"
   ]
  },
  {
   "cell_type": "code",
   "execution_count": 23,
   "metadata": {},
   "outputs": [
    {
     "name": "stdout",
     "output_type": "stream",
     "text": [
      "True\n"
     ]
    }
   ],
   "source": [
    "if son_bp == my_bp:\n",
    "    print(True)"
   ]
  },
  {
   "cell_type": "code",
   "execution_count": 24,
   "metadata": {},
   "outputs": [
    {
     "name": "stdout",
     "output_type": "stream",
     "text": [
      "Прощай мир!\n"
     ]
    }
   ],
   "source": [
    "son_bp = Backpack(gift = \"банан\")"
   ]
  },
  {
   "cell_type": "code",
   "execution_count": 25,
   "metadata": {},
   "outputs": [],
   "source": [
    "new_bp = my_bp + son_bp"
   ]
  },
  {
   "cell_type": "code",
   "execution_count": 26,
   "metadata": {},
   "outputs": [
    {
     "data": {
      "text/plain": [
       "<__main__.Backpack at 0x1fdd696def0>"
      ]
     },
     "execution_count": 26,
     "metadata": {},
     "output_type": "execute_result"
    }
   ],
   "source": [
    "new_bp"
   ]
  },
  {
   "cell_type": "code",
   "execution_count": 27,
   "metadata": {},
   "outputs": [
    {
     "name": "stdout",
     "output_type": "stream",
     "text": [
      "Backpack: бутерброд, банан\n"
     ]
    }
   ],
   "source": [
    "print(new_bp)"
   ]
  },
  {
   "cell_type": "code",
   "execution_count": 28,
   "metadata": {},
   "outputs": [
    {
     "name": "stdout",
     "output_type": "stream",
     "text": [
      "В рюкзак положили ручка\n"
     ]
    }
   ],
   "source": [
    "new_bp.add(\"ручка\")"
   ]
  },
  {
   "cell_type": "code",
   "execution_count": 31,
   "metadata": {},
   "outputs": [
    {
     "name": "stdout",
     "output_type": "stream",
     "text": [
      "('a', 'b', 'c') {}\n",
      "None\n"
     ]
    }
   ],
   "source": [
    "class MyFunction:\n",
    "    def __call__(self, *args, **kwargs):\n",
    "        print(args, kwargs)\n",
    "func = MyFunction()\n",
    "print(func('a', 'b', 'c'))"
   ]
  },
  {
   "cell_type": "code",
   "execution_count": 32,
   "metadata": {},
   "outputs": [],
   "source": [
    "class Multyplier:\n",
    "    \n",
    "    def __init__(self, factor=2):\n",
    "        self.factor = factor\n",
    "        \n",
    "    def __call__(self, *args):\n",
    "        res = [item * self.factor for item in args]\n",
    "        return res\n"
   ]
  },
  {
   "cell_type": "code",
   "execution_count": 33,
   "metadata": {},
   "outputs": [],
   "source": [
    "mul_by_27 = Multyplier(factor = 27)\n",
    "result = mul_by_27(*[1, 2, 3, 4])"
   ]
  },
  {
   "cell_type": "code",
   "execution_count": 34,
   "metadata": {},
   "outputs": [
    {
     "data": {
      "text/plain": [
       "[27, 54, 81, 108]"
      ]
     },
     "execution_count": 34,
     "metadata": {},
     "output_type": "execute_result"
    }
   ],
   "source": [
    "result"
   ]
  },
  {
   "cell_type": "markdown",
   "metadata": {},
   "source": [
    "# 7.6 Различие атрибутов класса и экземпляра"
   ]
  },
  {
   "cell_type": "code",
   "execution_count": 41,
   "metadata": {},
   "outputs": [],
   "source": [
    "class Lemming:\n",
    "    total = 0\n",
    "    \n",
    "    def __init__(self):\n",
    "        Lemming.total += 1"
   ]
  },
  {
   "cell_type": "code",
   "execution_count": 42,
   "metadata": {},
   "outputs": [
    {
     "data": {
      "text/plain": [
       "2"
      ]
     },
     "execution_count": 42,
     "metadata": {},
     "output_type": "execute_result"
    }
   ],
   "source": [
    "lemming_1 = Lemming()\n",
    "Lemming.total\n",
    "lemming_2 = Lemming()\n",
    "Lemming.total"
   ]
  },
  {
   "cell_type": "markdown",
   "metadata": {},
   "source": [
    "# 7.7 Пространство имён класса"
   ]
  },
  {
   "cell_type": "code",
   "execution_count": 46,
   "metadata": {},
   "outputs": [],
   "source": [
    "class Lemming:\n",
    "    names = ['Peter', 'Ann', 'Clare', 'John']\n",
    "    tail_length = 20\n",
    "    \n",
    "    total = 0\n",
    "    \n",
    "    def __init__(self):\n",
    "        from random import choice\n",
    "        Lemming.total += 1\n",
    "        self.name = choice(Lemming.names)\n",
    "    \n",
    "    def __str__(self):\n",
    "        return 'Lemming ' + self.name + ' with tail ' + str(self.tail_length)"
   ]
  },
  {
   "cell_type": "code",
   "execution_count": 47,
   "metadata": {},
   "outputs": [],
   "source": [
    "new_lem = Lemming()"
   ]
  },
  {
   "cell_type": "code",
   "execution_count": 49,
   "metadata": {},
   "outputs": [
    {
     "name": "stdout",
     "output_type": "stream",
     "text": [
      "Lemming Johnwith tail 20\n"
     ]
    }
   ],
   "source": [
    "print(new_lem)"
   ]
  },
  {
   "cell_type": "code",
   "execution_count": 50,
   "metadata": {},
   "outputs": [],
   "source": [
    "# Атрибут объекта перекрывает атрибут класса"
   ]
  },
  {
   "cell_type": "markdown",
   "metadata": {},
   "source": [
    "# 7.8 Практика 1"
   ]
  },
  {
   "cell_type": "code",
   "execution_count": 68,
   "metadata": {},
   "outputs": [],
   "source": [
    "class Man:\n",
    "    def __init__(self, name):\n",
    "        self.name = name\n",
    "        self.fullness = 0\n",
    "        self.food = 10\n",
    "        self.money = 0\n",
    "    \n",
    "    def __str__(self):\n",
    "        return (f'Я - {self.name}\\nСытость {self.fullness}\\nЕды осталось {self.food}\\nДенег осталось {self.money}')\n",
    "        \n",
    "    def eat(self):\n",
    "        if self.food >= 10:\n",
    "            print(f'{self.name} поел')\n",
    "            self.fullness += 10\n",
    "            self.food -= 10\n",
    "        else:\n",
    "            print(f'Нет еды у {self.name}')\n",
    "    \n",
    "    def work(self):\n",
    "        print(f'{self.name} сходил на работу.')\n",
    "        self.money += 50\n",
    "        self.fullness -= 10\n",
    "        if self.fullness < 0:\n",
    "            self.die()\n",
    "        \n",
    "    def play_DOTA(self):\n",
    "        print(f'{self.name} играл в доту целый день.')\n",
    "        self.fullness -= 10\n",
    "        if self.fullness < 0:\n",
    "            self.die()\n",
    "        \n",
    "    def act(self):\n",
    "        from random import randint\n",
    "        dice = randint(1, 6)\n",
    "        if dice == 1:\n",
    "            self.work()\n",
    "        elif dice == 2:\n",
    "            self.eat()\n",
    "        else:\n",
    "            self.play_DOTA()\n",
    "    \n",
    "    def die(self):\n",
    "        self = Man(name = 'Мёртвый ' + self.name)\n",
    "    \n",
    "    def __del__(self):\n",
    "        print(f'К сожалению, {self.name} умер.')\n",
    "    "
   ]
  },
  {
   "cell_type": "code",
   "execution_count": 69,
   "metadata": {},
   "outputs": [
    {
     "name": "stdout",
     "output_type": "stream",
     "text": [
      "К сожалению, Вася умер.\n",
      "Я - Вася\n",
      "Сытость 0\n",
      "Еды осталось 10\n",
      "Денег осталось 0\n",
      "Вася поел\n",
      "Я - Вася\n",
      "Сытость 10\n",
      "Еды осталось 0\n",
      "Денег осталось 0\n",
      "Вася сходил на работу.\n",
      "Я - Вася\n",
      "Сытость 0\n",
      "Еды осталось 0\n",
      "Денег осталось 50\n",
      "Вася играл в доту целый день.\n",
      "К сожалению, Мёртвый Вася умер.\n"
     ]
    }
   ],
   "source": [
    "man = Man(name = 'Вася')\n",
    "print(man)\n",
    "man.eat()\n",
    "print(man)\n",
    "man.work()\n",
    "print(man)\n",
    "man.play_DOTA()"
   ]
  },
  {
   "cell_type": "code",
   "execution_count": 70,
   "metadata": {},
   "outputs": [
    {
     "name": "stdout",
     "output_type": "stream",
     "text": [
      "К сожалению, Глеб умер.\n",
      "Глеб поел\n",
      "Глеб\n",
      "Глеб играл в доту целый день.\n",
      "Глеб\n",
      "Глеб играл в доту целый день.\n",
      "К сожалению, Мёртвый Глеб умер.\n",
      "Глеб\n",
      "Глеб играл в доту целый день.\n",
      "К сожалению, Мёртвый Глеб умер.\n",
      "Глеб\n",
      "Глеб сходил на работу.\n",
      "К сожалению, Мёртвый Глеб умер.\n",
      "Глеб\n",
      "Глеб играл в доту целый день.\n",
      "К сожалению, Мёртвый Глеб умер.\n",
      "Глеб\n",
      "Глеб играл в доту целый день.\n",
      "К сожалению, Мёртвый Глеб умер.\n",
      "Глеб\n",
      "Глеб играл в доту целый день.\n",
      "К сожалению, Мёртвый Глеб умер.\n",
      "Глеб\n",
      "Нет еды у Глеб\n",
      "Глеб\n",
      "Глеб сходил на работу.\n",
      "К сожалению, Мёртвый Глеб умер.\n",
      "Глеб\n",
      "Глеб сходил на работу.\n",
      "К сожалению, Мёртвый Глеб умер.\n",
      "Глеб\n",
      "Глеб играл в доту целый день.\n",
      "К сожалению, Мёртвый Глеб умер.\n",
      "Глеб\n",
      "Глеб играл в доту целый день.\n",
      "К сожалению, Мёртвый Глеб умер.\n",
      "Глеб\n",
      "Глеб играл в доту целый день.\n",
      "К сожалению, Мёртвый Глеб умер.\n",
      "Глеб\n",
      "Глеб играл в доту целый день.\n",
      "К сожалению, Мёртвый Глеб умер.\n",
      "Глеб\n",
      "Глеб играл в доту целый день.\n",
      "К сожалению, Мёртвый Глеб умер.\n",
      "Глеб\n",
      "Глеб сходил на работу.\n",
      "К сожалению, Мёртвый Глеб умер.\n",
      "Глеб\n",
      "Глеб играл в доту целый день.\n",
      "К сожалению, Мёртвый Глеб умер.\n",
      "Глеб\n",
      "Глеб играл в доту целый день.\n",
      "К сожалению, Мёртвый Глеб умер.\n",
      "Глеб\n",
      "Глеб играл в доту целый день.\n",
      "К сожалению, Мёртвый Глеб умер.\n",
      "Глеб\n"
     ]
    }
   ],
   "source": [
    "gleb = Man(name = 'Глеб')\n",
    "for day in range(1, 21):\n",
    "    gleb.act()\n",
    "    print(gleb.name)"
   ]
  },
  {
   "cell_type": "code",
   "execution_count": null,
   "metadata": {},
   "outputs": [],
   "source": []
  }
 ],
 "metadata": {
  "kernelspec": {
   "display_name": "Python 3",
   "language": "python",
   "name": "python3"
  },
  "language_info": {
   "codemirror_mode": {
    "name": "ipython",
    "version": 3
   },
   "file_extension": ".py",
   "mimetype": "text/x-python",
   "name": "python",
   "nbconvert_exporter": "python",
   "pygments_lexer": "ipython3",
   "version": "3.7.3"
  }
 },
 "nbformat": 4,
 "nbformat_minor": 2
}
