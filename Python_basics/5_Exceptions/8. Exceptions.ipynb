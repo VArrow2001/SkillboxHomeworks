{
 "cells": [
  {
   "cell_type": "markdown",
   "metadata": {
    "collapsed": true
   },
   "source": [
    "# 8.3 Обработка исключений"
   ]
  },
  {
   "cell_type": "markdown",
   "metadata": {},
   "source": [
    "Виды ошибок:\n",
    "* ZeroDivisionErroe\n",
    "* NameError"
   ]
  },
  {
   "cell_type": "code",
   "execution_count": 5,
   "metadata": {},
   "outputs": [
    {
     "name": "stdout",
     "output_type": "stream",
     "text": [
      "Произошла ошибка unsupported operand type(s) for /: 'int' and 'str'\n",
      "(\"unsupported operand type(s) for /: 'int' and 'str'\",)\n"
     ]
    }
   ],
   "source": [
    "a = 0\n",
    "b = '\\\\'\n",
    "try:\n",
    "    print(a/)\n",
    "except ZeroDivisionError as exc:\n",
    "    print(f\"Произошла ошибка {exc}\")\n",
    "    print(exc.args)"
   ]
  },
  {
   "cell_type": "code",
   "execution_count": 2,
   "metadata": {},
   "outputs": [
    {
     "name": "stdout",
     "output_type": "stream",
     "text": [
      "1.0\n",
      "SoMeThInG didn't go wrong))))))))))))))\n"
     ]
    }
   ],
   "source": [
    "a = 3\n",
    "try:\n",
    "    print(a/a)\n",
    "except ZeroDivisionError as exc:\n",
    "    print(f\"Произошла ошибка {exc}\")\n",
    "    print(exc.args)\n",
    "else:\n",
    "    print(\"SoMeThInG didn't go wrong))))))))))))))\")"
   ]
  },
  {
   "cell_type": "code",
   "execution_count": 3,
   "metadata": {},
   "outputs": [
    {
     "name": "stdout",
     "output_type": "stream",
     "text": [
      "1.0\n",
      "SoMeThInG didn't go wrong))))))))))))))\n",
      "I would be printed anyway, guy. Even don't try to escape of me\n"
     ]
    }
   ],
   "source": [
    "a = 3\n",
    "try:\n",
    "    print(a/a)\n",
    "except ZeroDivisionError as exc:\n",
    "    print(f\"Произошла ошибка {exc}\")\n",
    "    print(exc.args)\n",
    "else:\n",
    "    print(\"SoMeThInG didn't go wrong))))))))))))))\")\n",
    "finally:\n",
    "    print(\"I would be printed anyway, guy. Even don't try to escape of me\")"
   ]
  },
  {
   "cell_type": "markdown",
   "metadata": {},
   "source": [
    "# 8.4 Исключения в контекстном менеджере"
   ]
  },
  {
   "cell_type": "code",
   "execution_count": 4,
   "metadata": {},
   "outputs": [],
   "source": [
    "class InOutBlock():\n",
    "    def __enter__(self):\n",
    "        print(\"Вошли\")\n",
    "    \n",
    "    def __exit__(self, exc_type, exc_val, exc_tb):\n",
    "        print(f\"Вышли {exc_type}, {exc_val}, {exc_tb}\")\n",
    "        return True"
   ]
  },
  {
   "cell_type": "code",
   "execution_count": 5,
   "metadata": {},
   "outputs": [
    {
     "name": "stdout",
     "output_type": "stream",
     "text": [
      "Вошли\n",
      "Ну работаем!\n",
      "Вышли <class 'NameError'>, name 'km' is not defined, <traceback object at 0x00000141521B8F48>\n",
      "После этого вот всего...\n"
     ]
    }
   ],
   "source": [
    "with InOutBlock() as in_out:\n",
    "    print(\"Ну работаем!\")\n",
    "    a = km/kg\n",
    "    print(\"Вычислили значение, допустим\")\n",
    "print(\"После этого вот всего...\")"
   ]
  },
  {
   "cell_type": "markdown",
   "metadata": {},
   "source": [
    "# 8.5 Создание исключений"
   ]
  },
  {
   "cell_type": "code",
   "execution_count": 6,
   "metadata": {},
   "outputs": [
    {
     "ename": "BaseException",
     "evalue": "Duh...",
     "output_type": "error",
     "traceback": [
      "\u001b[1;31m---------------------------------------------------------------------------\u001b[0m",
      "\u001b[1;31mBaseException\u001b[0m                             Traceback (most recent call last)",
      "\u001b[1;32m<ipython-input-6-bc00756b7669>\u001b[0m in \u001b[0;36m<module>\u001b[1;34m\u001b[0m\n\u001b[1;32m----> 1\u001b[1;33m \u001b[1;32mraise\u001b[0m \u001b[0mBaseException\u001b[0m\u001b[1;33m(\u001b[0m\u001b[1;34m\"Duh...\"\u001b[0m\u001b[1;33m)\u001b[0m\u001b[1;33m\u001b[0m\u001b[1;33m\u001b[0m\u001b[0m\n\u001b[0m",
      "\u001b[1;31mBaseException\u001b[0m: Duh..."
     ]
    }
   ],
   "source": [
    "raise BaseException(\"Duh...\")"
   ]
  },
  {
   "cell_type": "code",
   "execution_count": null,
   "metadata": {},
   "outputs": [],
   "source": [
    "class HeroDiedError(Exception):\n",
    "    pass\n",
    "class GameOverError(Exception):\n",
    "    pass"
   ]
  },
  {
   "cell_type": "code",
   "execution_count": null,
   "metadata": {},
   "outputs": [],
   "source": [
    "try:\n",
    "    raise HeroDiedError('Умер рядовой')\n",
    "except HeroDiedError:\n",
    "    print('Вот так вот')\n",
    "    raise GameOverError(\"Ну всё, гг\")\n"
   ]
  },
  {
   "cell_type": "markdown",
   "metadata": {},
   "source": [
    "# 8.6 Класс Warning"
   ]
  },
  {
   "cell_type": "code",
   "execution_count": 7,
   "metadata": {},
   "outputs": [],
   "source": [
    "import warnings"
   ]
  },
  {
   "cell_type": "code",
   "execution_count": 9,
   "metadata": {},
   "outputs": [
    {
     "name": "stdout",
     "output_type": "stream",
     "text": [
      "Дарова, Макс\n",
      "При этом программа выполняется дальше.\n"
     ]
    },
    {
     "name": "stderr",
     "output_type": "stream",
     "text": [
      "C:\\Games\\lib\\site-packages\\ipykernel_launcher.py:3: UserWarning: Хватит быть таким токсичным! Ладно, ладно.\n",
      "  This is separate from the ipykernel package so we can avoid doing imports until\n"
     ]
    }
   ],
   "source": [
    "def greet_person(person_name):\n",
    "    if person_name == \"Макс\":\n",
    "        warnings.warn('Хватит быть таким токсичным! Ладно, ладно.')\n",
    "    print(f'Дарова, {person_name}')\n",
    "\n",
    "greet_person('Макс')\n",
    "print('При этом программа выполняется дальше.')"
   ]
  },
  {
   "cell_type": "code",
   "execution_count": 12,
   "metadata": {},
   "outputs": [
    {
     "ename": "RuntimeWarning",
     "evalue": "Хватит быть таким токсичным! Ладно, ладно.",
     "output_type": "error",
     "traceback": [
      "\u001b[1;31m---------------------------------------------------------------------------\u001b[0m",
      "\u001b[1;31mRuntimeWarning\u001b[0m                            Traceback (most recent call last)",
      "\u001b[1;32m<ipython-input-12-d6848f71f070>\u001b[0m in \u001b[0;36m<module>\u001b[1;34m\u001b[0m\n\u001b[0;32m      4\u001b[0m     \u001b[0mprint\u001b[0m\u001b[1;33m(\u001b[0m\u001b[1;34mf'Дарова, {person_name}'\u001b[0m\u001b[1;33m)\u001b[0m\u001b[1;33m\u001b[0m\u001b[1;33m\u001b[0m\u001b[0m\n\u001b[0;32m      5\u001b[0m \u001b[0mwarnings\u001b[0m\u001b[1;33m.\u001b[0m\u001b[0msimplefilter\u001b[0m\u001b[1;33m(\u001b[0m\u001b[1;34m\"error\"\u001b[0m\u001b[1;33m)\u001b[0m \u001b[1;31m#предупреждение превращается в ошибку\u001b[0m\u001b[1;33m\u001b[0m\u001b[1;33m\u001b[0m\u001b[0m\n\u001b[1;32m----> 6\u001b[1;33m \u001b[0mgreet_person\u001b[0m\u001b[1;33m(\u001b[0m\u001b[1;34m'Макс'\u001b[0m\u001b[1;33m)\u001b[0m\u001b[1;33m\u001b[0m\u001b[1;33m\u001b[0m\u001b[0m\n\u001b[0m\u001b[0;32m      7\u001b[0m \u001b[0mprint\u001b[0m\u001b[1;33m(\u001b[0m\u001b[1;34m'При этом программа выполняется дальше.'\u001b[0m\u001b[1;33m)\u001b[0m\u001b[1;33m\u001b[0m\u001b[1;33m\u001b[0m\u001b[0m\n",
      "\u001b[1;32m<ipython-input-12-d6848f71f070>\u001b[0m in \u001b[0;36mgreet_person\u001b[1;34m(person_name)\u001b[0m\n\u001b[0;32m      1\u001b[0m \u001b[1;32mdef\u001b[0m \u001b[0mgreet_person\u001b[0m\u001b[1;33m(\u001b[0m\u001b[0mperson_name\u001b[0m\u001b[1;33m)\u001b[0m\u001b[1;33m:\u001b[0m\u001b[1;33m\u001b[0m\u001b[1;33m\u001b[0m\u001b[0m\n\u001b[0;32m      2\u001b[0m     \u001b[1;32mif\u001b[0m \u001b[0mperson_name\u001b[0m \u001b[1;33m==\u001b[0m \u001b[1;34m\"Макс\"\u001b[0m\u001b[1;33m:\u001b[0m\u001b[1;33m\u001b[0m\u001b[1;33m\u001b[0m\u001b[0m\n\u001b[1;32m----> 3\u001b[1;33m         \u001b[0mwarnings\u001b[0m\u001b[1;33m.\u001b[0m\u001b[0mwarn\u001b[0m\u001b[1;33m(\u001b[0m\u001b[1;34m'Хватит быть таким токсичным! Ладно, ладно.'\u001b[0m\u001b[1;33m,\u001b[0m \u001b[0mcategory\u001b[0m \u001b[1;33m=\u001b[0m \u001b[0mRuntimeWarning\u001b[0m\u001b[1;33m)\u001b[0m\u001b[1;33m\u001b[0m\u001b[1;33m\u001b[0m\u001b[0m\n\u001b[0m\u001b[0;32m      4\u001b[0m     \u001b[0mprint\u001b[0m\u001b[1;33m(\u001b[0m\u001b[1;34mf'Дарова, {person_name}'\u001b[0m\u001b[1;33m)\u001b[0m\u001b[1;33m\u001b[0m\u001b[1;33m\u001b[0m\u001b[0m\n\u001b[0;32m      5\u001b[0m \u001b[0mwarnings\u001b[0m\u001b[1;33m.\u001b[0m\u001b[0msimplefilter\u001b[0m\u001b[1;33m(\u001b[0m\u001b[1;34m\"error\"\u001b[0m\u001b[1;33m)\u001b[0m \u001b[1;31m#предупреждение превращается в ошибку\u001b[0m\u001b[1;33m\u001b[0m\u001b[1;33m\u001b[0m\u001b[0m\n",
      "\u001b[1;31mRuntimeWarning\u001b[0m: Хватит быть таким токсичным! Ладно, ладно."
     ]
    }
   ],
   "source": [
    "def greet_person(person_name):\n",
    "    if person_name == \"Макс\":\n",
    "        warnings.warn('Хватит быть таким токсичным! Ладно, ладно.', category = RuntimeWarning)\n",
    "    print(f'Дарова, {person_name}')\n",
    "warnings.simplefilter(\"error\") #предупреждение превращается в ошибку\n",
    "greet_person('Макс')\n",
    "print('При этом программа выполняется дальше.')"
   ]
  },
  {
   "cell_type": "code",
   "execution_count": null,
   "metadata": {},
   "outputs": [],
   "source": []
  }
 ],
 "metadata": {
  "kernelspec": {
   "display_name": "Python 3",
   "language": "python",
   "name": "python3"
  },
  "language_info": {
   "codemirror_mode": {
    "name": "ipython",
    "version": 3
   },
   "file_extension": ".py",
   "mimetype": "text/x-python",
   "name": "python",
   "nbconvert_exporter": "python",
   "pygments_lexer": "ipython3",
   "version": "3.7.3"
  }
 },
 "nbformat": 4,
 "nbformat_minor": 2
}
