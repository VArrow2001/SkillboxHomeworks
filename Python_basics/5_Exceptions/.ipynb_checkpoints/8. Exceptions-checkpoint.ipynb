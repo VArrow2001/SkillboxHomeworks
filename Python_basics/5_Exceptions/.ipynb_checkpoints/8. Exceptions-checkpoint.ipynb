{
 "cells": [
  {
   "cell_type": "markdown",
   "metadata": {
    "collapsed": true
   },
   "source": [
    "# 8.3 Обработка исключений"
   ]
  },
  {
   "cell_type": "markdown",
   "metadata": {},
   "source": [
    "Виды ошибок:\n",
    "* ZeroDivisionErroe\n",
    "* NameError"
   ]
  },
  {
   "cell_type": "code",
   "execution_count": 2,
   "metadata": {},
   "outputs": [
    {
     "name": "stdout",
     "output_type": "stream",
     "text": [
      "Произошла ошибка division by zero\n",
      "('division by zero',)\n"
     ]
    }
   ],
   "source": [
    "a = 0\n",
    "try:\n",
    "    print(a/a)\n",
    "except ZeroDivisionError as exc:\n",
    "    print(f\"Произошла ошибка {exc}\")\n",
    "    print(exc.args)"
   ]
  },
  {
   "cell_type": "code",
   "execution_count": 3,
   "metadata": {},
   "outputs": [
    {
     "name": "stdout",
     "output_type": "stream",
     "text": [
      "1.0\n",
      "SoMeThInG didn't go wrong))))))))))))))\n"
     ]
    }
   ],
   "source": [
    "a = 3\n",
    "try:\n",
    "    print(a/a)\n",
    "except ZeroDivisionError as exc:\n",
    "    print(f\"Произошла ошибка {exc}\")\n",
    "    print(exc.args)\n",
    "else:\n",
    "    print(\"SoMeThInG didn't go wrong))))))))))))))\")"
   ]
  },
  {
   "cell_type": "code",
   "execution_count": 5,
   "metadata": {},
   "outputs": [
    {
     "name": "stdout",
     "output_type": "stream",
     "text": [
      "1.0\n",
      "SoMeThInG didn't go wrong))))))))))))))\n",
      "I would be printed anyway, guy. Even don't try to escape of me\n"
     ]
    }
   ],
   "source": [
    "a = 3\n",
    "try:\n",
    "    print(a/a)\n",
    "except ZeroDivisionError as exc:\n",
    "    print(f\"Произошла ошибка {exc}\")\n",
    "    print(exc.args)\n",
    "else:\n",
    "    print(\"SoMeThInG didn't go wrong))))))))))))))\")\n",
    "finally:\n",
    "    print(\"I would be printed anyway, guy. Even don't try to escape of me\")"
   ]
  },
  {
   "cell_type": "markdown",
   "metadata": {},
   "source": [
    "# 8.4 Исключения в контекстном менеджере"
   ]
  },
  {
   "cell_type": "code",
   "execution_count": 9,
   "metadata": {},
   "outputs": [],
   "source": [
    "class InOutBlock():\n",
    "    def __enter__(self):\n",
    "        print(\"Вошли\")\n",
    "    \n",
    "    def __exit__(self, exc_type, exc_val, exc_tb):\n",
    "        print(f\"Вышли {exc_type}, {exc_val}, {exc_tb}\")\n",
    "        return True"
   ]
  },
  {
   "cell_type": "code",
   "execution_count": 10,
   "metadata": {},
   "outputs": [
    {
     "name": "stdout",
     "output_type": "stream",
     "text": [
      "Вошли\n",
      "Ну работаем!\n",
      "Вышли <class 'NameError'>, name 'km' is not defined, <traceback object at 0x0000018CF1D32A88>\n",
      "После этого вот всего...\n"
     ]
    }
   ],
   "source": [
    "with InOutBlock() as in_out:\n",
    "    print(\"Ну работаем!\")\n",
    "    a = km/kg\n",
    "    print(\"Вычислили значение, допустим\")\n",
    "print(\"После этого вот всего...\")"
   ]
  },
  {
   "cell_type": "markdown",
   "metadata": {},
   "source": [
    "# 8.5 Создание исключений"
   ]
  },
  {
   "cell_type": "code",
   "execution_count": 11,
   "metadata": {},
   "outputs": [
    {
     "ename": "BaseException",
     "evalue": "Duh...",
     "output_type": "error",
     "traceback": [
      "\u001b[1;31m---------------------------------------------------------------------------\u001b[0m",
      "\u001b[1;31mBaseException\u001b[0m                             Traceback (most recent call last)",
      "\u001b[1;32m<ipython-input-11-bc00756b7669>\u001b[0m in \u001b[0;36m<module>\u001b[1;34m\u001b[0m\n\u001b[1;32m----> 1\u001b[1;33m \u001b[1;32mraise\u001b[0m \u001b[0mBaseException\u001b[0m\u001b[1;33m(\u001b[0m\u001b[1;34m\"Duh...\"\u001b[0m\u001b[1;33m)\u001b[0m\u001b[1;33m\u001b[0m\u001b[1;33m\u001b[0m\u001b[0m\n\u001b[0m",
      "\u001b[1;31mBaseException\u001b[0m: Duh..."
     ]
    }
   ],
   "source": [
    "raise BaseException(\"Duh...\")"
   ]
  },
  {
   "cell_type": "code",
   "execution_count": 12,
   "metadata": {},
   "outputs": [],
   "source": [
    "class HeroDiedError(Exception):\n",
    "    pass\n",
    "class GameOverError(Exception):\n",
    "    pass"
   ]
  },
  {
   "cell_type": "code",
   "execution_count": 14,
   "metadata": {},
   "outputs": [
    {
     "name": "stdout",
     "output_type": "stream",
     "text": [
      "Вот так вот\n"
     ]
    }
   ],
   "source": [
    "try:\n",
    "    raise HeroDiedError('Умер рядовой')\n",
    "except HeroDiedError:\n",
    "    print('Вот так вот')\n"
   ]
  },
  {
   "cell_type": "code",
   "execution_count": null,
   "metadata": {},
   "outputs": [],
   "source": []
  }
 ],
 "metadata": {
  "kernelspec": {
   "display_name": "Python 3",
   "language": "python",
   "name": "python3"
  },
  "language_info": {
   "codemirror_mode": {
    "name": "ipython",
    "version": 3
   },
   "file_extension": ".py",
   "mimetype": "text/x-python",
   "name": "python",
   "nbconvert_exporter": "python",
   "pygments_lexer": "ipython3",
   "version": "3.7.3"
  }
 },
 "nbformat": 4,
 "nbformat_minor": 2
}
