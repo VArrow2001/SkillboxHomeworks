{
 "cells": [
  {
   "cell_type": "markdown",
   "metadata": {
    "colab_type": "text",
    "id": "APhOecC6pli2"
   },
   "source": [
    "# Циклы и условия\n",
    "\n",
    "## Домашняя работа"
   ]
  },
  {
   "cell_type": "markdown",
   "metadata": {
    "colab_type": "text",
    "id": "6UFjTyXJpli3"
   },
   "source": [
    "## 1\n",
    "\n",
    "Напишите программу, которая будет запрашивать на вход числа (через запятую на одной строке) и выводить наибольшее значение из списка."
   ]
  },
  {
   "cell_type": "code",
   "execution_count": 5,
   "metadata": {
    "colab": {},
    "colab_type": "code",
    "id": "C6cxT_rYpli4"
   },
   "outputs": [
    {
     "name": "stdout",
     "output_type": "stream",
     "text": [
      "10,20,30,40,0,-15\n",
      "40\n"
     ]
    }
   ],
   "source": [
    "int_list = input()\n",
    "maxn = int(int_list[-1])\n",
    "s = ''\n",
    "for i in int_list:\n",
    "    if i == ',':\n",
    "        maxn = int(s) * int((int(s) > maxn)) + maxn * int(not (int(s) > maxn))\n",
    "        s = ''\n",
    "    else:\n",
    "        s += i\n",
    "print(maxn)\n"
   ]
  },
  {
   "cell_type": "markdown",
   "metadata": {
    "colab_type": "text",
    "id": "knvk0Pripli-"
   },
   "source": [
    "### 2\n",
    "\n",
    "Напишите программу, которая будет запрашивать на вход числа (каждое с новой строки) до тех пор, пока не будет введен ноль (0). На выход должно выводиться второе по величине значение."
   ]
  },
  {
   "cell_type": "code",
   "execution_count": 3,
   "metadata": {
    "colab": {},
    "colab_type": "code",
    "id": "kNlBPlIjpli_"
   },
   "outputs": [
    {
     "name": "stdout",
     "output_type": "stream",
     "text": [
      "15\n",
      "20\n",
      "30\n",
      "14\n",
      "-111\n",
      "60\n",
      "0\n",
      "30\n"
     ]
    }
   ],
   "source": [
    "k = None\n",
    "maxes = [int(input()), int(input())]\n",
    "else:\n",
    "    if maxes[0] < maxes[1]:\n",
    "    maxes[0], maxes[1] = maxes[1], maxes[0]\n",
    "    while k != 0:\n",
    "        k = int(input())\n",
    "        if k != 0:\n",
    "            if k > maxes[0]: maxes[1], maxes[0] = maxes[0], k\n",
    "            elif k > maxes[1]: maxes[1] = k\n",
    "print(maxes[1])"
   ]
  },
  {
   "cell_type": "markdown",
   "metadata": {
    "colab_type": "text",
    "id": "VdciZusGpljB"
   },
   "source": [
    "### 3\n",
    "\n",
    "Напишите программу, которая принимает на вход год, а на выход выдает количество дней в этом году."
   ]
  },
  {
   "cell_type": "code",
   "execution_count": 0,
   "metadata": {
    "colab": {},
    "colab_type": "code",
    "id": "VasdFmMNpljC"
   },
   "outputs": [],
   "source": [
    "year = int(input())\n",
    "if year % 4 == 0:\n",
    "    print(365)\n",
    "else:\n",
    "    print(366)"
   ]
  },
  {
   "cell_type": "markdown",
   "metadata": {
    "colab_type": "text",
    "id": "jAuf9TA-pljE"
   },
   "source": [
    "### 4\n",
    "\n",
    "Напишите программу, которая на вход получает координаты двух клеток шахматной доски и выводит соощение о том, являются ли эти клетки одного цвета."
   ]
  },
  {
   "cell_type": "code",
   "execution_count": 8,
   "metadata": {
    "colab": {},
    "colab_type": "code",
    "id": "5QWjZEl2pljE"
   },
   "outputs": [
    {
     "name": "stdout",
     "output_type": "stream",
     "text": [
      "Введите координаты через пробел в формате A1 B2.\n",
      "G8 H1\n",
      "одного цвета\n"
     ]
    }
   ],
   "source": [
    "letter_dict = {\"A\":1, \"B\":2, \"C\":3, \"D\":4, \"E\":5, \"F\":6, \"G\":7, \"H\":8}\n",
    "a = input('Введите координаты через пробел в формате A1 B2.\\n').split()\n",
    "a = letter_dict[a[0][0]] - letter_dict[a[1][0]] + (int(a[0][1]) - int(a[1][1]))\n",
    "if a % 2 == 0:\n",
    "    print('одного цвета')\n",
    "else:\n",
    "    print('разных цветов')"
   ]
  },
  {
   "cell_type": "markdown",
   "metadata": {
    "colab_type": "text",
    "id": "h-ikKxW8pljG"
   },
   "source": [
    "### 5\n",
    "\n",
    "Напишите программу, которая на вход получает число, а на выходе сообщает, простое это число или составное."
   ]
  },
  {
   "cell_type": "code",
   "execution_count": 11,
   "metadata": {
    "colab": {},
    "colab_type": "code",
    "id": "ihOz-5j9pljH"
   },
   "outputs": [
    {
     "name": "stdout",
     "output_type": "stream",
     "text": [
      "Введите число.\n",
      "512\n",
      "512 - это составное число\n"
     ]
    }
   ],
   "source": [
    "a = int(input('Введите число.\\n'))\n",
    "answer = ' - это простое число.'\n",
    "for i in range(2, int(a ** (0.5) + 1)):\n",
    "    if a % i == 0:\n",
    "        answer = ' - это составное число'\n",
    "        break\n",
    "print(f\"{a}{answer}\")"
   ]
  },
  {
   "cell_type": "markdown",
   "metadata": {
    "colab_type": "text",
    "id": "3G6WAQPbpljJ"
   },
   "source": [
    "### 6\n",
    "\n",
    "Напишите программу, которая на вход получает целое число больше 2 и выводит по нему его наименьший натуральный делитель, отличный от 1."
   ]
  },
  {
   "cell_type": "code",
   "execution_count": 0,
   "metadata": {
    "colab": {},
    "colab_type": "code",
    "id": "PMfx4MhhpljK"
   },
   "outputs": [],
   "source": [
    "num = int(input())\n",
    "for i in range(2, int(num ** 0.5 + 1));\n",
    "    if num % i == 0:\n",
    "        print (f\"{i} - это наименьший натуральный делитель числа {num}\")\n",
    "        break"
   ]
  },
  {
   "cell_type": "markdown",
   "metadata": {
    "colab_type": "text",
    "id": "wGUqJFdlpljM"
   },
   "source": [
    "### 7\n",
    "\n",
    "Напишите программу, которая поможет составить план тренировок для подготовки к марафону. Она получает на вход число километров на планируемом марафоне, сколько пользователь планирует пробежать в первый день тренировок и на сколько процентов планирует увеличивать каждый день это расстояние. На выходе программа должна выдавать, сколько дней пользователю потребуется для того, чтобы подготовиться пробежать целевое количество километров."
   ]
  },
  {
   "cell_type": "code",
   "execution_count": 13,
   "metadata": {
    "colab": {},
    "colab_type": "code",
    "id": "GxD-3EurpljO"
   },
   "outputs": [
    {
     "name": "stdout",
     "output_type": "stream",
     "text": [
      "Введите целевое расстояние:\n",
      "10\n",
      "Введите расстояние на первый день:\n",
      "2\n",
      "Введите процент ежедневного увеличения расстояния25\n",
      "Количество требуемых дней: 4\n"
     ]
    }
   ],
   "source": [
    "km_goal, km_first, perc = int(input('Введите целевое расстояние:\\n')), \\\n",
    "int(input('Введите расстояние на первый день:\\n')),\\\n",
    "1 + (int(input('Введите процент ежедневного увеличения расстояния')) / 100.)\n",
    "s = 0\n",
    "i = 0\n",
    "while s < km_goal:\n",
    "    i += 1\n",
    "    s += km_first\n",
    "    km_first *= perc\n",
    "print(f\"Количество требуемых дней: {i}\")"
   ]
  },
  {
   "cell_type": "markdown",
   "metadata": {
    "colab_type": "text",
    "id": "kfYWrvFMpljT"
   },
   "source": [
    "### 8\n",
    "\n",
    "Напишите программу, которая на вход получает число n и считает по нему сумму 1²+2²+3²+...+n²."
   ]
  },
  {
   "cell_type": "code",
   "execution_count": 0,
   "metadata": {
    "colab": {},
    "colab_type": "code",
    "id": "FqdcneavpljU"
   },
   "outputs": [],
   "source": [
    "n = int(input('Введите n:\\n'))\n",
    "s = 1\n",
    "for i in range(2, n + 1):\n",
    "    s += i * i\n",
    "print(f\"Сумма квадратов от 1 до {n} равна {s}.\")"
   ]
  },
  {
   "cell_type": "markdown",
   "metadata": {
    "colab_type": "text",
    "id": "9X47JpF0pljY"
   },
   "source": [
    "## 9\n",
    "\n",
    "Напишите программу, которая на вход получает число n и считает по нему сумму сумму 1! + 2! + 3! + ... + n!"
   ]
  },
  {
   "cell_type": "code",
   "execution_count": 15,
   "metadata": {
    "colab": {},
    "colab_type": "code",
    "id": "FMbt__Msplja"
   },
   "outputs": [
    {
     "name": "stdout",
     "output_type": "stream",
     "text": [
      "Введите n:\n",
      "3\n",
      "Сумма факториалов от 1 до 3 равна 9\n"
     ]
    }
   ],
   "source": [
    "n = int(input('Введите n:\\n'))\n",
    "fact_cur = 1\n",
    "s = 1\n",
    "for i in range(2, n + 1):\n",
    "    fact_cur *= i\n",
    "    s += fact_cur\n",
    "print(f\"Сумма факториалов от 1 до {n} равна {s}\")"
   ]
  },
  {
   "cell_type": "markdown",
   "metadata": {
    "colab_type": "text",
    "id": "pvJcW_IGpljf"
   },
   "source": [
    "### 10\n",
    "\n",
    "Напишите программу, которая получает на вход последовательность чисел (каждое число с новой строки до того момента, пока пользователь не введет 0) и считает количество четных элементов в последовательности."
   ]
  },
  {
   "cell_type": "code",
   "execution_count": 16,
   "metadata": {
    "colab": {},
    "colab_type": "code",
    "id": "1SI4xAejpljg"
   },
   "outputs": [
    {
     "name": "stdout",
     "output_type": "stream",
     "text": [
      "5\n",
      "10\n",
      "15\n",
      "22\n",
      "3\n",
      "4\n",
      "-6\n",
      "7\n",
      "9\n",
      "0\n",
      "Во введенной вами последовательности количество четных чисел равно 4 \n"
     ]
    }
   ],
   "source": [
    "k = int(input())\n",
    "s = 0\n",
    "while k != 0:\n",
    "    s += int(k % 2 == 0)\n",
    "    k = int(input())\n",
    "print(f\"Во введенной вами последовательности количество четных чисел равно {s} \")"
   ]
  },
  {
   "cell_type": "markdown",
   "metadata": {
    "colab_type": "text",
    "id": "kjZ5mZJPplji"
   },
   "source": [
    "### 11\n",
    "\n",
    "Напишите программу, которая формирует список игроков женской команды по футболу. Программа должна записывать возраст и пол претендента. Возраст должен запрашиваться после пола и только в том случае, если пол претендента женский. Если пол претендента мужской, программа должна сообщать о том, что он не подходит. Возраст претенденток должен быть от 18 до 35 лет. Если кандидат удовлетворяет требованиям, должно появляться соответствующее сообщение."
   ]
  },
  {
   "cell_type": "code",
   "execution_count": 0,
   "metadata": {
    "colab": {},
    "colab_type": "code",
    "id": "5Z7B5Ww4pljl"
   },
   "outputs": [],
   "source": [
    "s = input('Введите пол кандидата:\\n')\n",
    "if s == 'женский':\n",
    "    age = input('Введите возраст кандидата:\\n')\n",
    "    if 18 <= age <= 35:\n",
    "        print(\"Кандидат подходит.\\n\")\n",
    "    else:\n",
    "        print(\"Кандидат не подходит из-за возрастных ограничений.\")\n",
    "else:\n",
    "    print(\"кандидат не подходит из-за половых ограничений.\")"
   ]
  },
  {
   "cell_type": "markdown",
   "metadata": {
    "colab_type": "text",
    "id": "p2a5qXs9pljn"
   },
   "source": [
    "### 12\n",
    "\n",
    "\n",
    "Напишите программу, которая на вход получает максимальную ширину ромба и рисует его.\n",
    " \n",
    "Пример вывода для числа 5:\n",
    "```  \n",
    "  *\n",
    " ***\n",
    "*****\n",
    " ***\n",
    "  *```"
   ]
  },
  {
   "cell_type": "code",
   "execution_count": 10,
   "metadata": {
    "colab": {},
    "colab_type": "code",
    "id": "ic8b0VlVpljo"
   },
   "outputs": [
    {
     "name": "stdout",
     "output_type": "stream",
     "text": [
      "Введите ширину ромба:\n",
      "0\n",
      "\n"
     ]
    }
   ],
   "source": [
    "n = int(input('Введите ширину ромба:\\n'))\n",
    "ast = '*'\n",
    "sp = ' '\n",
    "k = n % 2\n",
    "for i in range(k, n, 2):\n",
    "    print(f\"{sp * ((n - i) // 2)}{i * ast}{sp * ((n - i) // 2)}\")\n",
    "for i in range(n, k - 1, -2):\n",
    "    print(f\"{sp * ((n - i) // 2)}{i * ast}{sp * ((n - i) // 2)}\")"
   ]
  },
  {
   "cell_type": "markdown",
   "metadata": {
    "colab_type": "text",
    "id": "_8da7_bVpljq"
   },
   "source": [
    "### 13\n",
    "\n",
    "Напишите программу, которая запрашивает у пользователя сторону квадрата и символ, а затем рисует этот символ по диагоналям квадрата.\n",
    " \n",
    "Пример вывода для числа 5:\n",
    "```\n",
    " \n",
    "#   #\n",
    " # #\n",
    "  #  \n",
    " # #\n",
    "#   #\n",
    "```"
   ]
  },
  {
   "cell_type": "code",
   "execution_count": 12,
   "metadata": {
    "colab": {},
    "colab_type": "code",
    "id": "ihscl-aRpljq"
   },
   "outputs": [
    {
     "name": "stdout",
     "output_type": "stream",
     "text": [
      "Введите ширину ромба:\n",
      "100\n",
      "#                                                                                                  #\n",
      " #                                                                                                # \n",
      "  #                                                                                              #  \n",
      "   #                                                                                            #   \n",
      "    #                                                                                          #    \n",
      "     #                                                                                        #     \n",
      "      #                                                                                      #      \n",
      "       #                                                                                    #       \n",
      "        #                                                                                  #        \n",
      "         #                                                                                #         \n",
      "          #                                                                              #          \n",
      "           #                                                                            #           \n",
      "            #                                                                          #            \n",
      "             #                                                                        #             \n",
      "              #                                                                      #              \n",
      "               #                                                                    #               \n",
      "                #                                                                  #                \n",
      "                 #                                                                #                 \n",
      "                  #                                                              #                  \n",
      "                   #                                                            #                   \n",
      "                    #                                                          #                    \n",
      "                     #                                                        #                     \n",
      "                      #                                                      #                      \n",
      "                       #                                                    #                       \n",
      "                        #                                                  #                        \n",
      "                         #                                                #                         \n",
      "                          #                                              #                          \n",
      "                           #                                            #                           \n",
      "                            #                                          #                            \n",
      "                             #                                        #                             \n",
      "                              #                                      #                              \n",
      "                               #                                    #                               \n",
      "                                #                                  #                                \n",
      "                                 #                                #                                 \n",
      "                                  #                              #                                  \n",
      "                                   #                            #                                   \n",
      "                                    #                          #                                    \n",
      "                                     #                        #                                     \n",
      "                                      #                      #                                      \n",
      "                                       #                    #                                       \n",
      "                                        #                  #                                        \n",
      "                                         #                #                                         \n",
      "                                          #              #                                          \n",
      "                                           #            #                                           \n",
      "                                            #          #                                            \n",
      "                                             #        #                                             \n",
      "                                              #      #                                              \n",
      "                                               #    #                                               \n",
      "                                                #  #                                                \n",
      "                                                 ##                                                 \n",
      "                                                 ##                                                 \n",
      "                                                #  #                                                \n",
      "                                               #    #                                               \n",
      "                                              #      #                                              \n",
      "                                             #        #                                             \n",
      "                                            #          #                                            \n",
      "                                           #            #                                           \n",
      "                                          #              #                                          \n",
      "                                         #                #                                         \n",
      "                                        #                  #                                        \n",
      "                                       #                    #                                       \n",
      "                                      #                      #                                      \n",
      "                                     #                        #                                     \n",
      "                                    #                          #                                    \n",
      "                                   #                            #                                   \n",
      "                                  #                              #                                  \n",
      "                                 #                                #                                 \n",
      "                                #                                  #                                \n",
      "                               #                                    #                               \n",
      "                              #                                      #                              \n",
      "                             #                                        #                             \n",
      "                            #                                          #                            \n",
      "                           #                                            #                           \n",
      "                          #                                              #                          \n",
      "                         #                                                #                         \n",
      "                        #                                                  #                        \n",
      "                       #                                                    #                       \n",
      "                      #                                                      #                      \n",
      "                     #                                                        #                     \n",
      "                    #                                                          #                    \n",
      "                   #                                                            #                   \n",
      "                  #                                                              #                  \n",
      "                 #                                                                #                 \n",
      "                #                                                                  #                \n",
      "               #                                                                    #               \n",
      "              #                                                                      #              \n",
      "             #                                                                        #             \n",
      "            #                                                                          #            \n",
      "           #                                                                            #           \n",
      "          #                                                                              #          \n",
      "         #                                                                                #         \n",
      "        #                                                                                  #        \n",
      "       #                                                                                    #       \n",
      "      #                                                                                      #      \n",
      "     #                                                                                        #     \n",
      "    #                                                                                          #    \n",
      "   #                                                                                            #   \n",
      "  #                                                                                              #  \n",
      " #                                                                                                # \n",
      "#                                                                                                  #\n"
     ]
    }
   ],
   "source": [
    "n = int(input('Введите сторону квадрата:\\n'))\n",
    "resh = '#'\n",
    "sp = ' '\n",
    "k = n % 2\n",
    "for i in range(1, n // 2 + k):\n",
    "    print(f\"{sp * (i - 1)}{resh}{sp * (n - 2 * (i - 1) - 2)}{resh}{sp * (i - 1)}\")\n",
    "if k:\n",
    "    print(f\"{sp * (n // 2)}{resh}{sp * (n // 2)}\")\n",
    "    k = 0\n",
    "else:\n",
    "    print(f\"{sp * ((n - 2)//2)}{resh}{resh}{sp * ((n - 2)//2)}\\n{sp * ((n - 2)//2)}{resh}{resh}{sp * ((n - 2)//2)}\")\n",
    "    k = 1\n",
    "for i in range(n // 2 - k, 0, -1):\n",
    "    print(f\"{sp * (i - 1)}{resh}{sp * (n - 2 * (i - 1) - 2)}{resh}{sp * (i - 1)}\")"
   ]
  },
  {
   "cell_type": "markdown",
   "metadata": {
    "colab_type": "text",
    "id": "CQSZ-7LVpljs"
   },
   "source": [
    "### 14\n",
    "\n",
    "В корзине лежат шары. Если раскладывать их группами по 2, 3, 4, 5, 6, в корзине остается один шар. Если разложить по 7 шаров, то в корзине не останется ничего.  <br>\n",
    "Какое минимальное количество шаров находится в корзине?"
   ]
  },
  {
   "cell_type": "code",
   "execution_count": 24,
   "metadata": {
    "colab": {},
    "colab_type": "code",
    "id": "gonUr7CYpljt"
   },
   "outputs": [
    {
     "name": "stdout",
     "output_type": "stream",
     "text": [
      "Ответ: 301\n"
     ]
    }
   ],
   "source": [
    "s = 7\n",
    "while(True):\n",
    "    k = 0\n",
    "    for i in range(2, 7):\n",
    "        k += int(s % i == 1)\n",
    "    if k == 5:\n",
    "        print(f\"Ответ: {s}\")\n",
    "        break\n",
    "    s += 7"
   ]
  },
  {
   "cell_type": "markdown",
   "metadata": {
    "colab_type": "text",
    "id": "hRdcAf23pljw"
   },
   "source": [
    "### 15\n",
    "\n",
    "Рабочие клеили обои на стены. Первую стену поклеили за M минут, а каждую следующую на 5 минут больше, чем предыдущую.\n",
    "Напишите программу, которая запрашивает сколько стен было в квартире под поклейку, а также время работы с первой стеной. Программа должна выводить, сколько **часов** рабочие потратили на поклейку обоев во всей квартире."
   ]
  },
  {
   "cell_type": "code",
   "execution_count": 25,
   "metadata": {
    "colab": {},
    "colab_type": "code",
    "id": "IpJDLsdWpljx"
   },
   "outputs": [
    {
     "name": "stdout",
     "output_type": "stream",
     "text": [
      "5\n",
      "2\n",
      "1.0 часов.\n"
     ]
    }
   ],
   "source": [
    "n, M = int(input()), int(input())\n",
    "s = M\n",
    "for i in range(2, n + 1):\n",
    "    M += 5\n",
    "    s += M\n",
    "print(f\"{s / 60} часов.\")"
   ]
  },
  {
   "cell_type": "markdown",
   "metadata": {
    "colab_type": "text",
    "id": "xumjalNLpljz"
   },
   "source": [
    "### 16\n",
    "\n",
    "Напишите программу, которая убирает из списка повторяющиеся элементы. Программа должна запрашивать на вход слова, каждое с новой строки, пока пользователь не введет пустую строку. Затем должна выводить список без повторяющихся элементов. "
   ]
  },
  {
   "cell_type": "code",
   "execution_count": 1,
   "metadata": {
    "colab": {},
    "colab_type": "code",
    "id": "tO5aW8lFpljz",
    "scrolled": true
   },
   "outputs": [
    {
     "name": "stdout",
     "output_type": "stream",
     "text": [
      "hello\n",
      "hello\n",
      "kind\n",
      "bad\n",
      "mad\n",
      "kind\n",
      "hello\n",
      "mad\n",
      "\n",
      "hello\n",
      "kind\n",
      "bad\n",
      "mad\n"
     ]
    }
   ],
   "source": [
    "string = input()\n",
    "str_list = []\n",
    "while string != '':\n",
    "    if not(string in str_list):\n",
    "        str_list.append(string)\n",
    "    string = input()\n",
    "for i in str_list: print(i)"
   ]
  },
  {
   "cell_type": "markdown",
   "metadata": {
    "colab_type": "text",
    "id": "fgVKtqi9plj2"
   },
   "source": [
    "### 17\n",
    "\n",
    "Напишите программу, которая выводит число пар одинаковых элементов в списке. Программа должна запрашивать на вход слова, каждое с новой строки, пока пользователь не введет пустую строку. "
   ]
  },
  {
   "cell_type": "code",
   "execution_count": 4,
   "metadata": {
    "colab": {},
    "colab_type": "code",
    "id": "oEhAs2MYplj3"
   },
   "outputs": [
    {
     "name": "stdout",
     "output_type": "stream",
     "text": [
      "la\n",
      "la\n",
      "la\n",
      "k\n",
      "c\n",
      "k\n",
      "\n",
      "4\n"
     ]
    }
   ],
   "source": [
    "glossary = dict()\n",
    "string = input()\n",
    "while string != '':\n",
    "    if string in glossary:\n",
    "        glossary[string] += 1\n",
    "    else:\n",
    "        glossary[string] = 1\n",
    "    string = input()\n",
    "s = 0\n",
    "for i in glossary.values():\n",
    "    k = 0\n",
    "    for j in range(1, i):\n",
    "        k += j\n",
    "    s += k # Если я правильно понял, количество таких пар: \n",
    "    #если есть 3 одинаковых числа, то можно составить 3 пары: 1-2, 2-3, 3-1\n",
    "print(s)"
   ]
  },
  {
   "cell_type": "markdown",
   "metadata": {
    "colab_type": "text",
    "id": "XjjMpEvHplj7"
   },
   "source": [
    "### 18\n",
    "\n",
    "Будем считать, что кубик может иметь неограниченное количество граней (натуральное число). Напишите программу, которая запрашивает, сколько граней имеется у двух разных кубиков. Затем выводит все возможные комбинации результатов бросков двух таких кубиков. "
   ]
  },
  {
   "cell_type": "code",
   "execution_count": 3,
   "metadata": {
    "colab_type": "text",
    "id": "PLsRu7Byplj7"
   },
   "outputs": [
    {
     "name": "stdout",
     "output_type": "stream",
     "text": [
      "5\n",
      "7\n",
      "1 \t 1\n",
      "1 \t 2\n",
      "1 \t 3\n",
      "1 \t 4\n",
      "1 \t 5\n",
      "1 \t 6\n",
      "1 \t 7\n",
      "2 \t 2\n",
      "2 \t 3\n",
      "2 \t 4\n",
      "2 \t 5\n",
      "2 \t 6\n",
      "2 \t 7\n",
      "3 \t 3\n",
      "3 \t 4\n",
      "3 \t 5\n",
      "3 \t 6\n",
      "3 \t 7\n",
      "4 \t 4\n",
      "4 \t 5\n",
      "4 \t 6\n",
      "4 \t 7\n",
      "5 \t 5\n",
      "5 \t 6\n",
      "5 \t 7\n"
     ]
    }
   ],
   "source": [
    "comb_list = []\n",
    "m, n = int(input()), int(input())\n",
    "for i in range(1, m + 1):\n",
    "    for j in range(1, n + 1):\n",
    "        if not(([i, j] in comb_list) or ([j, i] in comb_list)):\n",
    "            print(i, '\\t', j)\n",
    "            comb_list.append([i, j])\n",
    "# комбинации выведены так, чтобы исключить повторения"
   ]
  }
 ],
 "metadata": {
  "colab": {
   "name": "jun_anl_loops_and_ifs.ipynb",
   "provenance": [],
   "version": "0.3.2"
  },
  "kernelspec": {
   "display_name": "Python 3",
   "language": "python",
   "name": "python3"
  },
  "language_info": {
   "codemirror_mode": {
    "name": "ipython",
    "version": 3
   },
   "file_extension": ".py",
   "mimetype": "text/x-python",
   "name": "python",
   "nbconvert_exporter": "python",
   "pygments_lexer": "ipython3",
   "version": "3.7.3"
  }
 },
 "nbformat": 4,
 "nbformat_minor": 1
}
