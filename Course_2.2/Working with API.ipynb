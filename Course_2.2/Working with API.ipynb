{
 "cells": [
  {
   "cell_type": "markdown",
   "metadata": {
    "colab_type": "text",
    "id": "7EjZ_IEN_lx9"
   },
   "source": [
    "# Дополнительные инструкции\n",
    "\n",
    "1. [Как получить токен доступа Вконтакте?](#Как-получить-токен-доступа-Вконтакте?)\n",
    "2. [Как отправлять запросы к API Вконтакте?](#Как-отправлять-запросы-к-API-Вконтакте?)\n",
    "3. [Пример получения постов из паблика Skillbox Вконтакте](#Пример-получения-постов-из-паблика-Skillbox-Вконтакте])\n",
    "4. [Как работать с датой из JSON-ответа?](#Как-работать-с-датой-из-JSON-ответа?)\n",
    "5. [Необходимая документация](#Необходимая-документация)"
   ]
  },
  {
   "cell_type": "markdown",
   "metadata": {
    "colab_type": "text",
    "id": "drchY3Xj_lx-"
   },
   "source": [
    "## Как получить токен доступа Вконтакте?\n",
    "\n",
    "Чтобы посылать запросы к API Вконтакте вам нужен токен доступа. Для того, чтобы его получить, необходимо выполнить следующее: <br>\n",
    "Для авторизации:\n",
    "1. [Создать приложение ВКонтакте](https://vk.com/editapp?act=create). В качестве платформы выбрать пункт `Standalone-приложение`. <br> ![](https://sun9-54.userapi.com/c857420/v857420596/51edd/IHmwGrondSs.jpg) <br>\n",
    "2. В настройках выбрать состояние `Приложение включено и видно всем`. <br> ![](https://sun9-53.userapi.com/c857520/v857520596/5a3de/ZFftApv486I.jpg) <br> \n",
    "3. Скопировать id созданного приложения. <br> ![](https://sun9-40.userapi.com/c857624/v857624433/568d5/BO_BK7Q1rJg.jpg) <br> \n",
    "4. Скопировать ссылку, приведенную ниже, в браузер. Вставить id Вашего приложения в `client id` вместо 1. Нажать `Enter` на клавиатуре. <br>\n",
    "\n",
    "https://oauth.vk.com/authorize?client_id=1&display=page&redirect_uri=http://oauth.vk.com/blank.html&scope=all&response_type=token<br><br> У вас откроется следующая страница: <br> ![](https://sun9-31.userapi.com/c851428/v851428433/19d92b/LrrG2rWU0CM.jpg)\n",
    "5. Скопировать `access token` из ссылки в адресной строке (все после access_token= и до &expires_in, без &). <br>**Никому не показывать!** По этому токену можно получить доступ ко всему аккаунту. \n",
    "<br><br> *Пример ссылки:* <br>\n",
    "`https://oauth.vk.com/blank.html#access_token=`**some_access_token**`&expires_in=86400&user_id=63160975`"
   ]
  },
  {
   "cell_type": "code",
   "execution_count": null,
   "metadata": {},
   "outputs": [],
   "source": [
    "147301cf9db7838fcb189e8c701a7a215bd0e24f71f3d30dee26817f16147b950a39763404525ff2897b5"
   ]
  },
  {
   "cell_type": "markdown",
   "metadata": {
    "colab_type": "text",
    "id": "Z2-tpxVt_lx_"
   },
   "source": [
    "## Как отправлять запросы к API Вконтакте?\n",
    "\n",
    "Следующая функция необходима, чтобы отправлять JSON-запросы к API VK. "
   ]
  },
  {
   "cell_type": "code",
   "execution_count": 0,
   "metadata": {
    "colab": {},
    "colab_type": "code",
    "id": "H6ZsqerW_lyA"
   },
   "outputs": [],
   "source": [
    "import requests\n",
    "\n",
    "def getjson(url):\n",
    "    response = requests.get(url)\n",
    "    response = response.json()\n",
    "    return response"
   ]
  },
  {
   "cell_type": "markdown",
   "metadata": {
    "colab_type": "text",
    "id": "42q0ShiV_lyD"
   },
   "source": [
    "Пример использования данной функции."
   ]
  },
  {
   "cell_type": "code",
   "execution_count": 0,
   "metadata": {
    "colab": {},
    "colab_type": "code",
    "id": "zjVYcFg7_lyD",
    "outputId": "cb6ef284-e89a-48de-a8b6-cafd5479f4ef"
   },
   "outputs": [
    {
     "name": "stdout",
     "output_type": "stream",
     "text": [
      "{'response': {'first_name': ‘Дмитрий’, 'last_name': ‘Донской’, 'bdate': ’12.10.1350’, 'bdate_visibility': 1, 'city': {'id': 1, 'title': 'Москва'}, 'country': {'id': 1, 'title': 'Россия'}, 'home_town': {'id': 1, 'title': 'Москва'}, 'maiden_name': '', 'phone': '+7 *** *** ** 00’, 'relation': 0, 'screen_name': ‘donskoy’, 'sex': 0, 'status': ''}}\n"
     ]
    }
   ],
   "source": [
    "vk_token = ### SOME ACCESS TOKEN ###\n",
    "\n",
    "\n",
    "url = 'https://api.vk.com/method/account.getProfileInfo?access_token=' + str(vk_token) + '&v=5.92'\n",
    "response = getjson(url)\n",
    "\n",
    "print(response)"
   ]
  },
  {
   "cell_type": "markdown",
   "metadata": {
    "colab_type": "text",
    "id": "TFjBY63a_lyH"
   },
   "source": [
    "## Пример получения постов из паблика Skillbox Вконтакте\n",
    "\n",
    "Максимально за один запрос вы можете получить 100 записей. Однако с помощью параметра `offset` вы можете \"сдвигать\" запрос, чтобы получать новую выборку из следующих 100 записей. <br><br> Ниже приведен пример работы:"
   ]
  },
  {
   "cell_type": "code",
   "execution_count": 0,
   "metadata": {
    "colab": {},
    "colab_type": "code",
    "id": "wwaeCozF_lyI",
    "outputId": "67544043-caa1-4ffc-c29e-9e4621aab81b"
   },
   "outputs": [
    {
     "name": "stdout",
     "output_type": "stream",
     "text": [
      "{'response': {'count': 7191, 'items': [{'id': 36365, 'from_id': -66669811, 'owner_id': -66669811, 'date': 1566902718, 'marked_as_ads': 0, 'post_type': 'post', 'text': 'Если вы работаете на удаленке — скорее всего часто решаете вопросы с коллегами в переписке. В этом есть плюсы: например, вы задаете вопрос человеку, не отвлекая его от текущей работы — он ответит, как только освободится. Но есть и минусы — злоупотребление вниманием, недопонимание и неумение сохранять контекст в диалоге. Собрали для вас несколько советов по этому поводу.\\n\\n#Полезное_от_Skillbox #Skillbox_управление', 'attachments': [{'type': 'link', 'link': {'url': 'https://m.vk.com/@-66669811-kak-udalennomu-sotrudniku-vesti-perepisku-s-kollegami', 'title': 'Как удаленному сотруднику вести переписку с коллегами', 'caption': 'm.vk.com', 'description': 'Статья', 'photo': {'id': 457489158, 'album_id': -66, 'owner_id': -66669811, 'user_id': 100, 'sizes': [{'type': 's', 'url': 'https://sun1-19.userapi.com/c851336/v851336001/1a5540/FplpG2olFuE.jpg', 'width': 75, 'height': 42}, {'type': 'm', 'url': 'https://sun1-25.userapi.com/c851336/v851336001/1a5541/sIITjDe1G6E.jpg', 'width': 130, 'height': 73}, {'type': 'x', 'url': 'https://sun1-29.userapi.com/c851336/v851336001/1a5542/fm7y-rQ2Yv8.jpg', 'width': 510, 'height': 286}, {'type': 'o', 'url': 'https://sun1-89.userapi.com/c851336/v851336001/1a5543/Zm2SNs_852U.jpg', 'width': 130, 'height': 87}, {'type': 'p', 'url': 'https://sun1-17.userapi.com/c851336/v851336001/1a5544/jH4_4v4BLQc.jpg', 'width': 200, 'height': 133}, {'type': 'q', 'url': 'https://sun1-17.userapi.com/c851336/v851336001/1a5545/84Jdq_4_xOI.jpg', 'width': 320, 'height': 213}, {'type': 'r', 'url': 'https://sun1-18.userapi.com/c851336/v851336001/1a5546/kDIZr4Qi338.jpg', 'width': 510, 'height': 286}], 'text': '', 'date': 1566902544}, 'button': {'title': 'Читать', 'action': {'type': 'open_url', 'url': 'https://m.vk.com/@-66669811-kak-udalennomu-sotrudniku-vesti-perepisku-s-kollegami'}}}}], 'post_source': {'type': 'vk'}, 'comments': {'count': 0, 'can_post': 1, 'groups_can_post': True}, 'likes': {'count': 35, 'user_likes': 0, 'can_like': 1, 'can_publish': 1}, 'reposts': {'count': 4, 'user_reposted': 0}, 'views': {'count': 4291}, 'is_favorite': False}]}}\n"
     ]
    }
   ],
   "source": [
    "# получаем последнюю запись из паблика Skillbox Вконтакте\n",
    "url = 'https://api.vk.com/method/wall.get?access_token=' + str(vk_token) + '&owner_id=-66669811&count=1&v=5.92'\n",
    "response = getjson(url)\n",
    "\n",
    "print(response)"
   ]
  },
  {
   "cell_type": "code",
   "execution_count": 0,
   "metadata": {
    "colab": {},
    "colab_type": "code",
    "id": "JUwqSTXF_lyK",
    "outputId": "15e74c10-0dcd-4f22-e86f-d16f5d3c8f96"
   },
   "outputs": [
    {
     "name": "stdout",
     "output_type": "stream",
     "text": [
      "{'response': {'count': 7191, 'items': [{'id': 36351, 'from_id': -66669811, 'owner_id': -66669811, 'date': 1566840605, 'marked_as_ads': 0, 'post_type': 'post', 'text': 'Хотим поделиться с вами радостью. Мы заняли первое место среди онлайн-школ и университетов по версии Ruward: http://amp.gs/SMsg\\n\\nПервое место в рейтинге курсов по дизайну и программированию, а также среди всех, кто учит digital-профессиям.\\n\\nУра 🎉\\n\\n#Skillbox_дизайн #Skillbox_программирование', 'attachments': [{'type': 'doc', 'doc': {'id': 513429829, 'owner_id': 1300738, 'title': '1.gif', 'size': 84738, 'ext': 'gif', 'url': 'https://vk.com/doc1300738_513429829?hash=0eca35cb6983dc7f66&dl=GYZTCNRQHE3TK:1566919731:52e432835f7356a8dc&api=1&no_preview=1', 'date': 1566883456, 'type': 3, 'preview': {'photo': {'sizes': [{'src': 'https://sun9-13.userapi.com/c848220/u1300738/d1/-3/m_ef0919e2b0.jpg', 'width': 130, 'height': 74, 'type': 'm'}, {'src': 'https://sun9-28.userapi.com/c848220/u1300738/d1/-3/s_ef0919e2b0.jpg', 'width': 100, 'height': 57, 'type': 's'}, {'src': 'https://sun9-43.userapi.com/c848220/u1300738/d1/-3/x_ef0919e2b0.jpg', 'width': 604, 'height': 340, 'type': 'x'}, {'src': 'https://sun9-33.userapi.com/c848220/u1300738/d1/-3/y_ef0919e2b0.jpg', 'width': 807, 'height': 454, 'type': 'y'}, {'src': 'https://sun9-3.userapi.com/c848220/u1300738/d1/-3/z_ef0919e2b0.jpg', 'width': 1280, 'height': 720, 'type': 'z'}, {'src': 'https://sun9-42.userapi.com/c848220/u1300738/d1/-3/o_ef0919e2b0.jpg', 'width': 1920, 'height': 1080, 'type': 'o'}]}, 'video': {'src': 'https://vk.com/doc1300738_513429829?hash=0eca35cb6983dc7f66&dl=GYZTCNRQHE3TK:1566919731:52e432835f7356a8dc&api=1&mp4=1', 'width': 1080, 'height': 606, 'file_size': 49591}}, 'access_key': '508f52ff6d8d4bac7b'}}], 'post_source': {'type': 'api'}, 'comments': {'count': 10, 'can_post': 1, 'groups_can_post': True}, 'likes': {'count': 76, 'user_likes': 0, 'can_like': 1, 'can_publish': 1}, 'reposts': {'count': 3, 'user_reposted': 0}, 'views': {'count': 8646}, 'is_favorite': False}]}}\n"
     ]
    }
   ],
   "source": [
    "# сдвигаем запрос и получаем предпоследнюю запись из паблика Skillbox Вконтакте\n",
    "url = 'https://api.vk.com/method/wall.get?access_token=' + str(vk_token) + '&owner_id=-66669811&offset=1&count=1&v=5.92'\n",
    "response = getjson(url)\n",
    "\n",
    "print(response)"
   ]
  },
  {
   "cell_type": "markdown",
   "metadata": {
    "colab_type": "text",
    "id": "idHkAkFk_lyO"
   },
   "source": [
    "## Как работать с датой из JSON-ответа?\n",
    "\n",
    "Для примера возьмем дату из JSON-ответа выше и переведем ее в привычный формат."
   ]
  },
  {
   "cell_type": "code",
   "execution_count": 0,
   "metadata": {
    "colab": {},
    "colab_type": "code",
    "id": "3ZPnEHCi_lyO",
    "outputId": "3036fb92-c0e9-4d0b-88f7-0810d4bcf767"
   },
   "outputs": [
    {
     "name": "stdout",
     "output_type": "stream",
     "text": [
      "2019-08-26 20:30:05\n"
     ]
    }
   ],
   "source": [
    "from datetime import datetime, timedelta\n",
    "\n",
    "date = 1566840605\n",
    "dt = (datetime.fromtimestamp(date) - timedelta(hours=0)).strftime('%Y-%m-%d %H:%M:%S')\n",
    "\n",
    "print(dt)"
   ]
  },
  {
   "cell_type": "markdown",
   "metadata": {
    "colab_type": "text",
    "id": "L4Lx-HxG_lyR"
   },
   "source": [
    "## Необходимая документация"
   ]
  },
  {
   "cell_type": "markdown",
   "metadata": {
    "colab_type": "text",
    "id": "XjMaV5VI_lyR"
   },
   "source": [
    " [Документация по API Вконтакте](https://vk.com/dev/methods)\n",
    "<br>\n",
    "[Документация по модулю datetime](https://docs.python.org/3/library/datetime.html)"
   ]
  }
 ],
 "metadata": {
  "colab": {
   "name": "Дополнительные инструкции.ipynb",
   "provenance": []
  },
  "kernelspec": {
   "display_name": "Python 3",
   "language": "python",
   "name": "python3"
  },
  "language_info": {
   "codemirror_mode": {
    "name": "ipython",
    "version": 3
   },
   "file_extension": ".py",
   "mimetype": "text/x-python",
   "name": "python",
   "nbconvert_exporter": "python",
   "pygments_lexer": "ipython3",
   "version": "3.7.3"
  }
 },
 "nbformat": 4,
 "nbformat_minor": 1
}
