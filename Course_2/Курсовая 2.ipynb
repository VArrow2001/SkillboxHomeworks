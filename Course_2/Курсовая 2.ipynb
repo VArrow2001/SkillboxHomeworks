{
 "cells": [
  {
   "cell_type": "markdown",
   "metadata": {
    "colab_type": "text",
    "id": "Fd3_VqqaHVAN"
   },
   "source": [
    "# Курсовая работа № 2\n",
    "## Аналитика. Начальный уровень\n",
    "\n",
    "Курсовая работа состоит из двух частей – обязательной и дополнительной. **Для зачета необходимо выполнение только первой части.** Выполнение второй части может потребовать дополнительные знания Python.\n",
    "\n",
    "- [Часть первая](#Часть-первая)\n",
    "- [Часть вторая](#Часть-вторая)"
   ]
  },
  {
   "cell_type": "markdown",
   "metadata": {
    "colab_type": "text",
    "id": "v_LX23K6HVAQ"
   },
   "source": [
    "## Часть первая\n",
    "\n",
    "\n",
    "Перед вами стоит задача – подготовить аналитический отчет для HR-отдела. На основании проведенной аналитики предполагается составить рекомендации для отдела кадров по стратегии набора персонала, а также по взаимодействию с уже имеющимися сотрудниками.\n",
    "<br><br> В базе данных лежит набор таблиц, которые содержат данные о сотрудниках вымышленной компании.\n",
    "Сделайте обзор штата сотрудников компании. Составьте набор предметов исследования, а затем проверьте их на данных. Вся аналитика должна быть выполена с помощью SQL. Впоследствии данные можно визуализировать, однако финальные датафреймы для графиков также должны быть подготовлены с помощью SQL. <br><br>\n",
    "\n",
    "Примеры гипотез:\n",
    "1. Есть зависимость между `perfomance score` и тем, под чьим руководством работает сотрудник.\n",
    "2. Есть зависимость между продолжительностью работы в компании и семейным положением сотрудника.\n",
    "2. Есть зависимость между продолжительностью работы в компании и возрастом сотрудника.\n",
    "\n",
    "<br><br>\n",
    "Параметры для подключения следующие: хост – `dsstudents.skillbox.ru`, порт – `5432`, имя базы данных – `human_resources`, пользователь – `readonly`, пароль – `6hajV34RTQfmxhS`. Таблицы, доступные для анализа, – `hr_dataset`, `production_staff`, `recruiting_costs`, `salary_grid`."
   ]
  },
  {
   "cell_type": "markdown",
   "metadata": {},
   "source": [
    "## 0. Подготовка данных"
   ]
  },
  {
   "cell_type": "code",
   "execution_count": 1,
   "metadata": {},
   "outputs": [],
   "source": [
    "import psycopg2\n",
    "import pandas as pd"
   ]
  },
  {
   "cell_type": "code",
   "execution_count": 2,
   "metadata": {},
   "outputs": [],
   "source": [
    "tables = {'hr_dataset':None, \n",
    "          'production_staff':None,\n",
    "          'recruiting_costs':None,\n",
    "          'salary_grid':None}"
   ]
  },
  {
   "cell_type": "code",
   "execution_count": 3,
   "metadata": {
    "colab": {},
    "colab_type": "code",
    "id": "7b1vJYVrHVAR"
   },
   "outputs": [],
   "source": [
    "pg_connection = {\n",
    "    \"host\": \"dsstudents.skillbox.ru\",\n",
    "    \"port\": 5432,\n",
    "    \"dbname\": \"human_resources\",\n",
    "    \"user\": \"readonly\",\n",
    "    \"password\": \"6hajV34RTQfmxhS\"\n",
    "}\n",
    "\n",
    "conn = psycopg2.connect(**pg_connection)"
   ]
  },
  {
   "cell_type": "code",
   "execution_count": 4,
   "metadata": {},
   "outputs": [],
   "source": [
    "def info(table, conn):\n",
    "    sql_str = f'''SELECT * FROM {table} LIMIT 3;'''\n",
    "    df = pd.read_sql_query(sql_str, conn)\n",
    "    return df"
   ]
  },
  {
   "cell_type": "code",
   "execution_count": 5,
   "metadata": {},
   "outputs": [],
   "source": [
    "for table in tables:\n",
    "    tables[table] = info(table, conn)\n",
    "#   tables[table].to_excel(f'Data_1/{table}_info.xlsx') Загрузил данные в Excel для подробного рассмотрения"
   ]
  },
  {
   "cell_type": "markdown",
   "metadata": {},
   "source": [
    "Смотрим на таблицы, чтобы иметь представление о содержимом. Также все таблицы были заранее выгружены в Excel для подробного рассмотрения."
   ]
  },
  {
   "cell_type": "code",
   "execution_count": 6,
   "metadata": {
    "scrolled": false
   },
   "outputs": [
    {
     "data": {
      "text/html": [
       "<div>\n",
       "<style scoped>\n",
       "    .dataframe tbody tr th:only-of-type {\n",
       "        vertical-align: middle;\n",
       "    }\n",
       "\n",
       "    .dataframe tbody tr th {\n",
       "        vertical-align: top;\n",
       "    }\n",
       "\n",
       "    .dataframe thead th {\n",
       "        text-align: right;\n",
       "    }\n",
       "</style>\n",
       "<table border=\"1\" class=\"dataframe\">\n",
       "  <thead>\n",
       "    <tr style=\"text-align: right;\">\n",
       "      <th></th>\n",
       "      <th>id</th>\n",
       "      <th>Employee Name</th>\n",
       "      <th>Employee Number</th>\n",
       "      <th>marriedid</th>\n",
       "      <th>maritalstatusid</th>\n",
       "      <th>genderid</th>\n",
       "      <th>empstatus_id</th>\n",
       "      <th>deptid</th>\n",
       "      <th>perf_scoreid</th>\n",
       "      <th>age</th>\n",
       "      <th>...</th>\n",
       "      <th>Date of Hire</th>\n",
       "      <th>Days Employed</th>\n",
       "      <th>Date of Termination</th>\n",
       "      <th>Reason For Term</th>\n",
       "      <th>Employment Status</th>\n",
       "      <th>department</th>\n",
       "      <th>position</th>\n",
       "      <th>Manager Name</th>\n",
       "      <th>Employee Source</th>\n",
       "      <th>Performance Score</th>\n",
       "    </tr>\n",
       "  </thead>\n",
       "  <tbody>\n",
       "    <tr>\n",
       "      <th>0</th>\n",
       "      <td>1</td>\n",
       "      <td>Brown, Mia</td>\n",
       "      <td>1103024456</td>\n",
       "      <td>1</td>\n",
       "      <td>1</td>\n",
       "      <td>0</td>\n",
       "      <td>1</td>\n",
       "      <td>1</td>\n",
       "      <td>3</td>\n",
       "      <td>30</td>\n",
       "      <td>...</td>\n",
       "      <td>2008-10-27</td>\n",
       "      <td>3317</td>\n",
       "      <td>None</td>\n",
       "      <td>N/A - still employed</td>\n",
       "      <td>Active</td>\n",
       "      <td>Admin Offices</td>\n",
       "      <td>Accountant I</td>\n",
       "      <td>Brandon R. LeBlanc</td>\n",
       "      <td>Diversity Job Fair</td>\n",
       "      <td>Fully Meets</td>\n",
       "    </tr>\n",
       "    <tr>\n",
       "      <th>1</th>\n",
       "      <td>2</td>\n",
       "      <td>LaRotonda, William</td>\n",
       "      <td>1106026572</td>\n",
       "      <td>0</td>\n",
       "      <td>2</td>\n",
       "      <td>1</td>\n",
       "      <td>1</td>\n",
       "      <td>1</td>\n",
       "      <td>3</td>\n",
       "      <td>34</td>\n",
       "      <td>...</td>\n",
       "      <td>2014-01-06</td>\n",
       "      <td>1420</td>\n",
       "      <td>None</td>\n",
       "      <td>N/A - still employed</td>\n",
       "      <td>Active</td>\n",
       "      <td>Admin Offices</td>\n",
       "      <td>Accountant I</td>\n",
       "      <td>Brandon R. LeBlanc</td>\n",
       "      <td>Website Banner Ads</td>\n",
       "      <td>Fully Meets</td>\n",
       "    </tr>\n",
       "    <tr>\n",
       "      <th>2</th>\n",
       "      <td>3</td>\n",
       "      <td>Steans, Tyrone</td>\n",
       "      <td>1302053333</td>\n",
       "      <td>0</td>\n",
       "      <td>0</td>\n",
       "      <td>1</td>\n",
       "      <td>1</td>\n",
       "      <td>1</td>\n",
       "      <td>3</td>\n",
       "      <td>31</td>\n",
       "      <td>...</td>\n",
       "      <td>2014-09-29</td>\n",
       "      <td>1154</td>\n",
       "      <td>None</td>\n",
       "      <td>N/A - still employed</td>\n",
       "      <td>Active</td>\n",
       "      <td>Admin Offices</td>\n",
       "      <td>Accountant I</td>\n",
       "      <td>Brandon R. LeBlanc</td>\n",
       "      <td>Internet Search</td>\n",
       "      <td>Fully Meets</td>\n",
       "    </tr>\n",
       "  </tbody>\n",
       "</table>\n",
       "<p>3 rows × 29 columns</p>\n",
       "</div>"
      ],
      "text/plain": [
       "   id         Employee Name  Employee Number  marriedid  maritalstatusid  \\\n",
       "0   1            Brown, Mia       1103024456          1                1   \n",
       "1   2  LaRotonda, William         1106026572          0                2   \n",
       "2   3      Steans, Tyrone         1302053333          0                0   \n",
       "\n",
       "   genderid  empstatus_id  deptid  perf_scoreid  age  ...  Date of Hire  \\\n",
       "0         0             1       1             3   30  ...    2008-10-27   \n",
       "1         1             1       1             3   34  ...    2014-01-06   \n",
       "2         1             1       1             3   31  ...    2014-09-29   \n",
       "\n",
       "  Days Employed  Date of Termination       Reason For Term Employment Status  \\\n",
       "0          3317                 None  N/A - still employed            Active   \n",
       "1          1420                 None  N/A - still employed            Active   \n",
       "2          1154                 None  N/A - still employed            Active   \n",
       "\n",
       "      department      position        Manager Name     Employee Source  \\\n",
       "0  Admin Offices  Accountant I  Brandon R. LeBlanc  Diversity Job Fair   \n",
       "1  Admin Offices  Accountant I  Brandon R. LeBlanc  Website Banner Ads   \n",
       "2  Admin Offices  Accountant I  Brandon R. LeBlanc     Internet Search   \n",
       "\n",
       "  Performance Score  \n",
       "0       Fully Meets  \n",
       "1       Fully Meets  \n",
       "2       Fully Meets  \n",
       "\n",
       "[3 rows x 29 columns]"
      ]
     },
     "execution_count": 6,
     "metadata": {},
     "output_type": "execute_result"
    }
   ],
   "source": [
    "tables['hr_dataset']"
   ]
  },
  {
   "cell_type": "code",
   "execution_count": 7,
   "metadata": {},
   "outputs": [
    {
     "data": {
      "text/html": [
       "<div>\n",
       "<style scoped>\n",
       "    .dataframe tbody tr th:only-of-type {\n",
       "        vertical-align: middle;\n",
       "    }\n",
       "\n",
       "    .dataframe tbody tr th {\n",
       "        vertical-align: top;\n",
       "    }\n",
       "\n",
       "    .dataframe thead th {\n",
       "        text-align: right;\n",
       "    }\n",
       "</style>\n",
       "<table border=\"1\" class=\"dataframe\">\n",
       "  <thead>\n",
       "    <tr style=\"text-align: right;\">\n",
       "      <th></th>\n",
       "      <th>id</th>\n",
       "      <th>Employee Name</th>\n",
       "      <th>Race Desc</th>\n",
       "      <th>Date of Hire</th>\n",
       "      <th>TermDate</th>\n",
       "      <th>Reason for Term</th>\n",
       "      <th>Employment Status</th>\n",
       "      <th>Department</th>\n",
       "      <th>Position</th>\n",
       "      <th>Pay</th>\n",
       "      <th>Manager Name</th>\n",
       "      <th>Performance Score</th>\n",
       "      <th>Abutments/Hour Wk 1</th>\n",
       "      <th>Abutments/Hour Wk 2</th>\n",
       "      <th>Daily Error Rate</th>\n",
       "      <th>90-day Complaints</th>\n",
       "    </tr>\n",
       "  </thead>\n",
       "  <tbody>\n",
       "    <tr>\n",
       "      <th>0</th>\n",
       "      <td>1</td>\n",
       "      <td>Albert, Michael</td>\n",
       "      <td>White</td>\n",
       "      <td>2011-08-01</td>\n",
       "      <td>None</td>\n",
       "      <td>N/A - still employed</td>\n",
       "      <td>Active</td>\n",
       "      <td>Production</td>\n",
       "      <td>Production Manager</td>\n",
       "      <td>$54.50</td>\n",
       "      <td>Elisa Bramante</td>\n",
       "      <td>Fully Meets</td>\n",
       "      <td>0</td>\n",
       "      <td>0</td>\n",
       "      <td>0</td>\n",
       "      <td>0</td>\n",
       "    </tr>\n",
       "    <tr>\n",
       "      <th>1</th>\n",
       "      <td>2</td>\n",
       "      <td>Bozzi, Charles</td>\n",
       "      <td>Asian</td>\n",
       "      <td>2013-09-30</td>\n",
       "      <td>2014-08-07</td>\n",
       "      <td>retiring</td>\n",
       "      <td>Voluntarily Terminated</td>\n",
       "      <td>Production</td>\n",
       "      <td>Production Manager</td>\n",
       "      <td>$50.50</td>\n",
       "      <td>Elisa Bramante</td>\n",
       "      <td>Fully Meets</td>\n",
       "      <td>0</td>\n",
       "      <td>0</td>\n",
       "      <td>0</td>\n",
       "      <td>0</td>\n",
       "    </tr>\n",
       "    <tr>\n",
       "      <th>2</th>\n",
       "      <td>3</td>\n",
       "      <td>Butler, Webster  L</td>\n",
       "      <td>White</td>\n",
       "      <td>2016-01-28</td>\n",
       "      <td>None</td>\n",
       "      <td>N/A - still employed</td>\n",
       "      <td>Active</td>\n",
       "      <td>Production</td>\n",
       "      <td>Production Manager</td>\n",
       "      <td>$55.00</td>\n",
       "      <td>Elisa Bramante</td>\n",
       "      <td>Exceeds</td>\n",
       "      <td>0</td>\n",
       "      <td>0</td>\n",
       "      <td>0</td>\n",
       "      <td>0</td>\n",
       "    </tr>\n",
       "  </tbody>\n",
       "</table>\n",
       "</div>"
      ],
      "text/plain": [
       "   id       Employee Name Race Desc Date of Hire    TermDate  \\\n",
       "0   1   Albert, Michael       White   2011-08-01        None   \n",
       "1   2      Bozzi, Charles     Asian   2013-09-30  2014-08-07   \n",
       "2   3  Butler, Webster  L     White   2016-01-28        None   \n",
       "\n",
       "        Reason for Term       Employment Status         Department  \\\n",
       "0  N/A - still employed                  Active  Production          \n",
       "1              retiring  Voluntarily Terminated  Production          \n",
       "2  N/A - still employed                  Active  Production          \n",
       "\n",
       "             Position     Pay    Manager Name Performance Score  \\\n",
       "0  Production Manager  $54.50  Elisa Bramante       Fully Meets   \n",
       "1  Production Manager  $50.50  Elisa Bramante       Fully Meets   \n",
       "2  Production Manager  $55.00  Elisa Bramante           Exceeds   \n",
       "\n",
       "   Abutments/Hour Wk 1  Abutments/Hour Wk 2  Daily Error Rate  \\\n",
       "0                    0                    0                 0   \n",
       "1                    0                    0                 0   \n",
       "2                    0                    0                 0   \n",
       "\n",
       "   90-day Complaints  \n",
       "0                  0  \n",
       "1                  0  \n",
       "2                  0  "
      ]
     },
     "execution_count": 7,
     "metadata": {},
     "output_type": "execute_result"
    }
   ],
   "source": [
    "tables['production_staff']"
   ]
  },
  {
   "cell_type": "code",
   "execution_count": 8,
   "metadata": {},
   "outputs": [
    {
     "data": {
      "text/html": [
       "<div>\n",
       "<style scoped>\n",
       "    .dataframe tbody tr th:only-of-type {\n",
       "        vertical-align: middle;\n",
       "    }\n",
       "\n",
       "    .dataframe tbody tr th {\n",
       "        vertical-align: top;\n",
       "    }\n",
       "\n",
       "    .dataframe thead th {\n",
       "        text-align: right;\n",
       "    }\n",
       "</style>\n",
       "<table border=\"1\" class=\"dataframe\">\n",
       "  <thead>\n",
       "    <tr style=\"text-align: right;\">\n",
       "      <th></th>\n",
       "      <th>id</th>\n",
       "      <th>Employment Source</th>\n",
       "      <th>January</th>\n",
       "      <th>February</th>\n",
       "      <th>March</th>\n",
       "      <th>April</th>\n",
       "      <th>May</th>\n",
       "      <th>June</th>\n",
       "      <th>July</th>\n",
       "      <th>August</th>\n",
       "      <th>September</th>\n",
       "      <th>October</th>\n",
       "      <th>November</th>\n",
       "      <th>December</th>\n",
       "      <th>Total</th>\n",
       "    </tr>\n",
       "  </thead>\n",
       "  <tbody>\n",
       "    <tr>\n",
       "      <th>0</th>\n",
       "      <td>1</td>\n",
       "      <td>Billboard</td>\n",
       "      <td>520</td>\n",
       "      <td>520</td>\n",
       "      <td>520</td>\n",
       "      <td>520</td>\n",
       "      <td>0</td>\n",
       "      <td>0</td>\n",
       "      <td>612</td>\n",
       "      <td>612</td>\n",
       "      <td>729</td>\n",
       "      <td>749</td>\n",
       "      <td>910</td>\n",
       "      <td>500</td>\n",
       "      <td>6192</td>\n",
       "    </tr>\n",
       "    <tr>\n",
       "      <th>1</th>\n",
       "      <td>2</td>\n",
       "      <td>Careerbuilder</td>\n",
       "      <td>410</td>\n",
       "      <td>410</td>\n",
       "      <td>410</td>\n",
       "      <td>820</td>\n",
       "      <td>820</td>\n",
       "      <td>410</td>\n",
       "      <td>410</td>\n",
       "      <td>820</td>\n",
       "      <td>820</td>\n",
       "      <td>1230</td>\n",
       "      <td>820</td>\n",
       "      <td>410</td>\n",
       "      <td>7790</td>\n",
       "    </tr>\n",
       "    <tr>\n",
       "      <th>2</th>\n",
       "      <td>3</td>\n",
       "      <td>Company Intranet - Partner</td>\n",
       "      <td>0</td>\n",
       "      <td>0</td>\n",
       "      <td>0</td>\n",
       "      <td>0</td>\n",
       "      <td>0</td>\n",
       "      <td>0</td>\n",
       "      <td>0</td>\n",
       "      <td>0</td>\n",
       "      <td>0</td>\n",
       "      <td>0</td>\n",
       "      <td>0</td>\n",
       "      <td>0</td>\n",
       "      <td>0</td>\n",
       "    </tr>\n",
       "  </tbody>\n",
       "</table>\n",
       "</div>"
      ],
      "text/plain": [
       "   id           Employment Source  January   February  March  April  May  \\\n",
       "0   1                   Billboard       520       520    520    520    0   \n",
       "1   2               Careerbuilder       410       410    410    820  820   \n",
       "2   3  Company Intranet - Partner         0         0      0      0    0   \n",
       "\n",
       "   June  July  August  September  October  November  December  Total  \n",
       "0     0   612     612        729      749       910       500   6192  \n",
       "1   410   410     820        820     1230       820       410   7790  \n",
       "2     0     0       0          0        0         0         0      0  "
      ]
     },
     "execution_count": 8,
     "metadata": {},
     "output_type": "execute_result"
    }
   ],
   "source": [
    "tables['recruiting_costs']"
   ]
  },
  {
   "cell_type": "code",
   "execution_count": 9,
   "metadata": {},
   "outputs": [
    {
     "data": {
      "text/html": [
       "<div>\n",
       "<style scoped>\n",
       "    .dataframe tbody tr th:only-of-type {\n",
       "        vertical-align: middle;\n",
       "    }\n",
       "\n",
       "    .dataframe tbody tr th {\n",
       "        vertical-align: top;\n",
       "    }\n",
       "\n",
       "    .dataframe thead th {\n",
       "        text-align: right;\n",
       "    }\n",
       "</style>\n",
       "<table border=\"1\" class=\"dataframe\">\n",
       "  <thead>\n",
       "    <tr style=\"text-align: right;\">\n",
       "      <th></th>\n",
       "      <th>id</th>\n",
       "      <th>Position</th>\n",
       "      <th>Salary Min</th>\n",
       "      <th>Salary Mid</th>\n",
       "      <th>Salary Max</th>\n",
       "      <th>Hourly Min</th>\n",
       "      <th>Hourly Mid</th>\n",
       "      <th>Hourly Max</th>\n",
       "    </tr>\n",
       "  </thead>\n",
       "  <tbody>\n",
       "    <tr>\n",
       "      <th>0</th>\n",
       "      <td>1</td>\n",
       "      <td>Administrative Assistant</td>\n",
       "      <td>30000</td>\n",
       "      <td>40000</td>\n",
       "      <td>50000</td>\n",
       "      <td>14.42</td>\n",
       "      <td>19.23</td>\n",
       "      <td>24.04</td>\n",
       "    </tr>\n",
       "    <tr>\n",
       "      <th>1</th>\n",
       "      <td>2</td>\n",
       "      <td>Sr. Administrative Assistant</td>\n",
       "      <td>35000</td>\n",
       "      <td>45000</td>\n",
       "      <td>55000</td>\n",
       "      <td>16.83</td>\n",
       "      <td>21.63</td>\n",
       "      <td>26.44</td>\n",
       "    </tr>\n",
       "    <tr>\n",
       "      <th>2</th>\n",
       "      <td>3</td>\n",
       "      <td>Accountant I</td>\n",
       "      <td>42274</td>\n",
       "      <td>51425</td>\n",
       "      <td>62299</td>\n",
       "      <td>20.32</td>\n",
       "      <td>24.72</td>\n",
       "      <td>29.95</td>\n",
       "    </tr>\n",
       "  </tbody>\n",
       "</table>\n",
       "</div>"
      ],
      "text/plain": [
       "   id                      Position  Salary Min  Salary Mid  Salary Max  \\\n",
       "0   1      Administrative Assistant       30000       40000       50000   \n",
       "1   2  Sr. Administrative Assistant       35000       45000       55000   \n",
       "2   3                  Accountant I       42274       51425       62299   \n",
       "\n",
       "   Hourly Min  Hourly Mid  Hourly Max  \n",
       "0       14.42       19.23       24.04  \n",
       "1       16.83       21.63       26.44  \n",
       "2       20.32       24.72       29.95  "
      ]
     },
     "execution_count": 9,
     "metadata": {},
     "output_type": "execute_result"
    }
   ],
   "source": [
    "tables['salary_grid']"
   ]
  },
  {
   "cell_type": "markdown",
   "metadata": {},
   "source": [
    "## 1. Гипотезы и вычисления"
   ]
  },
  {
   "cell_type": "markdown",
   "metadata": {},
   "source": [
    "### 1.1 Есть зависимость производительности от:"
   ]
  },
  {
   "cell_type": "markdown",
   "metadata": {},
   "source": [
    "* брачного статуса;\n",
    "* региона проживания;\n",
    "* количества отработанных лет;\n",
    "* руководителя;\n",
    "* наёмной компании."
   ]
  },
  {
   "cell_type": "markdown",
   "metadata": {},
   "source": [
    "Для начала построим таблицу соответствий perf_scoreid и Performance Score"
   ]
  },
  {
   "cell_type": "code",
   "execution_count": 10,
   "metadata": {},
   "outputs": [],
   "source": [
    "sql_str = '''SELECT DISTINCT perf_scoreid, \"Performance Score\" FROM  hr_dataset ORDER BY 1;'''\n",
    "perf_score = pd.read_sql_query(sql_str, conn)"
   ]
  },
  {
   "cell_type": "code",
   "execution_count": 11,
   "metadata": {},
   "outputs": [
    {
     "data": {
      "text/html": [
       "<div>\n",
       "<style scoped>\n",
       "    .dataframe tbody tr th:only-of-type {\n",
       "        vertical-align: middle;\n",
       "    }\n",
       "\n",
       "    .dataframe tbody tr th {\n",
       "        vertical-align: top;\n",
       "    }\n",
       "\n",
       "    .dataframe thead th {\n",
       "        text-align: right;\n",
       "    }\n",
       "</style>\n",
       "<table border=\"1\" class=\"dataframe\">\n",
       "  <thead>\n",
       "    <tr style=\"text-align: right;\">\n",
       "      <th></th>\n",
       "      <th>perf_scoreid</th>\n",
       "      <th>Performance Score</th>\n",
       "    </tr>\n",
       "  </thead>\n",
       "  <tbody>\n",
       "    <tr>\n",
       "      <th>0</th>\n",
       "      <td>0</td>\n",
       "      <td>90-day meets</td>\n",
       "    </tr>\n",
       "    <tr>\n",
       "      <th>1</th>\n",
       "      <td>1</td>\n",
       "      <td>PIP</td>\n",
       "    </tr>\n",
       "    <tr>\n",
       "      <th>2</th>\n",
       "      <td>2</td>\n",
       "      <td>Needs Improvement</td>\n",
       "    </tr>\n",
       "    <tr>\n",
       "      <th>3</th>\n",
       "      <td>3</td>\n",
       "      <td>Fully Meets</td>\n",
       "    </tr>\n",
       "    <tr>\n",
       "      <th>4</th>\n",
       "      <td>4</td>\n",
       "      <td>Exceeds</td>\n",
       "    </tr>\n",
       "    <tr>\n",
       "      <th>5</th>\n",
       "      <td>5</td>\n",
       "      <td>Exceptional</td>\n",
       "    </tr>\n",
       "    <tr>\n",
       "      <th>6</th>\n",
       "      <td>9</td>\n",
       "      <td>N/A- too early to review</td>\n",
       "    </tr>\n",
       "  </tbody>\n",
       "</table>\n",
       "</div>"
      ],
      "text/plain": [
       "   perf_scoreid         Performance Score\n",
       "0             0              90-day meets\n",
       "1             1                       PIP\n",
       "2             2         Needs Improvement\n",
       "3             3               Fully Meets\n",
       "4             4                   Exceeds\n",
       "5             5               Exceptional\n",
       "6             9  N/A- too early to review"
      ]
     },
     "execution_count": 11,
     "metadata": {},
     "output_type": "execute_result"
    }
   ],
   "source": [
    "perf_score"
   ]
  },
  {
   "cell_type": "markdown",
   "metadata": {},
   "source": [
    "Теперь мы знаем, какие значения могут быть в Производительности. Вариант 9 в дальнейшем будем отбрасывать, как данные без достаточного кол-ва информации, 0-евое отбросим, так как относится только к тем, кто только закончил испытательный срок. \n",
    "1 и 2 - с низкой производительностью, а 3, 4 и 5 - с соответственно хорошей, отличной и исключительной успеваемостью."
   ]
  },
  {
   "cell_type": "markdown",
   "metadata": {},
   "source": [
    "Далее, строим таблицу соответствий для брачного статуса (id и значений)."
   ]
  },
  {
   "cell_type": "code",
   "execution_count": 64,
   "metadata": {},
   "outputs": [],
   "source": [
    "sql_str = '''SELECT DISTINCT maritalstatusid, maritaldesc FROM  hr_dataset ORDER BY 1;'''\n",
    "marital = pd.read_sql_query(sql_str, conn)"
   ]
  },
  {
   "cell_type": "code",
   "execution_count": 66,
   "metadata": {},
   "outputs": [
    {
     "data": {
      "text/html": [
       "<div>\n",
       "<style scoped>\n",
       "    .dataframe tbody tr th:only-of-type {\n",
       "        vertical-align: middle;\n",
       "    }\n",
       "\n",
       "    .dataframe tbody tr th {\n",
       "        vertical-align: top;\n",
       "    }\n",
       "\n",
       "    .dataframe thead th {\n",
       "        text-align: right;\n",
       "    }\n",
       "</style>\n",
       "<table border=\"1\" class=\"dataframe\">\n",
       "  <thead>\n",
       "    <tr style=\"text-align: right;\">\n",
       "      <th></th>\n",
       "      <th>maritalstatusid</th>\n",
       "      <th>maritaldesc</th>\n",
       "    </tr>\n",
       "  </thead>\n",
       "  <tbody>\n",
       "    <tr>\n",
       "      <th>0</th>\n",
       "      <td>0</td>\n",
       "      <td>Single</td>\n",
       "    </tr>\n",
       "    <tr>\n",
       "      <th>1</th>\n",
       "      <td>1</td>\n",
       "      <td>Married</td>\n",
       "    </tr>\n",
       "    <tr>\n",
       "      <th>2</th>\n",
       "      <td>2</td>\n",
       "      <td>Divorced</td>\n",
       "    </tr>\n",
       "    <tr>\n",
       "      <th>3</th>\n",
       "      <td>3</td>\n",
       "      <td>Separated</td>\n",
       "    </tr>\n",
       "    <tr>\n",
       "      <th>4</th>\n",
       "      <td>4</td>\n",
       "      <td>Widowed</td>\n",
       "    </tr>\n",
       "  </tbody>\n",
       "</table>\n",
       "</div>"
      ],
      "text/plain": [
       "   maritalstatusid maritaldesc\n",
       "0                0      Single\n",
       "1                1     Married\n",
       "2                2    Divorced\n",
       "3                3   Separated\n",
       "4                4     Widowed"
      ]
     },
     "execution_count": 66,
     "metadata": {},
     "output_type": "execute_result"
    }
   ],
   "source": [
    "marital"
   ]
  },
  {
   "cell_type": "markdown",
   "metadata": {},
   "source": [
    "Получим список всех регионов:"
   ]
  },
  {
   "cell_type": "code",
   "execution_count": 14,
   "metadata": {},
   "outputs": [],
   "source": [
    "sql_str = '''SELECT DISTINCT state FROM  hr_dataset ORDER BY state;'''\n",
    "states = pd.read_sql_query(sql_str, conn)"
   ]
  },
  {
   "cell_type": "code",
   "execution_count": 15,
   "metadata": {},
   "outputs": [
    {
     "data": {
      "text/html": [
       "<div>\n",
       "<style scoped>\n",
       "    .dataframe tbody tr th:only-of-type {\n",
       "        vertical-align: middle;\n",
       "    }\n",
       "\n",
       "    .dataframe tbody tr th {\n",
       "        vertical-align: top;\n",
       "    }\n",
       "\n",
       "    .dataframe thead th {\n",
       "        text-align: right;\n",
       "    }\n",
       "</style>\n",
       "<table border=\"1\" class=\"dataframe\">\n",
       "  <thead>\n",
       "    <tr style=\"text-align: right;\">\n",
       "      <th></th>\n",
       "      <th>state</th>\n",
       "    </tr>\n",
       "  </thead>\n",
       "  <tbody>\n",
       "    <tr>\n",
       "      <th>0</th>\n",
       "      <td>AL</td>\n",
       "    </tr>\n",
       "    <tr>\n",
       "      <th>1</th>\n",
       "      <td>AZ</td>\n",
       "    </tr>\n",
       "    <tr>\n",
       "      <th>2</th>\n",
       "      <td>CA</td>\n",
       "    </tr>\n",
       "    <tr>\n",
       "      <th>3</th>\n",
       "      <td>CO</td>\n",
       "    </tr>\n",
       "    <tr>\n",
       "      <th>4</th>\n",
       "      <td>CT</td>\n",
       "    </tr>\n",
       "  </tbody>\n",
       "</table>\n",
       "</div>"
      ],
      "text/plain": [
       "  state\n",
       "0    AL\n",
       "1    AZ\n",
       "2    CA\n",
       "3    CO\n",
       "4    CT"
      ]
     },
     "execution_count": 15,
     "metadata": {},
     "output_type": "execute_result"
    }
   ],
   "source": [
    "states.head()"
   ]
  },
  {
   "cell_type": "markdown",
   "metadata": {},
   "source": [
    "Всех руководителей:"
   ]
  },
  {
   "cell_type": "code",
   "execution_count": 16,
   "metadata": {},
   "outputs": [],
   "source": [
    "sql_str = '''SELECT DISTINCT \"Manager Name\" FROM  hr_dataset ORDER BY 1;'''\n",
    "managers = pd.read_sql_query(sql_str, conn)"
   ]
  },
  {
   "cell_type": "code",
   "execution_count": 17,
   "metadata": {},
   "outputs": [
    {
     "data": {
      "text/html": [
       "<div>\n",
       "<style scoped>\n",
       "    .dataframe tbody tr th:only-of-type {\n",
       "        vertical-align: middle;\n",
       "    }\n",
       "\n",
       "    .dataframe tbody tr th {\n",
       "        vertical-align: top;\n",
       "    }\n",
       "\n",
       "    .dataframe thead th {\n",
       "        text-align: right;\n",
       "    }\n",
       "</style>\n",
       "<table border=\"1\" class=\"dataframe\">\n",
       "  <thead>\n",
       "    <tr style=\"text-align: right;\">\n",
       "      <th></th>\n",
       "      <th>Manager Name</th>\n",
       "    </tr>\n",
       "  </thead>\n",
       "  <tbody>\n",
       "    <tr>\n",
       "      <th>0</th>\n",
       "      <td>Alex Sweetwater</td>\n",
       "    </tr>\n",
       "    <tr>\n",
       "      <th>1</th>\n",
       "      <td>Amy Dunn</td>\n",
       "    </tr>\n",
       "    <tr>\n",
       "      <th>2</th>\n",
       "      <td>Board of Directors</td>\n",
       "    </tr>\n",
       "    <tr>\n",
       "      <th>3</th>\n",
       "      <td>Brandon R. LeBlanc</td>\n",
       "    </tr>\n",
       "    <tr>\n",
       "      <th>4</th>\n",
       "      <td>Brannon Miller</td>\n",
       "    </tr>\n",
       "  </tbody>\n",
       "</table>\n",
       "</div>"
      ],
      "text/plain": [
       "         Manager Name\n",
       "0     Alex Sweetwater\n",
       "1            Amy Dunn\n",
       "2  Board of Directors\n",
       "3  Brandon R. LeBlanc\n",
       "4      Brannon Miller"
      ]
     },
     "execution_count": 17,
     "metadata": {},
     "output_type": "execute_result"
    }
   ],
   "source": [
    "managers.head()"
   ]
  },
  {
   "cell_type": "markdown",
   "metadata": {},
   "source": [
    "Все наёмные компании:"
   ]
  },
  {
   "cell_type": "code",
   "execution_count": 18,
   "metadata": {},
   "outputs": [],
   "source": [
    "sql_str = '''SELECT \"Employment Source\" FROM recruiting_costs ORDER BY 1;'''\n",
    "comps = pd.read_sql_query(sql_str, conn)"
   ]
  },
  {
   "cell_type": "code",
   "execution_count": 19,
   "metadata": {},
   "outputs": [
    {
     "data": {
      "text/html": [
       "<div>\n",
       "<style scoped>\n",
       "    .dataframe tbody tr th:only-of-type {\n",
       "        vertical-align: middle;\n",
       "    }\n",
       "\n",
       "    .dataframe tbody tr th {\n",
       "        vertical-align: top;\n",
       "    }\n",
       "\n",
       "    .dataframe thead th {\n",
       "        text-align: right;\n",
       "    }\n",
       "</style>\n",
       "<table border=\"1\" class=\"dataframe\">\n",
       "  <thead>\n",
       "    <tr style=\"text-align: right;\">\n",
       "      <th></th>\n",
       "      <th>Employment Source</th>\n",
       "    </tr>\n",
       "  </thead>\n",
       "  <tbody>\n",
       "    <tr>\n",
       "      <th>0</th>\n",
       "      <td>Billboard</td>\n",
       "    </tr>\n",
       "    <tr>\n",
       "      <th>1</th>\n",
       "      <td>Careerbuilder</td>\n",
       "    </tr>\n",
       "    <tr>\n",
       "      <th>2</th>\n",
       "      <td>Company Intranet - Partner</td>\n",
       "    </tr>\n",
       "    <tr>\n",
       "      <th>3</th>\n",
       "      <td>Diversity Job Fair</td>\n",
       "    </tr>\n",
       "    <tr>\n",
       "      <th>4</th>\n",
       "      <td>Employee Referral</td>\n",
       "    </tr>\n",
       "    <tr>\n",
       "      <th>5</th>\n",
       "      <td>Glassdoor</td>\n",
       "    </tr>\n",
       "    <tr>\n",
       "      <th>6</th>\n",
       "      <td>Information Session</td>\n",
       "    </tr>\n",
       "    <tr>\n",
       "      <th>7</th>\n",
       "      <td>Internet Search</td>\n",
       "    </tr>\n",
       "    <tr>\n",
       "      <th>8</th>\n",
       "      <td>MBTA ads</td>\n",
       "    </tr>\n",
       "    <tr>\n",
       "      <th>9</th>\n",
       "      <td>Monster.com</td>\n",
       "    </tr>\n",
       "    <tr>\n",
       "      <th>10</th>\n",
       "      <td>Newspager/Magazine</td>\n",
       "    </tr>\n",
       "    <tr>\n",
       "      <th>11</th>\n",
       "      <td>On-campus Recruiting</td>\n",
       "    </tr>\n",
       "    <tr>\n",
       "      <th>12</th>\n",
       "      <td>On-line Web application</td>\n",
       "    </tr>\n",
       "    <tr>\n",
       "      <th>13</th>\n",
       "      <td>Other</td>\n",
       "    </tr>\n",
       "    <tr>\n",
       "      <th>14</th>\n",
       "      <td>Pay Per Click</td>\n",
       "    </tr>\n",
       "    <tr>\n",
       "      <th>15</th>\n",
       "      <td>Pay Per Click - Google</td>\n",
       "    </tr>\n",
       "    <tr>\n",
       "      <th>16</th>\n",
       "      <td>Professional Society</td>\n",
       "    </tr>\n",
       "    <tr>\n",
       "      <th>17</th>\n",
       "      <td>Search Engine - Google Bing Yahoo</td>\n",
       "    </tr>\n",
       "    <tr>\n",
       "      <th>18</th>\n",
       "      <td>Social Networks - Facebook Twitter etc</td>\n",
       "    </tr>\n",
       "    <tr>\n",
       "      <th>19</th>\n",
       "      <td>Vendor Referral</td>\n",
       "    </tr>\n",
       "    <tr>\n",
       "      <th>20</th>\n",
       "      <td>Website Banner Ads</td>\n",
       "    </tr>\n",
       "    <tr>\n",
       "      <th>21</th>\n",
       "      <td>Word of Mouth</td>\n",
       "    </tr>\n",
       "  </tbody>\n",
       "</table>\n",
       "</div>"
      ],
      "text/plain": [
       "                         Employment Source\n",
       "0                                Billboard\n",
       "1                            Careerbuilder\n",
       "2               Company Intranet - Partner\n",
       "3                       Diversity Job Fair\n",
       "4                        Employee Referral\n",
       "5                                Glassdoor\n",
       "6                      Information Session\n",
       "7                          Internet Search\n",
       "8                                 MBTA ads\n",
       "9                              Monster.com\n",
       "10                      Newspager/Magazine\n",
       "11                    On-campus Recruiting\n",
       "12                 On-line Web application\n",
       "13                                   Other\n",
       "14                           Pay Per Click\n",
       "15                  Pay Per Click - Google\n",
       "16                    Professional Society\n",
       "17       Search Engine - Google Bing Yahoo\n",
       "18  Social Networks - Facebook Twitter etc\n",
       "19                         Vendor Referral\n",
       "20                      Website Banner Ads\n",
       "21                           Word of Mouth"
      ]
     },
     "execution_count": 19,
     "metadata": {},
     "output_type": "execute_result"
    }
   ],
   "source": [
    "comps"
   ]
  },
  {
   "cell_type": "markdown",
   "metadata": {},
   "source": [
    "Попробуем построить корреляцию по формуле Спирмена для всех признаков. Количество отработанных дней переведём в качественный признак разбиением на интервалы (1 год = 1 интервал)."
   ]
  },
  {
   "cell_type": "code",
   "execution_count": 20,
   "metadata": {},
   "outputs": [],
   "source": [
    "sql_str = '''SELECT perf_scoreid, maritalstatusid, \"Days Employed\" as days_employed,\"Days Employed\"/365  as years_employed, state, \"Manager Name\" as manager_name,\n",
    "\"Employee Source\" as employee_source\n",
    "FROM hr_dataset\n",
    "WHERE (perf_scoreid < 9)\n",
    "ORDER BY 1;'''\n",
    "main_df = pd.read_sql_query(sql_str, conn)"
   ]
  },
  {
   "cell_type": "code",
   "execution_count": 21,
   "metadata": {},
   "outputs": [
    {
     "data": {
      "text/html": [
       "<div>\n",
       "<style scoped>\n",
       "    .dataframe tbody tr th:only-of-type {\n",
       "        vertical-align: middle;\n",
       "    }\n",
       "\n",
       "    .dataframe tbody tr th {\n",
       "        vertical-align: top;\n",
       "    }\n",
       "\n",
       "    .dataframe thead th {\n",
       "        text-align: right;\n",
       "    }\n",
       "</style>\n",
       "<table border=\"1\" class=\"dataframe\">\n",
       "  <thead>\n",
       "    <tr style=\"text-align: right;\">\n",
       "      <th></th>\n",
       "      <th>perf_scoreid</th>\n",
       "      <th>maritalstatusid</th>\n",
       "      <th>days_employed</th>\n",
       "      <th>years_employed</th>\n",
       "      <th>state</th>\n",
       "      <th>manager_name</th>\n",
       "      <th>employee_source</th>\n",
       "    </tr>\n",
       "  </thead>\n",
       "  <tbody>\n",
       "    <tr>\n",
       "      <th>0</th>\n",
       "      <td>0</td>\n",
       "      <td>0</td>\n",
       "      <td>2211</td>\n",
       "      <td>6</td>\n",
       "      <td>MA</td>\n",
       "      <td>Kissy Sullivan</td>\n",
       "      <td>Newspager/Magazine</td>\n",
       "    </tr>\n",
       "    <tr>\n",
       "      <th>1</th>\n",
       "      <td>0</td>\n",
       "      <td>0</td>\n",
       "      <td>309</td>\n",
       "      <td>0</td>\n",
       "      <td>MA</td>\n",
       "      <td>Simon Roup</td>\n",
       "      <td>Vendor Referral</td>\n",
       "    </tr>\n",
       "    <tr>\n",
       "      <th>2</th>\n",
       "      <td>0</td>\n",
       "      <td>1</td>\n",
       "      <td>1056</td>\n",
       "      <td>2</td>\n",
       "      <td>MA</td>\n",
       "      <td>Simon Roup</td>\n",
       "      <td>Glassdoor</td>\n",
       "    </tr>\n",
       "    <tr>\n",
       "      <th>3</th>\n",
       "      <td>0</td>\n",
       "      <td>1</td>\n",
       "      <td>1908</td>\n",
       "      <td>5</td>\n",
       "      <td>MA</td>\n",
       "      <td>Elijiah Gray</td>\n",
       "      <td>Monster.com</td>\n",
       "    </tr>\n",
       "    <tr>\n",
       "      <th>4</th>\n",
       "      <td>0</td>\n",
       "      <td>0</td>\n",
       "      <td>2148</td>\n",
       "      <td>5</td>\n",
       "      <td>MA</td>\n",
       "      <td>Alex Sweetwater</td>\n",
       "      <td>Monster.com</td>\n",
       "    </tr>\n",
       "  </tbody>\n",
       "</table>\n",
       "</div>"
      ],
      "text/plain": [
       "   perf_scoreid  maritalstatusid  days_employed  years_employed state  \\\n",
       "0             0                0           2211               6    MA   \n",
       "1             0                0            309               0    MA   \n",
       "2             0                1           1056               2    MA   \n",
       "3             0                1           1908               5    MA   \n",
       "4             0                0           2148               5    MA   \n",
       "\n",
       "      manager_name     employee_source  \n",
       "0   Kissy Sullivan  Newspager/Magazine  \n",
       "1       Simon Roup     Vendor Referral  \n",
       "2       Simon Roup           Glassdoor  \n",
       "3     Elijiah Gray         Monster.com  \n",
       "4  Alex Sweetwater         Monster.com  "
      ]
     },
     "execution_count": 21,
     "metadata": {},
     "output_type": "execute_result"
    }
   ],
   "source": [
    "main_df.head()"
   ]
  },
  {
   "cell_type": "code",
   "execution_count": 22,
   "metadata": {},
   "outputs": [],
   "source": [
    "from scipy.stats import spearmanr as qual_corr"
   ]
  },
  {
   "cell_type": "code",
   "execution_count": 23,
   "metadata": {},
   "outputs": [
    {
     "name": "stdout",
     "output_type": "stream",
     "text": [
      "\n",
      "Correlation with maritalstatusid:\t0.00903570795588563\n",
      "\n",
      "Correlation with days_employed:\t0.18835498785836924\n",
      "\n",
      "Correlation with years_employed:\t0.1952250940605742\n",
      "\n",
      "Correlation with state:\t0.009294728310753227\n",
      "\n",
      "Correlation with manager_name:\t-0.12103581493531973\n",
      "\n",
      "Correlation with employee_source:\t-0.09220636878364805\n"
     ]
    },
    {
     "name": "stderr",
     "output_type": "stream",
     "text": [
      "C:\\Games\\lib\\site-packages\\scipy\\stats\\stats.py:248: RuntimeWarning: The input array could not be properly checked for nan values. nan values will be ignored.\n",
      "  \"values. nan values will be ignored.\", RuntimeWarning)\n"
     ]
    }
   ],
   "source": [
    "for col in main_df.columns[1:]:\n",
    "    print(f\"\\nCorrelation with {col}:\\t{qual_corr(main_df.perf_scoreid, main_df[col]).correlation}\")"
   ]
  },
  {
   "cell_type": "markdown",
   "metadata": {},
   "source": [
    "На данном этапе мы выяснили приоритетность признаков, которые больше всего имеют влияние на производительность. В первую очередь, это количество отработанных лет (что логично), руководитель и HR-компания. Остальные характеристики уже можно не рассматривать."
   ]
  },
  {
   "cell_type": "markdown",
   "metadata": {},
   "source": [
    "### 1.1.1 Зависимость от количества отработанных дней"
   ]
  },
  {
   "cell_type": "markdown",
   "metadata": {},
   "source": [
    "Теперь попробуем построить диаграмму рассеивания для зависимости производительности от количества отработанных дней."
   ]
  },
  {
   "cell_type": "code",
   "execution_count": 24,
   "metadata": {},
   "outputs": [],
   "source": [
    "from matplotlib import pyplot as plt"
   ]
  },
  {
   "cell_type": "code",
   "execution_count": 25,
   "metadata": {},
   "outputs": [],
   "source": [
    "%matplotlib inline"
   ]
  },
  {
   "cell_type": "code",
   "execution_count": 26,
   "metadata": {},
   "outputs": [
    {
     "data": {
      "text/plain": [
       "<matplotlib.collections.PathCollection at 0x1aa568eb668>"
      ]
     },
     "execution_count": 26,
     "metadata": {},
     "output_type": "execute_result"
    },
    {
     "data": {
      "image/png": "[encoded data removed]",
      "text/plain": [
       "<Figure size 432x288 with 1 Axes>"
      ]
     },
     "metadata": {
      "needs_background": "light"
     },
     "output_type": "display_data"
    }
   ],
   "source": [
    "plt.scatter(main_df.days_employed, main_df.perf_scoreid)"
   ]
  },
  {
   "cell_type": "markdown",
   "metadata": {},
   "source": [
    "Диаграмма мало что даёт: мы знаем, что большинство сотрудников преуспевают и что преодолев порог в 2500-2600 рабочих дней, сотрудник точно преуспевает, хотя таких мало. Посмотрим на соотношение производительности в процентах."
   ]
  },
  {
   "cell_type": "code",
   "execution_count": 27,
   "metadata": {},
   "outputs": [],
   "source": [
    "sql_str = '''SELECT perf_scoreid, COUNT(*) FROM hr_dataset WHERE perf_scoreid < 9 GROUP BY 1 ORDER BY 1;'''\n",
    "ps_relations = pd.read_sql_query(sql_str, conn)"
   ]
  },
  {
   "cell_type": "code",
   "execution_count": 28,
   "metadata": {},
   "outputs": [
    {
     "data": {
      "text/plain": [
       "<matplotlib.legend.Legend at 0x1aa56985128>"
      ]
     },
     "execution_count": 28,
     "metadata": {},
     "output_type": "execute_result"
    },
    {
     "data": {
      "image/png": "[encoded data removed]",
      "text/plain": [
       "<Figure size 432x288 with 1 Axes>"
      ]
     },
     "metadata": {},
     "output_type": "display_data"
    }
   ],
   "source": [
    "fig, subplot = plt.subplots()\n",
    "\n",
    "wedges, texts = subplot.pie(ps_relations['count'], explode = None, labels = ps_relations.perf_scoreid)\n",
    "\n",
    "subplot.legend(wedges, ps_relations.perf_scoreid,\n",
    "               title = \"perf_scoreid\",\n",
    "               loc = \"center left\",\n",
    "               bbox_to_anchor = {1.5, 0, 0.5, 1})"
   ]
  },
  {
   "cell_type": "code",
   "execution_count": 29,
   "metadata": {},
   "outputs": [
    {
     "data": {
      "text/html": [
       "<div>\n",
       "<style scoped>\n",
       "    .dataframe tbody tr th:only-of-type {\n",
       "        vertical-align: middle;\n",
       "    }\n",
       "\n",
       "    .dataframe tbody tr th {\n",
       "        vertical-align: top;\n",
       "    }\n",
       "\n",
       "    .dataframe thead th {\n",
       "        text-align: right;\n",
       "    }\n",
       "</style>\n",
       "<table border=\"1\" class=\"dataframe\">\n",
       "  <thead>\n",
       "    <tr style=\"text-align: right;\">\n",
       "      <th></th>\n",
       "      <th>perf_scoreid</th>\n",
       "      <th>count</th>\n",
       "    </tr>\n",
       "  </thead>\n",
       "  <tbody>\n",
       "    <tr>\n",
       "      <th>0</th>\n",
       "      <td>0</td>\n",
       "      <td>31</td>\n",
       "    </tr>\n",
       "    <tr>\n",
       "      <th>1</th>\n",
       "      <td>1</td>\n",
       "      <td>9</td>\n",
       "    </tr>\n",
       "    <tr>\n",
       "      <th>2</th>\n",
       "      <td>2</td>\n",
       "      <td>15</td>\n",
       "    </tr>\n",
       "    <tr>\n",
       "      <th>3</th>\n",
       "      <td>3</td>\n",
       "      <td>181</td>\n",
       "    </tr>\n",
       "    <tr>\n",
       "      <th>4</th>\n",
       "      <td>4</td>\n",
       "      <td>28</td>\n",
       "    </tr>\n",
       "    <tr>\n",
       "      <th>5</th>\n",
       "      <td>5</td>\n",
       "      <td>9</td>\n",
       "    </tr>\n",
       "  </tbody>\n",
       "</table>\n",
       "</div>"
      ],
      "text/plain": [
       "   perf_scoreid  count\n",
       "0             0     31\n",
       "1             1      9\n",
       "2             2     15\n",
       "3             3    181\n",
       "4             4     28\n",
       "5             5      9"
      ]
     },
     "execution_count": 29,
     "metadata": {},
     "output_type": "execute_result"
    }
   ],
   "source": [
    "ps_relations"
   ]
  },
  {
   "cell_type": "markdown",
   "metadata": {},
   "source": [
    "Теперь отразим эти данные на годовой динамике."
   ]
  },
  {
   "cell_type": "code",
   "execution_count": 30,
   "metadata": {},
   "outputs": [],
   "source": [
    "sql_str = '''SELECT perf_scoreid,\"Days Employed\"/365  as years_employed,\n",
    "COUNT(*)\n",
    "FROM hr_dataset\n",
    "WHERE perf_scoreid < 9\n",
    "GROUP BY 1,2\n",
    "ORDER BY 1,2;'''\n",
    "ps_years = pd.read_sql_query(sql_str, conn)"
   ]
  },
  {
   "cell_type": "code",
   "execution_count": 31,
   "metadata": {},
   "outputs": [],
   "source": [
    "sql_str = '''SELECT \"Days Employed\"/365  as years_employed, COUNT(*)\n",
    "FROM hr_dataset\n",
    "WHERE perf_scoreid < 9\n",
    "GROUP BY 1\n",
    "ORDER BY 1;'''\n",
    "years_count = pd.read_sql_query(sql_str, conn)"
   ]
  },
  {
   "cell_type": "code",
   "execution_count": 32,
   "metadata": {},
   "outputs": [],
   "source": [
    "years_count.columns = ('years_employed', 'ppl')"
   ]
  },
  {
   "cell_type": "code",
   "execution_count": 33,
   "metadata": {},
   "outputs": [
    {
     "data": {
      "text/html": [
       "<div>\n",
       "<style scoped>\n",
       "    .dataframe tbody tr th:only-of-type {\n",
       "        vertical-align: middle;\n",
       "    }\n",
       "\n",
       "    .dataframe tbody tr th {\n",
       "        vertical-align: top;\n",
       "    }\n",
       "\n",
       "    .dataframe thead th {\n",
       "        text-align: right;\n",
       "    }\n",
       "</style>\n",
       "<table border=\"1\" class=\"dataframe\">\n",
       "  <thead>\n",
       "    <tr style=\"text-align: right;\">\n",
       "      <th></th>\n",
       "      <th>years_employed</th>\n",
       "      <th>ppl</th>\n",
       "    </tr>\n",
       "  </thead>\n",
       "  <tbody>\n",
       "    <tr>\n",
       "      <th>0</th>\n",
       "      <td>0</td>\n",
       "      <td>24</td>\n",
       "    </tr>\n",
       "    <tr>\n",
       "      <th>1</th>\n",
       "      <td>1</td>\n",
       "      <td>29</td>\n",
       "    </tr>\n",
       "    <tr>\n",
       "      <th>2</th>\n",
       "      <td>2</td>\n",
       "      <td>31</td>\n",
       "    </tr>\n",
       "    <tr>\n",
       "      <th>3</th>\n",
       "      <td>3</td>\n",
       "      <td>69</td>\n",
       "    </tr>\n",
       "    <tr>\n",
       "      <th>4</th>\n",
       "      <td>4</td>\n",
       "      <td>47</td>\n",
       "    </tr>\n",
       "    <tr>\n",
       "      <th>5</th>\n",
       "      <td>5</td>\n",
       "      <td>34</td>\n",
       "    </tr>\n",
       "    <tr>\n",
       "      <th>6</th>\n",
       "      <td>6</td>\n",
       "      <td>24</td>\n",
       "    </tr>\n",
       "    <tr>\n",
       "      <th>7</th>\n",
       "      <td>7</td>\n",
       "      <td>7</td>\n",
       "    </tr>\n",
       "    <tr>\n",
       "      <th>8</th>\n",
       "      <td>8</td>\n",
       "      <td>4</td>\n",
       "    </tr>\n",
       "    <tr>\n",
       "      <th>9</th>\n",
       "      <td>9</td>\n",
       "      <td>2</td>\n",
       "    </tr>\n",
       "    <tr>\n",
       "      <th>10</th>\n",
       "      <td>10</td>\n",
       "      <td>1</td>\n",
       "    </tr>\n",
       "    <tr>\n",
       "      <th>11</th>\n",
       "      <td>11</td>\n",
       "      <td>1</td>\n",
       "    </tr>\n",
       "  </tbody>\n",
       "</table>\n",
       "</div>"
      ],
      "text/plain": [
       "    years_employed  ppl\n",
       "0                0   24\n",
       "1                1   29\n",
       "2                2   31\n",
       "3                3   69\n",
       "4                4   47\n",
       "5                5   34\n",
       "6                6   24\n",
       "7                7    7\n",
       "8                8    4\n",
       "9                9    2\n",
       "10              10    1\n",
       "11              11    1"
      ]
     },
     "execution_count": 33,
     "metadata": {},
     "output_type": "execute_result"
    }
   ],
   "source": [
    "years_count"
   ]
  },
  {
   "cell_type": "code",
   "execution_count": 34,
   "metadata": {},
   "outputs": [],
   "source": [
    "ps_years = pd.merge(ps_years, years_count)"
   ]
  },
  {
   "cell_type": "code",
   "execution_count": 35,
   "metadata": {},
   "outputs": [],
   "source": [
    "ps_years['percent'] = ps_years['count']*100./ps_years['ppl']"
   ]
  },
  {
   "cell_type": "code",
   "execution_count": 36,
   "metadata": {},
   "outputs": [],
   "source": [
    "ps_years.sort_values(['years_employed', 'perf_scoreid'], inplace = True)"
   ]
  },
  {
   "cell_type": "code",
   "execution_count": 37,
   "metadata": {
    "scrolled": true
   },
   "outputs": [
    {
     "data": {
      "image/png": "[encoded data removed]",
      "text/plain": [
       "<Figure size 432x288 with 1 Axes>"
      ]
     },
     "metadata": {
      "needs_background": "light"
     },
     "output_type": "display_data"
    },
    {
     "data": {
      "image/png": "[encoded data removed]",
      "text/plain": [
       "<Figure size 432x288 with 1 Axes>"
      ]
     },
     "metadata": {
      "needs_background": "light"
     },
     "output_type": "display_data"
    },
    {
     "data": {
      "image/png": "[encoded data removed]",
      "text/plain": [
       "<Figure size 432x288 with 1 Axes>"
      ]
     },
     "metadata": {
      "needs_background": "light"
     },
     "output_type": "display_data"
    },
    {
     "data": {
      "image/png": "[encoded data removed]",
      "text/plain": [
       "<Figure size 432x288 with 1 Axes>"
      ]
     },
     "metadata": {
      "needs_background": "light"
     },
     "output_type": "display_data"
    },
    {
     "data": {
      "image/png": "[encoded data removed]",
      "text/plain": [
       "<Figure size 432x288 with 1 Axes>"
      ]
     },
     "metadata": {
      "needs_background": "light"
     },
     "output_type": "display_data"
    },
    {
     "data": {
      "image/png": "[encoded data removed]",
      "text/plain": [
       "<Figure size 432x288 with 1 Axes>"
      ]
     },
     "metadata": {
      "needs_background": "light"
     },
     "output_type": "display_data"
    },
    {
     "data": {
      "image/png": "[encoded data removed]",
      "text/plain": [
       "<Figure size 432x288 with 1 Axes>"
      ]
     },
     "metadata": {
      "needs_background": "light"
     },
     "output_type": "display_data"
    },
    {
     "data": {
      "image/png": "[encoded data removed]",
      "text/plain": [
       "<Figure size 432x288 with 1 Axes>"
      ]
     },
     "metadata": {
      "needs_background": "light"
     },
     "output_type": "display_data"
    },
    {
     "data": {
      "image/png": "[encoded data removed]",
      "text/plain": [
       "<Figure size 432x288 with 1 Axes>"
      ]
     },
     "metadata": {
      "needs_background": "light"
     },
     "output_type": "display_data"
    },
    {
     "data": {
      "image/png": "[encoded data removed]",
      "text/plain": [
       "<Figure size 432x288 with 1 Axes>"
      ]
     },
     "metadata": {
      "needs_background": "light"
     },
     "output_type": "display_data"
    },
    {
     "data": {
      "image/png": "[encoded data removed]",
      "text/plain": [
       "<Figure size 432x288 with 1 Axes>"
      ]
     },
     "metadata": {
      "needs_background": "light"
     },
     "output_type": "display_data"
    },
    {
     "data": {
      "image/png": "[encoded data removed]",
      "text/plain": [
       "<Figure size 432x288 with 1 Axes>"
      ]
     },
     "metadata": {
      "needs_background": "light"
     },
     "output_type": "display_data"
    }
   ],
   "source": [
    "for i in range(12):\n",
    "    fig, subplot = plt.subplots()\n",
    "    df = ps_years[ps_years.years_employed == i]\n",
    "    subplot.barh(list(map(str, df.perf_scoreid)), df.percent)\n",
    "    subplot.set_title(f\"{i} year\")\n",
    "    plt.show()"
   ]
  },
  {
   "cell_type": "markdown",
   "metadata": {},
   "source": [
    "#### Вывод"
   ]
  },
  {
   "cell_type": "markdown",
   "metadata": {},
   "source": [
    "Гистограммы сверху сделаны для того, чтобы по годам отследить динамику изменений производительности. Из нее исходит, что на начальном до певого года сотрудники работают усердно. После первого года появляются неуспевающие, части которых приходится вновь проходить 90-дневный испытательный срок, после чего видим пик неуспевающих после 2-х лет работы: много людей вновь проходят испытательный срок (около 36%). После третьего года неуспевающих вместе с испытательным сроком становится меньше (~20%); после 4-го года их меньше 10%, затем их процент поднимается на пару лет и они исчезают, поскольку больше 7 лет работает крайне мало людей и все продуктивно.\n",
    "Что касается успешных сотрудников, то их уровень поддерживается на более-менее стабильном и высоком уровне. Небольшой спад наблюдается после второго года, но после третьего производительность начинает подниматься, к 6 году достигает более 80% успешных сотрудников, ну а потом сотрудников меньше, а процент производительности колеблется около 70%. "
   ]
  },
  {
   "cell_type": "markdown",
   "metadata": {},
   "source": [
    "На динамику производительности относительно отработанного времени очень трудно влиять, потому что эту характеристику произвольно корректировать нельзя. Однако выше установленная динамика помогает понять, на каких этапах работы стоит усилить контроль над сотрудниками или принять поощрительные меры. В данном случае мы выяснили, что после второго года работы больше всего сотрудников претерпевают неудачи, следовательно, именно в этом случае следует обратить внимание на \"рейтинг\" сотрудников и постараться предотвратить кризис раньше его возникновения (тренинги, отпускные, перераспределение рабочей нагрузки и т.д.)."
   ]
  },
  {
   "cell_type": "markdown",
   "metadata": {},
   "source": [
    "### 1.1.2 Зависимость от руководителя"
   ]
  },
  {
   "cell_type": "markdown",
   "metadata": {},
   "source": [
    "Попытаемся теперь посмотреть на производительность рабочих под руководством каждого менеджера."
   ]
  },
  {
   "cell_type": "code",
   "execution_count": 38,
   "metadata": {},
   "outputs": [],
   "source": [
    "sql_str = '''SELECT \"Manager Name\" as manager,perf_scoreid, COUNT(*)\n",
    "FROM hr_dataset\n",
    "WHERE perf_scoreid < 9\n",
    "GROUP BY 1,2\n",
    "ORDER BY 1,2;'''\n",
    "ps_manager = pd.read_sql_query(sql_str, conn)"
   ]
  },
  {
   "cell_type": "code",
   "execution_count": 39,
   "metadata": {},
   "outputs": [
    {
     "data": {
      "text/html": [
       "<div>\n",
       "<style scoped>\n",
       "    .dataframe tbody tr th:only-of-type {\n",
       "        vertical-align: middle;\n",
       "    }\n",
       "\n",
       "    .dataframe tbody tr th {\n",
       "        vertical-align: top;\n",
       "    }\n",
       "\n",
       "    .dataframe thead th {\n",
       "        text-align: right;\n",
       "    }\n",
       "</style>\n",
       "<table border=\"1\" class=\"dataframe\">\n",
       "  <thead>\n",
       "    <tr style=\"text-align: right;\">\n",
       "      <th></th>\n",
       "      <th>Manager Name</th>\n",
       "    </tr>\n",
       "  </thead>\n",
       "  <tbody>\n",
       "    <tr>\n",
       "      <th>0</th>\n",
       "      <td>Alex Sweetwater</td>\n",
       "    </tr>\n",
       "    <tr>\n",
       "      <th>1</th>\n",
       "      <td>Amy Dunn</td>\n",
       "    </tr>\n",
       "    <tr>\n",
       "      <th>2</th>\n",
       "      <td>Board of Directors</td>\n",
       "    </tr>\n",
       "    <tr>\n",
       "      <th>3</th>\n",
       "      <td>Brandon R. LeBlanc</td>\n",
       "    </tr>\n",
       "    <tr>\n",
       "      <th>4</th>\n",
       "      <td>Brannon Miller</td>\n",
       "    </tr>\n",
       "  </tbody>\n",
       "</table>\n",
       "</div>"
      ],
      "text/plain": [
       "         Manager Name\n",
       "0     Alex Sweetwater\n",
       "1            Amy Dunn\n",
       "2  Board of Directors\n",
       "3  Brandon R. LeBlanc\n",
       "4      Brannon Miller"
      ]
     },
     "execution_count": 39,
     "metadata": {},
     "output_type": "execute_result"
    }
   ],
   "source": [
    "managers.head()"
   ]
  },
  {
   "cell_type": "code",
   "execution_count": 40,
   "metadata": {},
   "outputs": [
    {
     "name": "stderr",
     "output_type": "stream",
     "text": [
      "C:\\Games\\lib\\site-packages\\matplotlib\\pyplot.py:514: RuntimeWarning: More than 20 figures have been opened. Figures created through the pyplot interface (`matplotlib.pyplot.figure`) are retained until explicitly closed and may consume too much memory. (To control this warning, see the rcParam `figure.max_open_warning`).\n",
      "  max_open_warning, RuntimeWarning)\n"
     ]
    },
    {
     "data": {
      "image/png": "[encoded data removed]",
      "text/plain": [
       "<Figure size 432x288 with 1 Axes>"
      ]
     },
     "metadata": {
      "needs_background": "light"
     },
     "output_type": "display_data"
    },
    {
     "data": {
      "image/png": "[encoded data removed]",
      "text/plain": [
       "<Figure size 432x288 with 1 Axes>"
      ]
     },
     "metadata": {
      "needs_background": "light"
     },
     "output_type": "display_data"
    },
    {
     "data": {
      "image/png": "[encoded data removed]",
      "text/plain": [
       "<Figure size 432x288 with 1 Axes>"
      ]
     },
     "metadata": {
      "needs_background": "light"
     },
     "output_type": "display_data"
    },
    {
     "data": {
      "image/png": "[encoded data removed]",
      "text/plain": [
       "<Figure size 432x288 with 1 Axes>"
      ]
     },
     "metadata": {
      "needs_background": "light"
     },
     "output_type": "display_data"
    },
    {
     "data": {
      "image/png": "[encoded data removed]",
      "text/plain": [
       "<Figure size 432x288 with 1 Axes>"
      ]
     },
     "metadata": {
      "needs_background": "light"
     },
     "output_type": "display_data"
    },
    {
     "data": {
      "image/png": "[encoded data removed]",
      "text/plain": [
       "<Figure size 432x288 with 1 Axes>"
      ]
     },
     "metadata": {
      "needs_background": "light"
     },
     "output_type": "display_data"
    },
    {
     "data": {
      "image/png": "[encoded data removed]",
      "text/plain": [
       "<Figure size 432x288 with 1 Axes>"
      ]
     },
     "metadata": {
      "needs_background": "light"
     },
     "output_type": "display_data"
    },
    {
     "data": {
      "image/png": "[encoded data removed]",
      "text/plain": [
       "<Figure size 432x288 with 1 Axes>"
      ]
     },
     "metadata": {
      "needs_background": "light"
     },
     "output_type": "display_data"
    },
    {
     "data": {
      "image/png": "[encoded data removed]",
      "text/plain": [
       "<Figure size 432x288 with 1 Axes>"
      ]
     },
     "metadata": {
      "needs_background": "light"
     },
     "output_type": "display_data"
    },
    {
     "data": {
      "image/png": "[encoded data removed]",
      "text/plain": [
       "<Figure size 432x288 with 1 Axes>"
      ]
     },
     "metadata": {
      "needs_background": "light"
     },
     "output_type": "display_data"
    },
    {
     "data": {
      "image/png": "[encoded data removed]",
      "text/plain": [
       "<Figure size 432x288 with 1 Axes>"
      ]
     },
     "metadata": {
      "needs_background": "light"
     },
     "output_type": "display_data"
    },
    {
     "data": {
      "image/png": "[encoded data removed]",
      "text/plain": [
       "<Figure size 432x288 with 1 Axes>"
      ]
     },
     "metadata": {
      "needs_background": "light"
     },
     "output_type": "display_data"
    },
    {
     "data": {
      "image/png": "[encoded data removed]",
      "text/plain": [
       "<Figure size 432x288 with 1 Axes>"
      ]
     },
     "metadata": {
      "needs_background": "light"
     },
     "output_type": "display_data"
    },
    {
     "data": {
      "image/png": "[encoded data removed]",
      "text/plain": [
       "<Figure size 432x288 with 1 Axes>"
      ]
     },
     "metadata": {
      "needs_background": "light"
     },
     "output_type": "display_data"
    },
    {
     "data": {
      "image/png": "[encoded data removed]",
      "text/plain": [
       "<Figure size 432x288 with 1 Axes>"
      ]
     },
     "metadata": {
      "needs_background": "light"
     },
     "output_type": "display_data"
    },
    {
     "data": {
      "image/png": "[encoded data removed]",
      "text/plain": [
       "<Figure size 432x288 with 1 Axes>"
      ]
     },
     "metadata": {
      "needs_background": "light"
     },
     "output_type": "display_data"
    },
    {
     "data": {
      "image/png": "[encoded data removed]",
      "text/plain": [
       "<Figure size 432x288 with 1 Axes>"
      ]
     },
     "metadata": {
      "needs_background": "light"
     },
     "output_type": "display_data"
    },
    {
     "data": {
      "image/png": "[encoded data removed]",
      "text/plain": [
       "<Figure size 432x288 with 1 Axes>"
      ]
     },
     "metadata": {
      "needs_background": "light"
     },
     "output_type": "display_data"
    },
    {
     "data": {
      "image/png": "[encoded data removed]",
      "text/plain": [
       "<Figure size 432x288 with 1 Axes>"
      ]
     },
     "metadata": {
      "needs_background": "light"
     },
     "output_type": "display_data"
    },
    {
     "data": {
      "image/png": "[encoded data removed]",
      "text/plain": [
       "<Figure size 432x288 with 1 Axes>"
      ]
     },
     "metadata": {
      "needs_background": "light"
     },
     "output_type": "display_data"
    },
    {
     "data": {
      "image/png": "[encoded data removed]",
      "text/plain": [
       "<Figure size 432x288 with 1 Axes>"
      ]
     },
     "metadata": {
      "needs_background": "light"
     },
     "output_type": "display_data"
    }
   ],
   "source": [
    "for i in managers[\"Manager Name\"]:\n",
    "    fig, subplot = plt.subplots()\n",
    "    df = ps_manager[ps_manager.manager == i]\n",
    "    subplot.barh(list(map(str, df.perf_scoreid)), df['count'])\n",
    "    subplot.set_title(f\"{i}\")\n",
    "    plt.savefig(f\"Managers_Pics/{i}.png\")"
   ]
  },
  {
   "cell_type": "markdown",
   "metadata": {},
   "source": [
    "Выясним, какими отделами и представителями каких должностей руководит каждый менеджер."
   ]
  },
  {
   "cell_type": "code",
   "execution_count": 41,
   "metadata": {},
   "outputs": [],
   "source": [
    "sql_str = '''SELECT DISTINCT \"Manager Name\" as manager, department, position\n",
    "FROM hr_dataset\n",
    "WHERE perf_scoreid < 9\n",
    "ORDER BY 1,2,3;'''\n",
    "manager_qual = pd.read_sql_query(sql_str, conn)"
   ]
  },
  {
   "cell_type": "code",
   "execution_count": 42,
   "metadata": {},
   "outputs": [
    {
     "data": {
      "text/html": [
       "<div>\n",
       "<style scoped>\n",
       "    .dataframe tbody tr th:only-of-type {\n",
       "        vertical-align: middle;\n",
       "    }\n",
       "\n",
       "    .dataframe tbody tr th {\n",
       "        vertical-align: top;\n",
       "    }\n",
       "\n",
       "    .dataframe thead th {\n",
       "        text-align: right;\n",
       "    }\n",
       "</style>\n",
       "<table border=\"1\" class=\"dataframe\">\n",
       "  <thead>\n",
       "    <tr style=\"text-align: right;\">\n",
       "      <th></th>\n",
       "      <th>manager</th>\n",
       "      <th>department</th>\n",
       "      <th>position</th>\n",
       "    </tr>\n",
       "  </thead>\n",
       "  <tbody>\n",
       "    <tr>\n",
       "      <th>0</th>\n",
       "      <td>Alex Sweetwater</td>\n",
       "      <td>Software Engineering</td>\n",
       "      <td>Software Engineer</td>\n",
       "    </tr>\n",
       "    <tr>\n",
       "      <th>1</th>\n",
       "      <td>Amy Dunn</td>\n",
       "      <td>Production</td>\n",
       "      <td>Production Technician I</td>\n",
       "    </tr>\n",
       "    <tr>\n",
       "      <th>2</th>\n",
       "      <td>Amy Dunn</td>\n",
       "      <td>Production</td>\n",
       "      <td>Production Technician II</td>\n",
       "    </tr>\n",
       "    <tr>\n",
       "      <th>3</th>\n",
       "      <td>Board of Directors</td>\n",
       "      <td>Admin Offices</td>\n",
       "      <td>Sr. Accountant</td>\n",
       "    </tr>\n",
       "    <tr>\n",
       "      <th>4</th>\n",
       "      <td>Board of Directors</td>\n",
       "      <td>Executive Office</td>\n",
       "      <td>President &amp; CEO</td>\n",
       "    </tr>\n",
       "    <tr>\n",
       "      <th>5</th>\n",
       "      <td>Brandon R. LeBlanc</td>\n",
       "      <td>Admin Offices</td>\n",
       "      <td>Accountant I</td>\n",
       "    </tr>\n",
       "    <tr>\n",
       "      <th>6</th>\n",
       "      <td>Brandon R. LeBlanc</td>\n",
       "      <td>Admin Offices</td>\n",
       "      <td>Administrative Assistant</td>\n",
       "    </tr>\n",
       "    <tr>\n",
       "      <th>7</th>\n",
       "      <td>Brandon R. LeBlanc</td>\n",
       "      <td>Admin Offices</td>\n",
       "      <td>Sr. Accountant</td>\n",
       "    </tr>\n",
       "    <tr>\n",
       "      <th>8</th>\n",
       "      <td>Brannon Miller</td>\n",
       "      <td>Production</td>\n",
       "      <td>Production Technician I</td>\n",
       "    </tr>\n",
       "    <tr>\n",
       "      <th>9</th>\n",
       "      <td>Brannon Miller</td>\n",
       "      <td>Production</td>\n",
       "      <td>Production Technician II</td>\n",
       "    </tr>\n",
       "    <tr>\n",
       "      <th>10</th>\n",
       "      <td>Brian Champaigne</td>\n",
       "      <td>IT/IS</td>\n",
       "      <td>BI Developer</td>\n",
       "    </tr>\n",
       "    <tr>\n",
       "      <th>11</th>\n",
       "      <td>Brian Champaigne</td>\n",
       "      <td>IT/IS</td>\n",
       "      <td>Data Architect</td>\n",
       "    </tr>\n",
       "    <tr>\n",
       "      <th>12</th>\n",
       "      <td>Brian Champaigne</td>\n",
       "      <td>IT/IS</td>\n",
       "      <td>Senior BI Developer</td>\n",
       "    </tr>\n",
       "    <tr>\n",
       "      <th>13</th>\n",
       "      <td>David Stanley</td>\n",
       "      <td>Production</td>\n",
       "      <td>Production Technician I</td>\n",
       "    </tr>\n",
       "    <tr>\n",
       "      <th>14</th>\n",
       "      <td>David Stanley</td>\n",
       "      <td>Production</td>\n",
       "      <td>Production Technician II</td>\n",
       "    </tr>\n",
       "    <tr>\n",
       "      <th>15</th>\n",
       "      <td>Debra Houlihan</td>\n",
       "      <td>Sales</td>\n",
       "      <td>Sales Manager</td>\n",
       "    </tr>\n",
       "    <tr>\n",
       "      <th>16</th>\n",
       "      <td>Elijiah Gray</td>\n",
       "      <td>Production</td>\n",
       "      <td>Production Technician I</td>\n",
       "    </tr>\n",
       "    <tr>\n",
       "      <th>17</th>\n",
       "      <td>Elijiah Gray</td>\n",
       "      <td>Production</td>\n",
       "      <td>Production Technician II</td>\n",
       "    </tr>\n",
       "    <tr>\n",
       "      <th>18</th>\n",
       "      <td>Eric Dougall</td>\n",
       "      <td>IT/IS</td>\n",
       "      <td>IT Support</td>\n",
       "    </tr>\n",
       "    <tr>\n",
       "      <th>19</th>\n",
       "      <td>Janet King</td>\n",
       "      <td>Admin Offices</td>\n",
       "      <td>Shared Services Manager</td>\n",
       "    </tr>\n",
       "    <tr>\n",
       "      <th>20</th>\n",
       "      <td>Janet King</td>\n",
       "      <td>IT/IS</td>\n",
       "      <td>CIO</td>\n",
       "    </tr>\n",
       "    <tr>\n",
       "      <th>21</th>\n",
       "      <td>Janet King</td>\n",
       "      <td>Production</td>\n",
       "      <td>Director of Operations</td>\n",
       "    </tr>\n",
       "    <tr>\n",
       "      <th>22</th>\n",
       "      <td>Janet King</td>\n",
       "      <td>Production</td>\n",
       "      <td>Production Manager</td>\n",
       "    </tr>\n",
       "    <tr>\n",
       "      <th>23</th>\n",
       "      <td>Janet King</td>\n",
       "      <td>Sales</td>\n",
       "      <td>Director of Sales</td>\n",
       "    </tr>\n",
       "    <tr>\n",
       "      <th>24</th>\n",
       "      <td>Jennifer Zamora</td>\n",
       "      <td>IT/IS</td>\n",
       "      <td>BI Director</td>\n",
       "    </tr>\n",
       "    <tr>\n",
       "      <th>25</th>\n",
       "      <td>Jennifer Zamora</td>\n",
       "      <td>IT/IS</td>\n",
       "      <td>IT Director</td>\n",
       "    </tr>\n",
       "    <tr>\n",
       "      <th>26</th>\n",
       "      <td>Jennifer Zamora</td>\n",
       "      <td>IT/IS</td>\n",
       "      <td>IT Manager - DB</td>\n",
       "    </tr>\n",
       "    <tr>\n",
       "      <th>27</th>\n",
       "      <td>Jennifer Zamora</td>\n",
       "      <td>IT/IS</td>\n",
       "      <td>IT Manager - Infra</td>\n",
       "    </tr>\n",
       "    <tr>\n",
       "      <th>28</th>\n",
       "      <td>Jennifer Zamora</td>\n",
       "      <td>IT/IS</td>\n",
       "      <td>IT Manager - Support</td>\n",
       "    </tr>\n",
       "    <tr>\n",
       "      <th>29</th>\n",
       "      <td>Jennifer Zamora</td>\n",
       "      <td>Software Engineering</td>\n",
       "      <td>Software Engineering Manager</td>\n",
       "    </tr>\n",
       "    <tr>\n",
       "      <th>30</th>\n",
       "      <td>John Smith</td>\n",
       "      <td>Sales</td>\n",
       "      <td>Area Sales Manager</td>\n",
       "    </tr>\n",
       "    <tr>\n",
       "      <th>31</th>\n",
       "      <td>Kelley Spirea</td>\n",
       "      <td>Production</td>\n",
       "      <td>Production Technician I</td>\n",
       "    </tr>\n",
       "    <tr>\n",
       "      <th>32</th>\n",
       "      <td>Kelley Spirea</td>\n",
       "      <td>Production</td>\n",
       "      <td>Production Technician II</td>\n",
       "    </tr>\n",
       "    <tr>\n",
       "      <th>33</th>\n",
       "      <td>Ketsia Liebig</td>\n",
       "      <td>Production</td>\n",
       "      <td>Production Technician I</td>\n",
       "    </tr>\n",
       "    <tr>\n",
       "      <th>34</th>\n",
       "      <td>Ketsia Liebig</td>\n",
       "      <td>Production</td>\n",
       "      <td>Production Technician II</td>\n",
       "    </tr>\n",
       "    <tr>\n",
       "      <th>35</th>\n",
       "      <td>Kissy Sullivan</td>\n",
       "      <td>Production</td>\n",
       "      <td>Production Technician I</td>\n",
       "    </tr>\n",
       "    <tr>\n",
       "      <th>36</th>\n",
       "      <td>Kissy Sullivan</td>\n",
       "      <td>Production</td>\n",
       "      <td>Production Technician II</td>\n",
       "    </tr>\n",
       "    <tr>\n",
       "      <th>37</th>\n",
       "      <td>Lynn Daneault</td>\n",
       "      <td>Sales</td>\n",
       "      <td>Area Sales Manager</td>\n",
       "    </tr>\n",
       "    <tr>\n",
       "      <th>38</th>\n",
       "      <td>Michael Albert</td>\n",
       "      <td>Production</td>\n",
       "      <td>Production Technician I</td>\n",
       "    </tr>\n",
       "    <tr>\n",
       "      <th>39</th>\n",
       "      <td>Michael Albert</td>\n",
       "      <td>Production</td>\n",
       "      <td>Production Technician II</td>\n",
       "    </tr>\n",
       "    <tr>\n",
       "      <th>40</th>\n",
       "      <td>Peter Monroe</td>\n",
       "      <td>IT/IS</td>\n",
       "      <td>Network Engineer</td>\n",
       "    </tr>\n",
       "    <tr>\n",
       "      <th>41</th>\n",
       "      <td>Peter Monroe</td>\n",
       "      <td>IT/IS</td>\n",
       "      <td>Sr. Network Engineer</td>\n",
       "    </tr>\n",
       "    <tr>\n",
       "      <th>42</th>\n",
       "      <td>Simon Roup</td>\n",
       "      <td>IT/IS</td>\n",
       "      <td>Database Administrator</td>\n",
       "    </tr>\n",
       "    <tr>\n",
       "      <th>43</th>\n",
       "      <td>Simon Roup</td>\n",
       "      <td>IT/IS</td>\n",
       "      <td>Sr. DBA</td>\n",
       "    </tr>\n",
       "    <tr>\n",
       "      <th>44</th>\n",
       "      <td>Webster Butler</td>\n",
       "      <td>Production</td>\n",
       "      <td>Production Technician I</td>\n",
       "    </tr>\n",
       "    <tr>\n",
       "      <th>45</th>\n",
       "      <td>Webster Butler</td>\n",
       "      <td>Production</td>\n",
       "      <td>Production Technician II</td>\n",
       "    </tr>\n",
       "  </tbody>\n",
       "</table>\n",
       "</div>"
      ],
      "text/plain": [
       "               manager            department                      position\n",
       "0      Alex Sweetwater  Software Engineering             Software Engineer\n",
       "1             Amy Dunn     Production              Production Technician I\n",
       "2             Amy Dunn     Production             Production Technician II\n",
       "3   Board of Directors         Admin Offices                Sr. Accountant\n",
       "4   Board of Directors      Executive Office               President & CEO\n",
       "5   Brandon R. LeBlanc         Admin Offices                  Accountant I\n",
       "6   Brandon R. LeBlanc         Admin Offices      Administrative Assistant\n",
       "7   Brandon R. LeBlanc         Admin Offices                Sr. Accountant\n",
       "8       Brannon Miller     Production              Production Technician I\n",
       "9       Brannon Miller     Production             Production Technician II\n",
       "10    Brian Champaigne                 IT/IS                  BI Developer\n",
       "11    Brian Champaigne                 IT/IS                Data Architect\n",
       "12    Brian Champaigne                 IT/IS           Senior BI Developer\n",
       "13       David Stanley     Production              Production Technician I\n",
       "14       David Stanley     Production             Production Technician II\n",
       "15      Debra Houlihan                 Sales                 Sales Manager\n",
       "16        Elijiah Gray     Production              Production Technician I\n",
       "17        Elijiah Gray     Production             Production Technician II\n",
       "18        Eric Dougall                 IT/IS                    IT Support\n",
       "19          Janet King         Admin Offices       Shared Services Manager\n",
       "20          Janet King                 IT/IS                           CIO\n",
       "21          Janet King     Production               Director of Operations\n",
       "22          Janet King     Production                   Production Manager\n",
       "23          Janet King                 Sales             Director of Sales\n",
       "24     Jennifer Zamora                 IT/IS                   BI Director\n",
       "25     Jennifer Zamora                 IT/IS                   IT Director\n",
       "26     Jennifer Zamora                 IT/IS               IT Manager - DB\n",
       "27     Jennifer Zamora                 IT/IS            IT Manager - Infra\n",
       "28     Jennifer Zamora                 IT/IS          IT Manager - Support\n",
       "29     Jennifer Zamora  Software Engineering  Software Engineering Manager\n",
       "30          John Smith                 Sales            Area Sales Manager\n",
       "31       Kelley Spirea     Production              Production Technician I\n",
       "32       Kelley Spirea     Production             Production Technician II\n",
       "33       Ketsia Liebig     Production              Production Technician I\n",
       "34       Ketsia Liebig     Production             Production Technician II\n",
       "35      Kissy Sullivan     Production              Production Technician I\n",
       "36      Kissy Sullivan     Production             Production Technician II\n",
       "37       Lynn Daneault                 Sales            Area Sales Manager\n",
       "38      Michael Albert     Production              Production Technician I\n",
       "39      Michael Albert     Production             Production Technician II\n",
       "40        Peter Monroe                 IT/IS              Network Engineer\n",
       "41        Peter Monroe                 IT/IS          Sr. Network Engineer\n",
       "42          Simon Roup                 IT/IS        Database Administrator\n",
       "43          Simon Roup                 IT/IS                       Sr. DBA\n",
       "44      Webster Butler     Production              Production Technician I\n",
       "45      Webster Butler     Production             Production Technician II"
      ]
     },
     "execution_count": 42,
     "metadata": {},
     "output_type": "execute_result"
    }
   ],
   "source": [
    "manager_qual"
   ]
  },
  {
   "cell_type": "code",
   "execution_count": 43,
   "metadata": {},
   "outputs": [],
   "source": [
    "sql_str = '''SELECT DISTINCT \"Manager Name\" as manager, department, position\n",
    "FROM hr_dataset\n",
    "WHERE perf_scoreid < 9\n",
    "ORDER BY 3,2,1;'''\n",
    "manager_qual2 = pd.read_sql_query(sql_str, conn)"
   ]
  },
  {
   "cell_type": "code",
   "execution_count": 44,
   "metadata": {},
   "outputs": [
    {
     "data": {
      "text/html": [
       "<div>\n",
       "<style scoped>\n",
       "    .dataframe tbody tr th:only-of-type {\n",
       "        vertical-align: middle;\n",
       "    }\n",
       "\n",
       "    .dataframe tbody tr th {\n",
       "        vertical-align: top;\n",
       "    }\n",
       "\n",
       "    .dataframe thead th {\n",
       "        text-align: right;\n",
       "    }\n",
       "</style>\n",
       "<table border=\"1\" class=\"dataframe\">\n",
       "  <thead>\n",
       "    <tr style=\"text-align: right;\">\n",
       "      <th></th>\n",
       "      <th>manager</th>\n",
       "      <th>department</th>\n",
       "      <th>position</th>\n",
       "    </tr>\n",
       "  </thead>\n",
       "  <tbody>\n",
       "    <tr>\n",
       "      <th>0</th>\n",
       "      <td>Brandon R. LeBlanc</td>\n",
       "      <td>Admin Offices</td>\n",
       "      <td>Accountant I</td>\n",
       "    </tr>\n",
       "    <tr>\n",
       "      <th>1</th>\n",
       "      <td>Brandon R. LeBlanc</td>\n",
       "      <td>Admin Offices</td>\n",
       "      <td>Administrative Assistant</td>\n",
       "    </tr>\n",
       "    <tr>\n",
       "      <th>2</th>\n",
       "      <td>John Smith</td>\n",
       "      <td>Sales</td>\n",
       "      <td>Area Sales Manager</td>\n",
       "    </tr>\n",
       "    <tr>\n",
       "      <th>3</th>\n",
       "      <td>Lynn Daneault</td>\n",
       "      <td>Sales</td>\n",
       "      <td>Area Sales Manager</td>\n",
       "    </tr>\n",
       "    <tr>\n",
       "      <th>4</th>\n",
       "      <td>Brian Champaigne</td>\n",
       "      <td>IT/IS</td>\n",
       "      <td>BI Developer</td>\n",
       "    </tr>\n",
       "    <tr>\n",
       "      <th>5</th>\n",
       "      <td>Jennifer Zamora</td>\n",
       "      <td>IT/IS</td>\n",
       "      <td>BI Director</td>\n",
       "    </tr>\n",
       "    <tr>\n",
       "      <th>6</th>\n",
       "      <td>Janet King</td>\n",
       "      <td>IT/IS</td>\n",
       "      <td>CIO</td>\n",
       "    </tr>\n",
       "    <tr>\n",
       "      <th>7</th>\n",
       "      <td>Brian Champaigne</td>\n",
       "      <td>IT/IS</td>\n",
       "      <td>Data Architect</td>\n",
       "    </tr>\n",
       "    <tr>\n",
       "      <th>8</th>\n",
       "      <td>Simon Roup</td>\n",
       "      <td>IT/IS</td>\n",
       "      <td>Database Administrator</td>\n",
       "    </tr>\n",
       "    <tr>\n",
       "      <th>9</th>\n",
       "      <td>Janet King</td>\n",
       "      <td>Production</td>\n",
       "      <td>Director of Operations</td>\n",
       "    </tr>\n",
       "    <tr>\n",
       "      <th>10</th>\n",
       "      <td>Janet King</td>\n",
       "      <td>Sales</td>\n",
       "      <td>Director of Sales</td>\n",
       "    </tr>\n",
       "    <tr>\n",
       "      <th>11</th>\n",
       "      <td>Jennifer Zamora</td>\n",
       "      <td>IT/IS</td>\n",
       "      <td>IT Director</td>\n",
       "    </tr>\n",
       "    <tr>\n",
       "      <th>12</th>\n",
       "      <td>Jennifer Zamora</td>\n",
       "      <td>IT/IS</td>\n",
       "      <td>IT Manager - DB</td>\n",
       "    </tr>\n",
       "    <tr>\n",
       "      <th>13</th>\n",
       "      <td>Jennifer Zamora</td>\n",
       "      <td>IT/IS</td>\n",
       "      <td>IT Manager - Infra</td>\n",
       "    </tr>\n",
       "    <tr>\n",
       "      <th>14</th>\n",
       "      <td>Jennifer Zamora</td>\n",
       "      <td>IT/IS</td>\n",
       "      <td>IT Manager - Support</td>\n",
       "    </tr>\n",
       "    <tr>\n",
       "      <th>15</th>\n",
       "      <td>Eric Dougall</td>\n",
       "      <td>IT/IS</td>\n",
       "      <td>IT Support</td>\n",
       "    </tr>\n",
       "    <tr>\n",
       "      <th>16</th>\n",
       "      <td>Peter Monroe</td>\n",
       "      <td>IT/IS</td>\n",
       "      <td>Network Engineer</td>\n",
       "    </tr>\n",
       "    <tr>\n",
       "      <th>17</th>\n",
       "      <td>Board of Directors</td>\n",
       "      <td>Executive Office</td>\n",
       "      <td>President &amp; CEO</td>\n",
       "    </tr>\n",
       "    <tr>\n",
       "      <th>18</th>\n",
       "      <td>Janet King</td>\n",
       "      <td>Production</td>\n",
       "      <td>Production Manager</td>\n",
       "    </tr>\n",
       "    <tr>\n",
       "      <th>19</th>\n",
       "      <td>Amy Dunn</td>\n",
       "      <td>Production</td>\n",
       "      <td>Production Technician I</td>\n",
       "    </tr>\n",
       "    <tr>\n",
       "      <th>20</th>\n",
       "      <td>Brannon Miller</td>\n",
       "      <td>Production</td>\n",
       "      <td>Production Technician I</td>\n",
       "    </tr>\n",
       "    <tr>\n",
       "      <th>21</th>\n",
       "      <td>David Stanley</td>\n",
       "      <td>Production</td>\n",
       "      <td>Production Technician I</td>\n",
       "    </tr>\n",
       "    <tr>\n",
       "      <th>22</th>\n",
       "      <td>Elijiah Gray</td>\n",
       "      <td>Production</td>\n",
       "      <td>Production Technician I</td>\n",
       "    </tr>\n",
       "    <tr>\n",
       "      <th>23</th>\n",
       "      <td>Kelley Spirea</td>\n",
       "      <td>Production</td>\n",
       "      <td>Production Technician I</td>\n",
       "    </tr>\n",
       "    <tr>\n",
       "      <th>24</th>\n",
       "      <td>Ketsia Liebig</td>\n",
       "      <td>Production</td>\n",
       "      <td>Production Technician I</td>\n",
       "    </tr>\n",
       "    <tr>\n",
       "      <th>25</th>\n",
       "      <td>Kissy Sullivan</td>\n",
       "      <td>Production</td>\n",
       "      <td>Production Technician I</td>\n",
       "    </tr>\n",
       "    <tr>\n",
       "      <th>26</th>\n",
       "      <td>Michael Albert</td>\n",
       "      <td>Production</td>\n",
       "      <td>Production Technician I</td>\n",
       "    </tr>\n",
       "    <tr>\n",
       "      <th>27</th>\n",
       "      <td>Webster Butler</td>\n",
       "      <td>Production</td>\n",
       "      <td>Production Technician I</td>\n",
       "    </tr>\n",
       "    <tr>\n",
       "      <th>28</th>\n",
       "      <td>Amy Dunn</td>\n",
       "      <td>Production</td>\n",
       "      <td>Production Technician II</td>\n",
       "    </tr>\n",
       "    <tr>\n",
       "      <th>29</th>\n",
       "      <td>Brannon Miller</td>\n",
       "      <td>Production</td>\n",
       "      <td>Production Technician II</td>\n",
       "    </tr>\n",
       "    <tr>\n",
       "      <th>30</th>\n",
       "      <td>David Stanley</td>\n",
       "      <td>Production</td>\n",
       "      <td>Production Technician II</td>\n",
       "    </tr>\n",
       "    <tr>\n",
       "      <th>31</th>\n",
       "      <td>Elijiah Gray</td>\n",
       "      <td>Production</td>\n",
       "      <td>Production Technician II</td>\n",
       "    </tr>\n",
       "    <tr>\n",
       "      <th>32</th>\n",
       "      <td>Kelley Spirea</td>\n",
       "      <td>Production</td>\n",
       "      <td>Production Technician II</td>\n",
       "    </tr>\n",
       "    <tr>\n",
       "      <th>33</th>\n",
       "      <td>Ketsia Liebig</td>\n",
       "      <td>Production</td>\n",
       "      <td>Production Technician II</td>\n",
       "    </tr>\n",
       "    <tr>\n",
       "      <th>34</th>\n",
       "      <td>Kissy Sullivan</td>\n",
       "      <td>Production</td>\n",
       "      <td>Production Technician II</td>\n",
       "    </tr>\n",
       "    <tr>\n",
       "      <th>35</th>\n",
       "      <td>Michael Albert</td>\n",
       "      <td>Production</td>\n",
       "      <td>Production Technician II</td>\n",
       "    </tr>\n",
       "    <tr>\n",
       "      <th>36</th>\n",
       "      <td>Webster Butler</td>\n",
       "      <td>Production</td>\n",
       "      <td>Production Technician II</td>\n",
       "    </tr>\n",
       "    <tr>\n",
       "      <th>37</th>\n",
       "      <td>Debra Houlihan</td>\n",
       "      <td>Sales</td>\n",
       "      <td>Sales Manager</td>\n",
       "    </tr>\n",
       "    <tr>\n",
       "      <th>38</th>\n",
       "      <td>Brian Champaigne</td>\n",
       "      <td>IT/IS</td>\n",
       "      <td>Senior BI Developer</td>\n",
       "    </tr>\n",
       "    <tr>\n",
       "      <th>39</th>\n",
       "      <td>Janet King</td>\n",
       "      <td>Admin Offices</td>\n",
       "      <td>Shared Services Manager</td>\n",
       "    </tr>\n",
       "    <tr>\n",
       "      <th>40</th>\n",
       "      <td>Alex Sweetwater</td>\n",
       "      <td>Software Engineering</td>\n",
       "      <td>Software Engineer</td>\n",
       "    </tr>\n",
       "    <tr>\n",
       "      <th>41</th>\n",
       "      <td>Jennifer Zamora</td>\n",
       "      <td>Software Engineering</td>\n",
       "      <td>Software Engineering Manager</td>\n",
       "    </tr>\n",
       "    <tr>\n",
       "      <th>42</th>\n",
       "      <td>Board of Directors</td>\n",
       "      <td>Admin Offices</td>\n",
       "      <td>Sr. Accountant</td>\n",
       "    </tr>\n",
       "    <tr>\n",
       "      <th>43</th>\n",
       "      <td>Brandon R. LeBlanc</td>\n",
       "      <td>Admin Offices</td>\n",
       "      <td>Sr. Accountant</td>\n",
       "    </tr>\n",
       "    <tr>\n",
       "      <th>44</th>\n",
       "      <td>Simon Roup</td>\n",
       "      <td>IT/IS</td>\n",
       "      <td>Sr. DBA</td>\n",
       "    </tr>\n",
       "    <tr>\n",
       "      <th>45</th>\n",
       "      <td>Peter Monroe</td>\n",
       "      <td>IT/IS</td>\n",
       "      <td>Sr. Network Engineer</td>\n",
       "    </tr>\n",
       "  </tbody>\n",
       "</table>\n",
       "</div>"
      ],
      "text/plain": [
       "               manager            department                      position\n",
       "0   Brandon R. LeBlanc         Admin Offices                  Accountant I\n",
       "1   Brandon R. LeBlanc         Admin Offices      Administrative Assistant\n",
       "2           John Smith                 Sales            Area Sales Manager\n",
       "3        Lynn Daneault                 Sales            Area Sales Manager\n",
       "4     Brian Champaigne                 IT/IS                  BI Developer\n",
       "5      Jennifer Zamora                 IT/IS                   BI Director\n",
       "6           Janet King                 IT/IS                           CIO\n",
       "7     Brian Champaigne                 IT/IS                Data Architect\n",
       "8           Simon Roup                 IT/IS        Database Administrator\n",
       "9           Janet King     Production               Director of Operations\n",
       "10          Janet King                 Sales             Director of Sales\n",
       "11     Jennifer Zamora                 IT/IS                   IT Director\n",
       "12     Jennifer Zamora                 IT/IS               IT Manager - DB\n",
       "13     Jennifer Zamora                 IT/IS            IT Manager - Infra\n",
       "14     Jennifer Zamora                 IT/IS          IT Manager - Support\n",
       "15        Eric Dougall                 IT/IS                    IT Support\n",
       "16        Peter Monroe                 IT/IS              Network Engineer\n",
       "17  Board of Directors      Executive Office               President & CEO\n",
       "18          Janet King     Production                   Production Manager\n",
       "19            Amy Dunn     Production              Production Technician I\n",
       "20      Brannon Miller     Production              Production Technician I\n",
       "21       David Stanley     Production              Production Technician I\n",
       "22        Elijiah Gray     Production              Production Technician I\n",
       "23       Kelley Spirea     Production              Production Technician I\n",
       "24       Ketsia Liebig     Production              Production Technician I\n",
       "25      Kissy Sullivan     Production              Production Technician I\n",
       "26      Michael Albert     Production              Production Technician I\n",
       "27      Webster Butler     Production              Production Technician I\n",
       "28            Amy Dunn     Production             Production Technician II\n",
       "29      Brannon Miller     Production             Production Technician II\n",
       "30       David Stanley     Production             Production Technician II\n",
       "31        Elijiah Gray     Production             Production Technician II\n",
       "32       Kelley Spirea     Production             Production Technician II\n",
       "33       Ketsia Liebig     Production             Production Technician II\n",
       "34      Kissy Sullivan     Production             Production Technician II\n",
       "35      Michael Albert     Production             Production Technician II\n",
       "36      Webster Butler     Production             Production Technician II\n",
       "37      Debra Houlihan                 Sales                 Sales Manager\n",
       "38    Brian Champaigne                 IT/IS           Senior BI Developer\n",
       "39          Janet King         Admin Offices       Shared Services Manager\n",
       "40     Alex Sweetwater  Software Engineering             Software Engineer\n",
       "41     Jennifer Zamora  Software Engineering  Software Engineering Manager\n",
       "42  Board of Directors         Admin Offices                Sr. Accountant\n",
       "43  Brandon R. LeBlanc         Admin Offices                Sr. Accountant\n",
       "44          Simon Roup                 IT/IS                       Sr. DBA\n",
       "45        Peter Monroe                 IT/IS          Sr. Network Engineer"
      ]
     },
     "execution_count": 44,
     "metadata": {},
     "output_type": "execute_result"
    }
   ],
   "source": [
    "manager_qual2"
   ]
  },
  {
   "cell_type": "markdown",
   "metadata": {},
   "source": [
    "Пройдемся по всем, чтобы оценить эффективность каждого менеджера.\n",
    "1. Alex Sweetwater - очень хороший рейтинг, лишь один неуспевающий. Просто нужно отправить неуспевающего на PIP.\n",
    "2. Amy Dunn - рейтинг получше, отлично справляется с таким количеством подопечных.\n",
    "3. Совет директоров рассматривать не будем, у них 2 человека по норме.\n",
    "4. Brandon R. LeBlanc справляется нормально.\n",
    "5. Brian Champaigne\t- у него всё нормально, можно к нему отправить некоторых неуспевающих из отдела IT/IS.\n",
    "6. Debra Houlihan - Справляется, планы по исправлению всё должны сгладить. В случае нагрузки  других менеджеров отдела продаж можно передать ей в руководство некоторы работников.\n",
    "7. Eric Dougall - менять нечего, справляется хорошо.\n",
    "8. Janet King - при такой нагрузке справляется  отлично, просто двоих неуспевающих необходимо отправить на PIP.\n",
    "9. Jennifer Zamora - менять нечего, справляется хорошо.\n",
    "10. John Smith - отлично справляется с большой нагрузкой, неуспевающего отправляем на PIP.\n",
    "11. Lynn Daneault - менять нечего, справляется хорошо.\n",
    "12. Peter Monroe - пока всё нормально, но 33% испытательного срока говорят о том, что стоит усилить меры контроля над неуспевающими.\n",
    "13. Simon Roup - более 38% подопечных только с испытательного срока. Нужно принимать меры по отношению к менеджеру, если только это не новенькие.\n",
    "14. Brannon Miller - более 5 неуспевающих, может, стоит перераспределить подопечных.\n",
    "15. David Stanley - менять нечего, справляется хорошо.\n",
    "16. Elijiah Gray - менять нечего, справляется хорошо.\n",
    "17. Kelley Spirea - менять нечего, справляется хорошо.\n",
    "18. Ketsia Liebig - менять нечего, справляется хорошо.\n",
    "19. Kissy Sullivan - более 5 неуспевающих, стоит перераспределить подопечных.\n",
    "20. Michael Albert - более 5 неуспевающих, стоит перераспределить подопечных.\n",
    "21. Webster Butler - более 5 неуспевающих, стоит перераспределить подопечных.\n",
    "\n",
    "Перераспределение подопечных у продукт менеджеров (14-21) значит отдать тем, у кого менять нечего. Продакты - большая часть сотрудников. С ними следует проводить эксперименты, чтобы найти лучшую комбинацию 'менеджер - сотрудники'."
   ]
  },
  {
   "cell_type": "markdown",
   "metadata": {},
   "source": [
    "### 1.1.3 Зависимость предприятия по найму"
   ]
  },
  {
   "cell_type": "markdown",
   "metadata": {},
   "source": [
    "Аналогично с предудыщими вариантами корреляции, запрашиваем данные о каждом предприятии и о произодительности сотрудников, нанятых оттуда."
   ]
  },
  {
   "cell_type": "code",
   "execution_count": 45,
   "metadata": {},
   "outputs": [],
   "source": [
    "sql_str = '''SELECT \"Employee Source\" as source, perf_scoreid as score, COUNT(*) as count\n",
    "FROM hr_dataset\n",
    "WHERE perf_scoreid < 9\n",
    "GROUP BY 1,2\n",
    "ORDER BY 1,2;'''\n",
    "\n",
    "comp_score = pd.read_sql_query(sql_str, conn)"
   ]
  },
  {
   "cell_type": "code",
   "execution_count": 46,
   "metadata": {},
   "outputs": [],
   "source": [
    "sql_str = '''SELECT \"Employee Source\" as source, COUNT(*) as sum\n",
    "FROM hr_dataset\n",
    "WHERE perf_scoreid < 9\n",
    "GROUP BY 1\n",
    "ORDER BY 1;'''\n",
    "\n",
    "comp_count = pd.read_sql_query(sql_str, conn)"
   ]
  },
  {
   "cell_type": "code",
   "execution_count": 47,
   "metadata": {},
   "outputs": [],
   "source": [
    "comp_score = pd.merge(comp_score, comp_count)"
   ]
  },
  {
   "cell_type": "code",
   "execution_count": 48,
   "metadata": {},
   "outputs": [],
   "source": [
    "comp_score[\"percent\"] = round((comp_score[\"count\"]/comp_score[\"sum\"])*100, 2)"
   ]
  },
  {
   "cell_type": "code",
   "execution_count": 49,
   "metadata": {},
   "outputs": [
    {
     "data": {
      "image/png": "[encoded data removed]",
      "text/plain": [
       "<Figure size 432x288 with 1 Axes>"
      ]
     },
     "metadata": {
      "needs_background": "light"
     },
     "output_type": "display_data"
    },
    {
     "data": {
      "image/png": "[encoded data removed]",
      "text/plain": [
       "<Figure size 432x288 with 1 Axes>"
      ]
     },
     "metadata": {
      "needs_background": "light"
     },
     "output_type": "display_data"
    },
    {
     "data": {
      "image/png": "[encoded data removed]",
      "text/plain": [
       "<Figure size 432x288 with 1 Axes>"
      ]
     },
     "metadata": {
      "needs_background": "light"
     },
     "output_type": "display_data"
    },
    {
     "data": {
      "image/png": "[encoded data removed]",
      "text/plain": [
       "<Figure size 432x288 with 1 Axes>"
      ]
     },
     "metadata": {
      "needs_background": "light"
     },
     "output_type": "display_data"
    },
    {
     "data": {
      "image/png": "[encoded data removed]",
      "text/plain": [
       "<Figure size 432x288 with 1 Axes>"
      ]
     },
     "metadata": {
      "needs_background": "light"
     },
     "output_type": "display_data"
    },
    {
     "data": {
      "image/png": "[encoded data removed]",
      "text/plain": [
       "<Figure size 432x288 with 1 Axes>"
      ]
     },
     "metadata": {
      "needs_background": "light"
     },
     "output_type": "display_data"
    },
    {
     "data": {
      "image/png": "[encoded data removed]",
      "text/plain": [
       "<Figure size 432x288 with 1 Axes>"
      ]
     },
     "metadata": {
      "needs_background": "light"
     },
     "output_type": "display_data"
    },
    {
     "data": {
      "image/png": "[encoded data removed]",
      "text/plain": [
       "<Figure size 432x288 with 1 Axes>"
      ]
     },
     "metadata": {
      "needs_background": "light"
     },
     "output_type": "display_data"
    },
    {
     "data": {
      "image/png": "[encoded data removed]",
      "text/plain": [
       "<Figure size 432x288 with 1 Axes>"
      ]
     },
     "metadata": {
      "needs_background": "light"
     },
     "output_type": "display_data"
    },
    {
     "data": {
      "image/png": "[encoded data removed]",
      "text/plain": [
       "<Figure size 432x288 with 1 Axes>"
      ]
     },
     "metadata": {
      "needs_background": "light"
     },
     "output_type": "display_data"
    },
    {
     "data": {
      "image/png": "[encoded data removed]",
      "text/plain": [
       "<Figure size 432x288 with 1 Axes>"
      ]
     },
     "metadata": {
      "needs_background": "light"
     },
     "output_type": "display_data"
    },
    {
     "data": {
      "image/png": "[encoded data removed]",
      "text/plain": [
       "<Figure size 432x288 with 1 Axes>"
      ]
     },
     "metadata": {
      "needs_background": "light"
     },
     "output_type": "display_data"
    },
    {
     "data": {
      "image/png": "[encoded data removed]",
      "text/plain": [
       "<Figure size 432x288 with 1 Axes>"
      ]
     },
     "metadata": {
      "needs_background": "light"
     },
     "output_type": "display_data"
    },
    {
     "data": {
      "image/png": "[encoded data removed]",
      "text/plain": [
       "<Figure size 432x288 with 1 Axes>"
      ]
     },
     "metadata": {
      "needs_background": "light"
     },
     "output_type": "display_data"
    },
    {
     "data": {
      "image/png": "[encoded data removed]",
      "text/plain": [
       "<Figure size 432x288 with 1 Axes>"
      ]
     },
     "metadata": {
      "needs_background": "light"
     },
     "output_type": "display_data"
    },
    {
     "data": {
      "image/png": "[encoded data removed]",
      "text/plain": [
       "<Figure size 432x288 with 1 Axes>"
      ]
     },
     "metadata": {
      "needs_background": "light"
     },
     "output_type": "display_data"
    },
    {
     "data": {
      "image/png": "[encoded data removed]",
      "text/plain": [
       "<Figure size 432x288 with 1 Axes>"
      ]
     },
     "metadata": {
      "needs_background": "light"
     },
     "output_type": "display_data"
    },
    {
     "data": {
      "image/png": "[encoded data removed]",
      "text/plain": [
       "<Figure size 432x288 with 1 Axes>"
      ]
     },
     "metadata": {
      "needs_background": "light"
     },
     "output_type": "display_data"
    },
    {
     "data": {
      "image/png": "[encoded data removed]",
      "text/plain": [
       "<Figure size 432x288 with 1 Axes>"
      ]
     },
     "metadata": {
      "needs_background": "light"
     },
     "output_type": "display_data"
    },
    {
     "data": {
      "image/png": "[encoded data removed]",
      "text/plain": [
       "<Figure size 432x288 with 1 Axes>"
      ]
     },
     "metadata": {
      "needs_background": "light"
     },
     "output_type": "display_data"
    },
    {
     "data": {
      "image/png": "[encoded data removed]",
      "text/plain": [
       "<Figure size 432x288 with 1 Axes>"
      ]
     },
     "metadata": {
      "needs_background": "light"
     },
     "output_type": "display_data"
    },
    {
     "data": {
      "image/png": "[encoded data removed]",
      "text/plain": [
       "<Figure size 432x288 with 1 Axes>"
      ]
     },
     "metadata": {
      "needs_background": "light"
     },
     "output_type": "display_data"
    }
   ],
   "source": [
    "for i in sorted(comps[\"Employment Source\"]):\n",
    "    fig, subplot = plt.subplots()\n",
    "    df = comp_score[comp_score.source == i]\n",
    "    subplot.barh(list(map(str, df.score)), df['percent'])\n",
    "    subplot.set_title(f\"{i}\")\n",
    "    plt.savefig(f\"Companies_Pics/{i.replace('/', '_or_')}.png\")\n"
   ]
  },
  {
   "cell_type": "code",
   "execution_count": 50,
   "metadata": {
    "scrolled": false
   },
   "outputs": [
    {
     "data": {
      "text/plain": [
       "{'Careerbuilder',\n",
       " 'Company Intranet - Partner',\n",
       " 'Information Session',\n",
       " 'Internet Search',\n",
       " 'On-line Web application'}"
      ]
     },
     "execution_count": 50,
     "metadata": {},
     "output_type": "execute_result"
    }
   ],
   "source": [
    "set(comp_score[comp_score[\"sum\"] <= 5].source)"
   ]
  },
  {
   "cell_type": "markdown",
   "metadata": {},
   "source": [
    "Источники, выведенные выше, привели слишком мало сотрудников, чтобы их учитывать, а `Pay Per Click` не привёл вообще никого.\n",
    "Остальные источники распределим по категориям \"доверия\": если у 100% сотрудников от источника производителььность 3 и выше, то этому источнику мы доверям полностью. Если до 20% сотрудников с источника имеют уровень ниже - то доверяем с малыми ограничениями. Если 20-30% не успевают, то со средним ограничением. Ну а до 40% - доеряем с большими ограничениями.\n",
    "В первую группу вошёл только один источник - `On-campus Recruiting`;\n",
    "Во вторую категорию вошли следующие - `Billboard, MBTA ads, Professional Society, Google Bing Yahoo, Vendor Referral `;\n",
    "В третью - `Diversity Job Fair, Employee Referral, Glassdoor, Monster.com, Pay Per Click – Google, Word of Mouth`;\n",
    "В четвертую - `Newspager/Magazine, Other, Social Networks - Facebook Twitter etc, Website Banner Ads`.\n",
    "С бóльшим процентом неуспеваемости источников не встречается.\n",
    "\n",
    "Рекомендации компания должна установить сама, как они будут относиться к этим источникам и что делать с сотрудниками, прибывшими с определённых источников. Однако, ранжирование рекомендуется проводить именно таким образом, поскольку так учитываются средние характеристики всей компании в целом."
   ]
  },
  {
   "cell_type": "markdown",
   "metadata": {},
   "source": [
    "### 1.2 Есть зависимость количества отработанных лет от:"
   ]
  },
  {
   "cell_type": "markdown",
   "metadata": {},
   "source": [
    "* возраста;\n",
    "* брачного статуса."
   ]
  },
  {
   "cell_type": "markdown",
   "metadata": {},
   "source": [
    "Предварительно отберём нужные данные и выстроим корреляцию."
   ]
  },
  {
   "cell_type": "code",
   "execution_count": 51,
   "metadata": {},
   "outputs": [],
   "source": [
    "sql_str = '''SELECT age, maritalstatusid, \"Days Employed\" as days_employed,\"Days Employed\"/365  as years_employed\n",
    "FROM hr_dataset\n",
    "ORDER BY 1;'''\n",
    "exp_main_df = pd.read_sql_query(sql_str, conn)"
   ]
  },
  {
   "cell_type": "code",
   "execution_count": 52,
   "metadata": {},
   "outputs": [
    {
     "data": {
      "text/html": [
       "<div>\n",
       "<style scoped>\n",
       "    .dataframe tbody tr th:only-of-type {\n",
       "        vertical-align: middle;\n",
       "    }\n",
       "\n",
       "    .dataframe tbody tr th {\n",
       "        vertical-align: top;\n",
       "    }\n",
       "\n",
       "    .dataframe thead th {\n",
       "        text-align: right;\n",
       "    }\n",
       "</style>\n",
       "<table border=\"1\" class=\"dataframe\">\n",
       "  <thead>\n",
       "    <tr style=\"text-align: right;\">\n",
       "      <th></th>\n",
       "      <th>age</th>\n",
       "      <th>maritalstatusid</th>\n",
       "      <th>days_employed</th>\n",
       "      <th>years_employed</th>\n",
       "    </tr>\n",
       "  </thead>\n",
       "  <tbody>\n",
       "    <tr>\n",
       "      <th>age</th>\n",
       "      <td>1.000000</td>\n",
       "      <td>0.060354</td>\n",
       "      <td>0.017666</td>\n",
       "      <td>0.021412</td>\n",
       "    </tr>\n",
       "    <tr>\n",
       "      <th>maritalstatusid</th>\n",
       "      <td>0.060354</td>\n",
       "      <td>1.000000</td>\n",
       "      <td>-0.075318</td>\n",
       "      <td>-0.074303</td>\n",
       "    </tr>\n",
       "    <tr>\n",
       "      <th>days_employed</th>\n",
       "      <td>0.017666</td>\n",
       "      <td>-0.075318</td>\n",
       "      <td>1.000000</td>\n",
       "      <td>0.990706</td>\n",
       "    </tr>\n",
       "    <tr>\n",
       "      <th>years_employed</th>\n",
       "      <td>0.021412</td>\n",
       "      <td>-0.074303</td>\n",
       "      <td>0.990706</td>\n",
       "      <td>1.000000</td>\n",
       "    </tr>\n",
       "  </tbody>\n",
       "</table>\n",
       "</div>"
      ],
      "text/plain": [
       "                      age  maritalstatusid  days_employed  years_employed\n",
       "age              1.000000         0.060354       0.017666        0.021412\n",
       "maritalstatusid  0.060354         1.000000      -0.075318       -0.074303\n",
       "days_employed    0.017666        -0.075318       1.000000        0.990706\n",
       "years_employed   0.021412        -0.074303       0.990706        1.000000"
      ]
     },
     "execution_count": 52,
     "metadata": {},
     "output_type": "execute_result"
    }
   ],
   "source": [
    "exp_main_df.corr()"
   ]
  },
  {
   "cell_type": "markdown",
   "metadata": {},
   "source": [
    "Матрица корреляций с задачей справляется не сильно хорошо. Посмотрим, как отработает коэффициент Спирмена. Для этого оставим только поля `год работы, брачный статус и возрастной диапазон`. В данном случае, в поле `age` будут записаны значения, кратные семи\\*. Это будет значить, что сотрудник, у которого брали возраст, колеблется в диапазоне \\[age, age+7).\n",
    "\n",
    "\\* - значение 7 было выбрано экспериментальным путём: оказалось, что при диапазоне с разницей в 7 устанавливается бóльшая корреляция."
   ]
  },
  {
   "cell_type": "code",
   "execution_count": 53,
   "metadata": {},
   "outputs": [],
   "source": [
    "sql_str = '''SELECT (age/7)*7 as age, maritalstatusid, \"Days Employed\"/365  as years_employed\n",
    "FROM hr_dataset\n",
    "ORDER BY 1;'''\n",
    "exp_main_df = pd.read_sql_query(sql_str, conn)"
   ]
  },
  {
   "cell_type": "code",
   "execution_count": 54,
   "metadata": {},
   "outputs": [
    {
     "name": "stdout",
     "output_type": "stream",
     "text": [
      "Correlation with age:0.061376481481460854\n",
      "Correlation with maritalstatusid:-0.10361464629072226\n"
     ]
    }
   ],
   "source": [
    "for i in exp_main_df.columns[:-1]:\n",
    "    print(f\"Correlation with {i}:{qual_corr(exp_main_df.years_employed, exp_main_df[i]).correlation}\")"
   ]
  },
  {
   "cell_type": "markdown",
   "metadata": {},
   "source": [
    "Видим, что значения корреляции повысились. Проанализируем характеристики."
   ]
  },
  {
   "cell_type": "markdown",
   "metadata": {},
   "source": [
    "### 1.2.1 Зависимость от возраста"
   ]
  },
  {
   "cell_type": "code",
   "execution_count": 55,
   "metadata": {},
   "outputs": [],
   "source": [
    "sql_str = '''SELECT (age/7)*7 as age, \"Days Employed\"/365  as years_employed, COUNT(*)\n",
    "FROM hr_dataset\n",
    "GROUP BY 1,2\n",
    "ORDER BY 1;'''\n",
    "age_year = pd.read_sql_query(sql_str, conn)"
   ]
  },
  {
   "cell_type": "code",
   "execution_count": 56,
   "metadata": {},
   "outputs": [],
   "source": [
    "sql_str = '''SELECT (age/7)*7 as age, COUNT(*) as sum\n",
    "FROM hr_dataset\n",
    "GROUP BY 1\n",
    "ORDER BY 1;'''\n",
    "age_count = pd.read_sql_query(sql_str, conn)"
   ]
  },
  {
   "cell_type": "code",
   "execution_count": 57,
   "metadata": {},
   "outputs": [
    {
     "data": {
      "text/html": [
       "<div>\n",
       "<style scoped>\n",
       "    .dataframe tbody tr th:only-of-type {\n",
       "        vertical-align: middle;\n",
       "    }\n",
       "\n",
       "    .dataframe tbody tr th {\n",
       "        vertical-align: top;\n",
       "    }\n",
       "\n",
       "    .dataframe thead th {\n",
       "        text-align: right;\n",
       "    }\n",
       "</style>\n",
       "<table border=\"1\" class=\"dataframe\">\n",
       "  <thead>\n",
       "    <tr style=\"text-align: right;\">\n",
       "      <th></th>\n",
       "      <th>age</th>\n",
       "      <th>sum</th>\n",
       "    </tr>\n",
       "  </thead>\n",
       "  <tbody>\n",
       "    <tr>\n",
       "      <th>0</th>\n",
       "      <td>21</td>\n",
       "      <td>9</td>\n",
       "    </tr>\n",
       "    <tr>\n",
       "      <th>1</th>\n",
       "      <td>28</td>\n",
       "      <td>115</td>\n",
       "    </tr>\n",
       "    <tr>\n",
       "      <th>2</th>\n",
       "      <td>35</td>\n",
       "      <td>84</td>\n",
       "    </tr>\n",
       "    <tr>\n",
       "      <th>3</th>\n",
       "      <td>42</td>\n",
       "      <td>57</td>\n",
       "    </tr>\n",
       "    <tr>\n",
       "      <th>4</th>\n",
       "      <td>49</td>\n",
       "      <td>31</td>\n",
       "    </tr>\n",
       "    <tr>\n",
       "      <th>5</th>\n",
       "      <td>56</td>\n",
       "      <td>5</td>\n",
       "    </tr>\n",
       "    <tr>\n",
       "      <th>6</th>\n",
       "      <td>63</td>\n",
       "      <td>9</td>\n",
       "    </tr>\n",
       "  </tbody>\n",
       "</table>\n",
       "</div>"
      ],
      "text/plain": [
       "   age  sum\n",
       "0   21    9\n",
       "1   28  115\n",
       "2   35   84\n",
       "3   42   57\n",
       "4   49   31\n",
       "5   56    5\n",
       "6   63    9"
      ]
     },
     "execution_count": 57,
     "metadata": {},
     "output_type": "execute_result"
    }
   ],
   "source": [
    "age_count"
   ]
  },
  {
   "cell_type": "code",
   "execution_count": 58,
   "metadata": {},
   "outputs": [],
   "source": [
    "age_year = pd.merge(age_year, age_count)\n",
    "age_year[\"percent\"] = round((age_year[\"count\"]/age_year[\"sum\"])*100, 2)"
   ]
  },
  {
   "cell_type": "code",
   "execution_count": 59,
   "metadata": {},
   "outputs": [],
   "source": [
    "ages = tuple(age_year.age.drop_duplicates())"
   ]
  },
  {
   "cell_type": "code",
   "execution_count": 60,
   "metadata": {},
   "outputs": [
    {
     "data": {
      "image/png": "[encoded data removed]",
      "text/plain": [
       "<Figure size 432x288 with 1 Axes>"
      ]
     },
     "metadata": {
      "needs_background": "light"
     },
     "output_type": "display_data"
    },
    {
     "data": {
      "image/png": "[encoded data removed]",
      "text/plain": [
       "<Figure size 432x288 with 1 Axes>"
      ]
     },
     "metadata": {
      "needs_background": "light"
     },
     "output_type": "display_data"
    },
    {
     "data": {
      "image/png": "[encoded data removed]",
      "text/plain": [
       "<Figure size 432x288 with 1 Axes>"
      ]
     },
     "metadata": {
      "needs_background": "light"
     },
     "output_type": "display_data"
    },
    {
     "data": {
      "image/png": "[encoded data removed]",
      "text/plain": [
       "<Figure size 432x288 with 1 Axes>"
      ]
     },
     "metadata": {
      "needs_background": "light"
     },
     "output_type": "display_data"
    },
    {
     "data": {
      "image/png": "[encoded data removed]",
      "text/plain": [
       "<Figure size 432x288 with 1 Axes>"
      ]
     },
     "metadata": {
      "needs_background": "light"
     },
     "output_type": "display_data"
    },
    {
     "data": {
      "image/png": "[encoded data removed]",
      "text/plain": [
       "<Figure size 432x288 with 1 Axes>"
      ]
     },
     "metadata": {
      "needs_background": "light"
     },
     "output_type": "display_data"
    },
    {
     "data": {
      "image/png": "[encoded data removed]",
      "text/plain": [
       "<Figure size 432x288 with 1 Axes>"
      ]
     },
     "metadata": {
      "needs_background": "light"
     },
     "output_type": "display_data"
    }
   ],
   "source": [
    "for i in ages:\n",
    "    fig, subplot = plt.subplots()\n",
    "    df = age_year[age_year.age == i]\n",
    "    subplot.barh(list(map(str, sorted(df.years_employed))), df['percent'])\n",
    "    subplot.set_title(f\"AGE: {i}-{i+6}\")\n",
    "    plt.savefig(f\"Ages_Pics/{i}.png\")"
   ]
  },
  {
   "cell_type": "markdown",
   "metadata": {},
   "source": [
    "По данным диаграммам можем сказать, что приходят очень многие в компанию примерно до 40 лет. Далее остаются, в основном, \"ветераны\", но бывают и исключения - мало, но приходят и в 56-65. При этом получается, что основная часть тех самых ветеранов - это те, которые пришли в 21-40. Среди поздних лет (56+) не встречается людей, которые работали больше 5 лет. Получается, что это как раз те редкие случаи, когда люди в таком пожилом возрасте меняют карьеру (ведь таких работников в принципе мало). А те, кто приходит в 40, остаётся ненадолго. \n",
    "\n",
    "Получается, что зависимость от возраста очень непростая. Она приобретает значение только если рассматривать его в конкретном диапазоне и только в рамках своего и соседнего диапазона.\n",
    "\n",
    "Рекомендации  следующие - обратить внимание на стимулирование молодых сотрудников (до 40 лет), потому что дольше всего остаются именно они. Те, кто приходит после 40, нестабильны (наверное, тут можно применить термин `кризис среднего возраста`), поэтому сотрудников в таком возрасте и с малым количеством лет работы в этой компании будет правильнее сократить (если есть необходимость сокращать), за исключением случаев, когда они действительно незаменимы. "
   ]
  },
  {
   "cell_type": "markdown",
   "metadata": {},
   "source": [
    "### 1.2.2 Зависимость от брачного статуса"
   ]
  },
  {
   "cell_type": "code",
   "execution_count": 81,
   "metadata": {},
   "outputs": [],
   "source": [
    "sql_str = '''SELECT maritaldesc, \"Days Employed\"/365  as years_employed, COUNT(*)\n",
    "FROM hr_dataset\n",
    "GROUP BY 1,2\n",
    "ORDER BY 1,2;'''\n",
    "marital_year = pd.read_sql_query(sql_str, conn)"
   ]
  },
  {
   "cell_type": "code",
   "execution_count": 85,
   "metadata": {},
   "outputs": [],
   "source": [
    "sql_str = '''SELECT maritaldesc, COUNT(*) as sum, AVG(age) as meanage\n",
    "FROM hr_dataset\n",
    "GROUP BY 1\n",
    "ORDER BY 1'''\n",
    "marital_count = pd.read_sql_query(sql_str, conn)"
   ]
  },
  {
   "cell_type": "code",
   "execution_count": 83,
   "metadata": {},
   "outputs": [
    {
     "data": {
      "text/html": [
       "<div>\n",
       "<style scoped>\n",
       "    .dataframe tbody tr th:only-of-type {\n",
       "        vertical-align: middle;\n",
       "    }\n",
       "\n",
       "    .dataframe tbody tr th {\n",
       "        vertical-align: top;\n",
       "    }\n",
       "\n",
       "    .dataframe thead th {\n",
       "        text-align: right;\n",
       "    }\n",
       "</style>\n",
       "<table border=\"1\" class=\"dataframe\">\n",
       "  <thead>\n",
       "    <tr style=\"text-align: right;\">\n",
       "      <th></th>\n",
       "      <th>maritaldesc</th>\n",
       "      <th>years_employed</th>\n",
       "      <th>count</th>\n",
       "      <th>sum</th>\n",
       "      <th>meanage</th>\n",
       "      <th>percent</th>\n",
       "    </tr>\n",
       "  </thead>\n",
       "  <tbody>\n",
       "    <tr>\n",
       "      <th>0</th>\n",
       "      <td>Divorced</td>\n",
       "      <td>0</td>\n",
       "      <td>9</td>\n",
       "      <td>30</td>\n",
       "      <td>39.000000</td>\n",
       "      <td>30.00</td>\n",
       "    </tr>\n",
       "    <tr>\n",
       "      <th>1</th>\n",
       "      <td>Divorced</td>\n",
       "      <td>1</td>\n",
       "      <td>1</td>\n",
       "      <td>30</td>\n",
       "      <td>39.000000</td>\n",
       "      <td>3.33</td>\n",
       "    </tr>\n",
       "    <tr>\n",
       "      <th>2</th>\n",
       "      <td>Divorced</td>\n",
       "      <td>2</td>\n",
       "      <td>5</td>\n",
       "      <td>30</td>\n",
       "      <td>39.000000</td>\n",
       "      <td>16.67</td>\n",
       "    </tr>\n",
       "    <tr>\n",
       "      <th>3</th>\n",
       "      <td>Divorced</td>\n",
       "      <td>3</td>\n",
       "      <td>5</td>\n",
       "      <td>30</td>\n",
       "      <td>39.000000</td>\n",
       "      <td>16.67</td>\n",
       "    </tr>\n",
       "    <tr>\n",
       "      <th>4</th>\n",
       "      <td>Divorced</td>\n",
       "      <td>4</td>\n",
       "      <td>5</td>\n",
       "      <td>30</td>\n",
       "      <td>39.000000</td>\n",
       "      <td>16.67</td>\n",
       "    </tr>\n",
       "    <tr>\n",
       "      <th>5</th>\n",
       "      <td>Divorced</td>\n",
       "      <td>6</td>\n",
       "      <td>4</td>\n",
       "      <td>30</td>\n",
       "      <td>39.000000</td>\n",
       "      <td>13.33</td>\n",
       "    </tr>\n",
       "    <tr>\n",
       "      <th>6</th>\n",
       "      <td>Divorced</td>\n",
       "      <td>7</td>\n",
       "      <td>1</td>\n",
       "      <td>30</td>\n",
       "      <td>39.000000</td>\n",
       "      <td>3.33</td>\n",
       "    </tr>\n",
       "    <tr>\n",
       "      <th>7</th>\n",
       "      <td>Married</td>\n",
       "      <td>0</td>\n",
       "      <td>16</td>\n",
       "      <td>123</td>\n",
       "      <td>38.691057</td>\n",
       "      <td>13.01</td>\n",
       "    </tr>\n",
       "    <tr>\n",
       "      <th>8</th>\n",
       "      <td>Married</td>\n",
       "      <td>1</td>\n",
       "      <td>20</td>\n",
       "      <td>123</td>\n",
       "      <td>38.691057</td>\n",
       "      <td>16.26</td>\n",
       "    </tr>\n",
       "    <tr>\n",
       "      <th>9</th>\n",
       "      <td>Married</td>\n",
       "      <td>2</td>\n",
       "      <td>20</td>\n",
       "      <td>123</td>\n",
       "      <td>38.691057</td>\n",
       "      <td>16.26</td>\n",
       "    </tr>\n",
       "    <tr>\n",
       "      <th>10</th>\n",
       "      <td>Married</td>\n",
       "      <td>3</td>\n",
       "      <td>22</td>\n",
       "      <td>123</td>\n",
       "      <td>38.691057</td>\n",
       "      <td>17.89</td>\n",
       "    </tr>\n",
       "    <tr>\n",
       "      <th>11</th>\n",
       "      <td>Married</td>\n",
       "      <td>4</td>\n",
       "      <td>14</td>\n",
       "      <td>123</td>\n",
       "      <td>38.691057</td>\n",
       "      <td>11.38</td>\n",
       "    </tr>\n",
       "    <tr>\n",
       "      <th>12</th>\n",
       "      <td>Married</td>\n",
       "      <td>5</td>\n",
       "      <td>16</td>\n",
       "      <td>123</td>\n",
       "      <td>38.691057</td>\n",
       "      <td>13.01</td>\n",
       "    </tr>\n",
       "    <tr>\n",
       "      <th>13</th>\n",
       "      <td>Married</td>\n",
       "      <td>6</td>\n",
       "      <td>8</td>\n",
       "      <td>123</td>\n",
       "      <td>38.691057</td>\n",
       "      <td>6.50</td>\n",
       "    </tr>\n",
       "    <tr>\n",
       "      <th>14</th>\n",
       "      <td>Married</td>\n",
       "      <td>7</td>\n",
       "      <td>3</td>\n",
       "      <td>123</td>\n",
       "      <td>38.691057</td>\n",
       "      <td>2.44</td>\n",
       "    </tr>\n",
       "    <tr>\n",
       "      <th>15</th>\n",
       "      <td>Married</td>\n",
       "      <td>8</td>\n",
       "      <td>2</td>\n",
       "      <td>123</td>\n",
       "      <td>38.691057</td>\n",
       "      <td>1.63</td>\n",
       "    </tr>\n",
       "    <tr>\n",
       "      <th>16</th>\n",
       "      <td>Married</td>\n",
       "      <td>9</td>\n",
       "      <td>2</td>\n",
       "      <td>123</td>\n",
       "      <td>38.691057</td>\n",
       "      <td>1.63</td>\n",
       "    </tr>\n",
       "    <tr>\n",
       "      <th>17</th>\n",
       "      <td>Separated</td>\n",
       "      <td>2</td>\n",
       "      <td>2</td>\n",
       "      <td>12</td>\n",
       "      <td>42.500000</td>\n",
       "      <td>16.67</td>\n",
       "    </tr>\n",
       "    <tr>\n",
       "      <th>18</th>\n",
       "      <td>Separated</td>\n",
       "      <td>3</td>\n",
       "      <td>3</td>\n",
       "      <td>12</td>\n",
       "      <td>42.500000</td>\n",
       "      <td>25.00</td>\n",
       "    </tr>\n",
       "    <tr>\n",
       "      <th>19</th>\n",
       "      <td>Separated</td>\n",
       "      <td>4</td>\n",
       "      <td>5</td>\n",
       "      <td>12</td>\n",
       "      <td>42.500000</td>\n",
       "      <td>41.67</td>\n",
       "    </tr>\n",
       "    <tr>\n",
       "      <th>20</th>\n",
       "      <td>Separated</td>\n",
       "      <td>5</td>\n",
       "      <td>1</td>\n",
       "      <td>12</td>\n",
       "      <td>42.500000</td>\n",
       "      <td>8.33</td>\n",
       "    </tr>\n",
       "    <tr>\n",
       "      <th>21</th>\n",
       "      <td>Separated</td>\n",
       "      <td>11</td>\n",
       "      <td>1</td>\n",
       "      <td>12</td>\n",
       "      <td>42.500000</td>\n",
       "      <td>8.33</td>\n",
       "    </tr>\n",
       "    <tr>\n",
       "      <th>22</th>\n",
       "      <td>Single</td>\n",
       "      <td>0</td>\n",
       "      <td>11</td>\n",
       "      <td>137</td>\n",
       "      <td>38.605839</td>\n",
       "      <td>8.03</td>\n",
       "    </tr>\n",
       "    <tr>\n",
       "      <th>23</th>\n",
       "      <td>Single</td>\n",
       "      <td>1</td>\n",
       "      <td>14</td>\n",
       "      <td>137</td>\n",
       "      <td>38.605839</td>\n",
       "      <td>10.22</td>\n",
       "    </tr>\n",
       "    <tr>\n",
       "      <th>24</th>\n",
       "      <td>Single</td>\n",
       "      <td>2</td>\n",
       "      <td>17</td>\n",
       "      <td>137</td>\n",
       "      <td>38.605839</td>\n",
       "      <td>12.41</td>\n",
       "    </tr>\n",
       "    <tr>\n",
       "      <th>25</th>\n",
       "      <td>Single</td>\n",
       "      <td>3</td>\n",
       "      <td>38</td>\n",
       "      <td>137</td>\n",
       "      <td>38.605839</td>\n",
       "      <td>27.74</td>\n",
       "    </tr>\n",
       "    <tr>\n",
       "      <th>26</th>\n",
       "      <td>Single</td>\n",
       "      <td>4</td>\n",
       "      <td>22</td>\n",
       "      <td>137</td>\n",
       "      <td>38.605839</td>\n",
       "      <td>16.06</td>\n",
       "    </tr>\n",
       "    <tr>\n",
       "      <th>27</th>\n",
       "      <td>Single</td>\n",
       "      <td>5</td>\n",
       "      <td>17</td>\n",
       "      <td>137</td>\n",
       "      <td>38.605839</td>\n",
       "      <td>12.41</td>\n",
       "    </tr>\n",
       "    <tr>\n",
       "      <th>28</th>\n",
       "      <td>Single</td>\n",
       "      <td>6</td>\n",
       "      <td>12</td>\n",
       "      <td>137</td>\n",
       "      <td>38.605839</td>\n",
       "      <td>8.76</td>\n",
       "    </tr>\n",
       "    <tr>\n",
       "      <th>29</th>\n",
       "      <td>Single</td>\n",
       "      <td>7</td>\n",
       "      <td>3</td>\n",
       "      <td>137</td>\n",
       "      <td>38.605839</td>\n",
       "      <td>2.19</td>\n",
       "    </tr>\n",
       "    <tr>\n",
       "      <th>30</th>\n",
       "      <td>Single</td>\n",
       "      <td>8</td>\n",
       "      <td>2</td>\n",
       "      <td>137</td>\n",
       "      <td>38.605839</td>\n",
       "      <td>1.46</td>\n",
       "    </tr>\n",
       "    <tr>\n",
       "      <th>31</th>\n",
       "      <td>Single</td>\n",
       "      <td>10</td>\n",
       "      <td>1</td>\n",
       "      <td>137</td>\n",
       "      <td>38.605839</td>\n",
       "      <td>0.73</td>\n",
       "    </tr>\n",
       "    <tr>\n",
       "      <th>32</th>\n",
       "      <td>Widowed</td>\n",
       "      <td>0</td>\n",
       "      <td>2</td>\n",
       "      <td>8</td>\n",
       "      <td>40.125000</td>\n",
       "      <td>25.00</td>\n",
       "    </tr>\n",
       "    <tr>\n",
       "      <th>33</th>\n",
       "      <td>Widowed</td>\n",
       "      <td>1</td>\n",
       "      <td>1</td>\n",
       "      <td>8</td>\n",
       "      <td>40.125000</td>\n",
       "      <td>12.50</td>\n",
       "    </tr>\n",
       "    <tr>\n",
       "      <th>34</th>\n",
       "      <td>Widowed</td>\n",
       "      <td>2</td>\n",
       "      <td>1</td>\n",
       "      <td>8</td>\n",
       "      <td>40.125000</td>\n",
       "      <td>12.50</td>\n",
       "    </tr>\n",
       "    <tr>\n",
       "      <th>35</th>\n",
       "      <td>Widowed</td>\n",
       "      <td>3</td>\n",
       "      <td>2</td>\n",
       "      <td>8</td>\n",
       "      <td>40.125000</td>\n",
       "      <td>25.00</td>\n",
       "    </tr>\n",
       "    <tr>\n",
       "      <th>36</th>\n",
       "      <td>Widowed</td>\n",
       "      <td>4</td>\n",
       "      <td>2</td>\n",
       "      <td>8</td>\n",
       "      <td>40.125000</td>\n",
       "      <td>25.00</td>\n",
       "    </tr>\n",
       "  </tbody>\n",
       "</table>\n",
       "</div>"
      ],
      "text/plain": [
       "   maritaldesc  years_employed  count  sum    meanage  percent\n",
       "0     Divorced               0      9   30  39.000000    30.00\n",
       "1     Divorced               1      1   30  39.000000     3.33\n",
       "2     Divorced               2      5   30  39.000000    16.67\n",
       "3     Divorced               3      5   30  39.000000    16.67\n",
       "4     Divorced               4      5   30  39.000000    16.67\n",
       "5     Divorced               6      4   30  39.000000    13.33\n",
       "6     Divorced               7      1   30  39.000000     3.33\n",
       "7      Married               0     16  123  38.691057    13.01\n",
       "8      Married               1     20  123  38.691057    16.26\n",
       "9      Married               2     20  123  38.691057    16.26\n",
       "10     Married               3     22  123  38.691057    17.89\n",
       "11     Married               4     14  123  38.691057    11.38\n",
       "12     Married               5     16  123  38.691057    13.01\n",
       "13     Married               6      8  123  38.691057     6.50\n",
       "14     Married               7      3  123  38.691057     2.44\n",
       "15     Married               8      2  123  38.691057     1.63\n",
       "16     Married               9      2  123  38.691057     1.63\n",
       "17   Separated               2      2   12  42.500000    16.67\n",
       "18   Separated               3      3   12  42.500000    25.00\n",
       "19   Separated               4      5   12  42.500000    41.67\n",
       "20   Separated               5      1   12  42.500000     8.33\n",
       "21   Separated              11      1   12  42.500000     8.33\n",
       "22      Single               0     11  137  38.605839     8.03\n",
       "23      Single               1     14  137  38.605839    10.22\n",
       "24      Single               2     17  137  38.605839    12.41\n",
       "25      Single               3     38  137  38.605839    27.74\n",
       "26      Single               4     22  137  38.605839    16.06\n",
       "27      Single               5     17  137  38.605839    12.41\n",
       "28      Single               6     12  137  38.605839     8.76\n",
       "29      Single               7      3  137  38.605839     2.19\n",
       "30      Single               8      2  137  38.605839     1.46\n",
       "31      Single              10      1  137  38.605839     0.73\n",
       "32     Widowed               0      2    8  40.125000    25.00\n",
       "33     Widowed               1      1    8  40.125000    12.50\n",
       "34     Widowed               2      1    8  40.125000    12.50\n",
       "35     Widowed               3      2    8  40.125000    25.00\n",
       "36     Widowed               4      2    8  40.125000    25.00"
      ]
     },
     "execution_count": 83,
     "metadata": {},
     "output_type": "execute_result"
    }
   ],
   "source": [
    "marital_year = pd.merge(marital_year, marital_count)\n",
    "marital_year[\"percent\"] = round((marital_year[\"count\"]/marital_year[\"sum\"])*100, 2)\n",
    "marital_year"
   ]
  },
  {
   "cell_type": "code",
   "execution_count": 87,
   "metadata": {},
   "outputs": [],
   "source": [
    "sql_str = '''SELECT maritaldesc, age as meanage\n",
    "FROM hr_dataset\n",
    "ORDER BY 1'''\n",
    "marital_age = pd.read_sql_query(sql_str, conn)"
   ]
  },
  {
   "cell_type": "code",
   "execution_count": 94,
   "metadata": {},
   "outputs": [
    {
     "data": {
      "text/html": [
       "<div>\n",
       "<style scoped>\n",
       "    .dataframe tbody tr th:only-of-type {\n",
       "        vertical-align: middle;\n",
       "    }\n",
       "\n",
       "    .dataframe tbody tr th {\n",
       "        vertical-align: top;\n",
       "    }\n",
       "\n",
       "    .dataframe thead th {\n",
       "        text-align: right;\n",
       "    }\n",
       "</style>\n",
       "<table border=\"1\" class=\"dataframe\">\n",
       "  <thead>\n",
       "    <tr style=\"text-align: right;\">\n",
       "      <th></th>\n",
       "      <th>meanage</th>\n",
       "    </tr>\n",
       "    <tr>\n",
       "      <th>maritaldesc</th>\n",
       "      <th></th>\n",
       "    </tr>\n",
       "  </thead>\n",
       "  <tbody>\n",
       "    <tr>\n",
       "      <th>Divorced</th>\n",
       "      <td>35.5</td>\n",
       "    </tr>\n",
       "    <tr>\n",
       "      <th>Married</th>\n",
       "      <td>38.0</td>\n",
       "    </tr>\n",
       "    <tr>\n",
       "      <th>Separated</th>\n",
       "      <td>43.0</td>\n",
       "    </tr>\n",
       "    <tr>\n",
       "      <th>Single</th>\n",
       "      <td>36.0</td>\n",
       "    </tr>\n",
       "    <tr>\n",
       "      <th>Widowed</th>\n",
       "      <td>40.5</td>\n",
       "    </tr>\n",
       "  </tbody>\n",
       "</table>\n",
       "</div>"
      ],
      "text/plain": [
       "             meanage\n",
       "maritaldesc         \n",
       "Divorced        35.5\n",
       "Married         38.0\n",
       "Separated       43.0\n",
       "Single          36.0\n",
       "Widowed         40.5"
      ]
     },
     "execution_count": 94,
     "metadata": {},
     "output_type": "execute_result"
    }
   ],
   "source": [
    "marital_age.groupby(\"maritaldesc\").median() # медианный возраст сотрудников по отделам"
   ]
  },
  {
   "cell_type": "code",
   "execution_count": 80,
   "metadata": {
    "scrolled": true
   },
   "outputs": [
    {
     "data": {
      "image/png": "[encoded data removed]",
      "text/plain": [
       "<Figure size 432x288 with 1 Axes>"
      ]
     },
     "metadata": {
      "needs_background": "light"
     },
     "output_type": "display_data"
    },
    {
     "data": {
      "image/png": "[encoded data removed]",
      "text/plain": [
       "<Figure size 432x288 with 1 Axes>"
      ]
     },
     "metadata": {
      "needs_background": "light"
     },
     "output_type": "display_data"
    },
    {
     "data": {
      "image/png": "[encoded data removed]",
      "text/plain": [
       "<Figure size 432x288 with 1 Axes>"
      ]
     },
     "metadata": {
      "needs_background": "light"
     },
     "output_type": "display_data"
    },
    {
     "data": {
      "image/png": "[encoded data removed]",
      "text/plain": [
       "<Figure size 432x288 with 1 Axes>"
      ]
     },
     "metadata": {
      "needs_background": "light"
     },
     "output_type": "display_data"
    },
    {
     "data": {
      "image/png": "[encoded data removed]",
      "text/plain": [
       "<Figure size 432x288 with 1 Axes>"
      ]
     },
     "metadata": {
      "needs_background": "light"
     },
     "output_type": "display_data"
    }
   ],
   "source": [
    "for i in marital.maritaldesc:\n",
    "    fig, subplot = plt.subplots()\n",
    "    df = marital_year[marital_year.maritaldesc == i]\n",
    "    subplot.barh(list(map(str, sorted(df.years_employed))), df['percent'])\n",
    "    subplot.set_title(f\"{i}\")\n",
    "    plt.savefig(f\"Marital_Pics/{i}.png\")"
   ]
  },
  {
   "cell_type": "markdown",
   "metadata": {},
   "source": [
    "Диаграмы выше дают нам следующую информацию: большая часть сотрудников хотя бы когда-то была жената, однако на продолжительность работы это влияет немного иначе, чем ожидается. Отрицательный знак корреляции Спирмена говорит о том, что при возрастании id брачного статуса падает продолжительность работы. И это замечается в числе вдовствующих - они, относительно, новички. Стоит предположить, что потеря супруга происходит в довольно позднем возрасте и такие кардинальные перемены в личной жизни влияют на смену карьеры.\n",
    "\n",
    "Далее, большим процентом долго работающих обладают разведённые, а 11 лет работы среди раздельно живущих - аномалия. Но на наиболее долгую карьеру обеспечены женатые и одинокие, судя по численному превосходству тех, кто отработал 5 или более лет. \n",
    "\n",
    "Рекомендация - обращать внимание на одиноких и молодых (до 30 лет) и стараться брать на работу именно этих кандидатов. После них идут женатые и молодые. К тем, кто старше 60 - относится с крайней осторожностью. И если есть выбор между разведённым, отдельно живущим и овдовевшим, то выбор нужно делать в пользу первого."
   ]
  },
  {
   "cell_type": "markdown",
   "metadata": {},
   "source": [
    "## Часть вторая"
   ]
  },
  {
   "cell_type": "markdown",
   "metadata": {
    "colab_type": "text",
    "id": "8vS_kLIvHVAV"
   },
   "source": [
    "Перед вами стоит задача – подготовить аналитический ответ для SMM-отдела компании Skillbox. <br> Объектом анализа является  [паблик Skillbox Вконтакте](https://vk.com/skillbox_education). <br> <br> \n",
    "Подключитесь к  API VK и выгрузите посты со стены паблика Skillbox за интересующий период (определите самостоятельно и обоснуйте). Проанализируйте влияние различных факторов (например, времени публикации) на вовлеченность пользователей (количество лайков, комментариев, голосов в опросах). Сделайте аналитику по рубрикам (примеры рубрик: дизайн-битва, игра по управлению), которые есть в паблике. Выбрать нужные посты можно с помощью регулярных выражений. Составьте перечень рекомандаций для SMM-отдела по итогам анализа. <br> <br> \n",
    "\n",
    "Дополнительные инструкции по работе с API VK расположены [здесь](https://nbviewer.jupyter.org/github/vikaborel/dstutorials/blob/master/Дополнительные%20инструкции.ipynb)."
   ]
  },
  {
   "cell_type": "code",
   "execution_count": 62,
   "metadata": {
    "colab": {},
    "colab_type": "code",
    "id": "7SzjqiQLHVAW"
   },
   "outputs": [],
   "source": [
    "### YOUR CODE HERE ###\n",
    "\n",
    "\n"
   ]
  }
 ],
 "metadata": {
  "colab": {
   "collapsed_sections": [],
   "name": "Coursework_analytics_2.ipynb",
   "provenance": []
  },
  "kernelspec": {
   "display_name": "Python 3",
   "language": "python",
   "name": "python3"
  },
  "language_info": {
   "codemirror_mode": {
    "name": "ipython",
    "version": 3
   },
   "file_extension": ".py",
   "mimetype": "text/x-python",
   "name": "python",
   "nbconvert_exporter": "python",
   "pygments_lexer": "ipython3",
   "version": "3.7.3"
  }
 },
 "nbformat": 4,
 "nbformat_minor": 1
}
